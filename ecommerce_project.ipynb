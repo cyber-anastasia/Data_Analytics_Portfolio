{
 "cells": [
  {
   "cell_type": "markdown",
   "metadata": {},
   "source": [
    "# Проект по e-commerce \n",
    "\n",
    "**Описание проекта:** площадка электронной коммерции занимается продажей товаров различных продавцов и доставкой заказов до конечного покупателя. Все события от создания клиентом заказа до его доставки записываются в 3 таблицы.\n",
    "\n",
    "**Описание имеющихся данных:**\n",
    "\n",
    "`customers_df.csv` — **таблица с уникальными идентификаторами пользователей**\n",
    "    \n",
    "- customer_id — позаказный идентификатор пользователя\n",
    "- customer_unique_id —  уникальный идентификатор пользователя  (аналог номера паспорта)\n",
    "- customer_zip_code_prefix —  почтовый индекс пользователя\n",
    "- customer_city —  город доставки пользователя\n",
    "- customer_state —  штат доставки пользователя\n",
    "    \n",
    "`orders_df.csv` —  **таблица заказов**\n",
    "\n",
    "- order_id —  уникальный идентификатор заказа (номер чека)\n",
    "- customer_id —  позаказный идентификатор пользователя\n",
    "- order_status —  статус заказа\n",
    "- order_purchase_timestamp —  время создания заказа\n",
    "- order_approved_at —  время подтверждения оплаты заказа\n",
    "- order_delivered_carrier_date —  время передачи заказа в логистическую службу\n",
    "- order_delivered_customer_date —  время доставки заказа\n",
    "- order_estimated_delivery_date —  обещанная дата доставки\n",
    "\n",
    "Уникальные статусы заказов в таблице `orders_df`:\n",
    "\n",
    "* created —  создан\n",
    "* approved —  подтверждён\n",
    "* invoiced —  выставлен счёт\n",
    "* processing —  в процессе сборки заказа\n",
    "* shipped —  отгружен со склада\n",
    "* delivered —  доставлен пользователю\n",
    "* unavailable —  недоступен\n",
    "* canceled —  отменён\n",
    "\n",
    "`items_df.csv` —  **товарные позиции, входящие в заказы**\n",
    "\n",
    "- order_id —  уникальный идентификатор заказа (номер чека)\n",
    "- order_item_id —  идентификатор товара внутри одного заказа\n",
    "- product_id —  ид товара (аналог штрихкода)\n",
    "- seller_id — ид производителя товара\n",
    "- shipping_limit_date —  максимальная дата доставки продавцом для передачи заказа партнеру по логистике\n",
    "- price —  цена за единицу товара\n",
    "- freight_value —  вес товара"
   ]
  },
  {
   "cell_type": "markdown",
   "metadata": {},
   "source": [
    "**Вопросы для исследования:**\n",
    "\n",
    "0. ✅ Что должно считаться покупкой?\n",
    "\n",
    "1. ✅ Сколько у нас пользователей, которые совершили покупку только один раз?\n",
    "\n",
    "2. ✅ Сколько заказов в месяц в среднем не доставляется по разным причинам? Вывести детализацию по причинам.\n",
    "\n",
    "3. ✅ По каждому товару определить, в какой день недели он чаще всего покупается.\n",
    "\n",
    "4. ✅ Сколько у каждого из пользователей в среднем покупок в неделю (по месяцам)? Учесть, что внутри месяца может быть не целое количество недель (в ноябре 2021 года 4,28 недели). \n",
    "\n",
    "5. ✅ Провести когортный анализ пользователей. Какая когорта в период с января по декабрь имела самый высокий retention на 3й месяц?\n",
    "\n",
    "6. ✅ Провести RFM-сегментацию пользователей. Описать подход к созданию сегментов. Для каждого RFM-сегмента обозначить границы метрик R,F,M."
   ]
  },
  {
   "cell_type": "markdown",
   "metadata": {},
   "source": [
    "---\n",
    "## 🔎 Предварительный анализ данных"
   ]
  },
  {
   "cell_type": "markdown",
   "metadata": {},
   "source": [
    "#### 0. Загружаем данные\n",
    "\n",
    "Получаем нужные csv-файлы по ссылкам с Яндекс.Диска с помощью библиотек `urllib` и `requests`, парсим даты как даты"
   ]
  },
  {
   "cell_type": "code",
   "execution_count": 1,
   "metadata": {},
   "outputs": [],
   "source": [
    "import numpy as np\n",
    "import pandas as pd \n",
    "import datetime as dt\n",
    "import seaborn as sns\n",
    "import matplotlib.pyplot as plt\n",
    "\n",
    "plt.rcParams[\"figure.figsize\"] = (20,5)\n",
    "sns.set_style(\"whitegrid\")\n",
    "\n",
    "import warnings\n",
    "warnings.filterwarnings(\"ignore\")"
   ]
  },
  {
   "cell_type": "code",
   "execution_count": 2,
   "metadata": {},
   "outputs": [],
   "source": [
    "# библиотеки для скачивания файлов с url\n",
    "import requests \n",
    "from urllib.parse import urlencode\n",
    "\n",
    "# функция для скачивания файлов с Яндекс Диска\n",
    "def get_download_url_yandexdisc(public_key):\n",
    "    base_url = 'https://cloud-api.yandex.net/v1/disk/public/resources/download?'\n",
    "    final_url = base_url + urlencode(dict(public_key=public_key))\n",
    "    response = requests.get(final_url)\n",
    "    download_url = response.json()['href']\n",
    "    download_response = requests.get(download_url)\n",
    "    return download_url"
   ]
  },
  {
   "cell_type": "code",
   "execution_count": 3,
   "metadata": {},
   "outputs": [],
   "source": [
    "customers_df_pk = 'https://disk.yandex.ru/d/QXrVDUoQvFhIcg'\n",
    "orders_df_pk = 'https://disk.yandex.ru/d/0zWmh1bYP6REbw'\n",
    "items_df_pk = 'https://disk.yandex.ru/d/xCsQ0FiC-Ue4Lg'"
   ]
  },
  {
   "cell_type": "code",
   "execution_count": 4,
   "metadata": {},
   "outputs": [
    {
     "ename": "KeyError",
     "evalue": "'href'",
     "output_type": "error",
     "traceback": [
      "\u001b[0;31m---------------------------------------------------------------------------\u001b[0m",
      "\u001b[0;31mKeyError\u001b[0m                                  Traceback (most recent call last)",
      "\u001b[0;32m<ipython-input-4-414659cbccd5>\u001b[0m in \u001b[0;36m<module>\u001b[0;34m\u001b[0m\n\u001b[0;32m----> 1\u001b[0;31m \u001b[0mcustomers_df\u001b[0m \u001b[0;34m=\u001b[0m \u001b[0mpd\u001b[0m\u001b[0;34m.\u001b[0m\u001b[0mread_csv\u001b[0m\u001b[0;34m(\u001b[0m\u001b[0mget_download_url_yandexdisc\u001b[0m\u001b[0;34m(\u001b[0m\u001b[0mcustomers_df_pk\u001b[0m\u001b[0;34m)\u001b[0m\u001b[0;34m)\u001b[0m\u001b[0;34m\u001b[0m\u001b[0;34m\u001b[0m\u001b[0m\n\u001b[0m\u001b[1;32m      2\u001b[0m orders_df = pd.read_csv(get_download_url_yandexdisc(orders_df_pk), \n\u001b[1;32m      3\u001b[0m                                    parse_dates = [\n\u001b[1;32m      4\u001b[0m                                        \u001b[0;34m'order_purchase_timestamp'\u001b[0m\u001b[0;34m,\u001b[0m\u001b[0;34m\u001b[0m\u001b[0;34m\u001b[0m\u001b[0m\n\u001b[1;32m      5\u001b[0m                                        \u001b[0;34m'order_approved_at'\u001b[0m\u001b[0;34m,\u001b[0m\u001b[0;34m\u001b[0m\u001b[0;34m\u001b[0m\u001b[0m\n",
      "\u001b[0;32m<ipython-input-2-14410ea1a50b>\u001b[0m in \u001b[0;36mget_download_url_yandexdisc\u001b[0;34m(public_key)\u001b[0m\n\u001b[1;32m      8\u001b[0m     \u001b[0mfinal_url\u001b[0m \u001b[0;34m=\u001b[0m \u001b[0mbase_url\u001b[0m \u001b[0;34m+\u001b[0m \u001b[0murlencode\u001b[0m\u001b[0;34m(\u001b[0m\u001b[0mdict\u001b[0m\u001b[0;34m(\u001b[0m\u001b[0mpublic_key\u001b[0m\u001b[0;34m=\u001b[0m\u001b[0mpublic_key\u001b[0m\u001b[0;34m)\u001b[0m\u001b[0;34m)\u001b[0m\u001b[0;34m\u001b[0m\u001b[0;34m\u001b[0m\u001b[0m\n\u001b[1;32m      9\u001b[0m     \u001b[0mresponse\u001b[0m \u001b[0;34m=\u001b[0m \u001b[0mrequests\u001b[0m\u001b[0;34m.\u001b[0m\u001b[0mget\u001b[0m\u001b[0;34m(\u001b[0m\u001b[0mfinal_url\u001b[0m\u001b[0;34m)\u001b[0m\u001b[0;34m\u001b[0m\u001b[0;34m\u001b[0m\u001b[0m\n\u001b[0;32m---> 10\u001b[0;31m     \u001b[0mdownload_url\u001b[0m \u001b[0;34m=\u001b[0m \u001b[0mresponse\u001b[0m\u001b[0;34m.\u001b[0m\u001b[0mjson\u001b[0m\u001b[0;34m(\u001b[0m\u001b[0;34m)\u001b[0m\u001b[0;34m[\u001b[0m\u001b[0;34m'href'\u001b[0m\u001b[0;34m]\u001b[0m\u001b[0;34m\u001b[0m\u001b[0;34m\u001b[0m\u001b[0m\n\u001b[0m\u001b[1;32m     11\u001b[0m     \u001b[0mdownload_response\u001b[0m \u001b[0;34m=\u001b[0m \u001b[0mrequests\u001b[0m\u001b[0;34m.\u001b[0m\u001b[0mget\u001b[0m\u001b[0;34m(\u001b[0m\u001b[0mdownload_url\u001b[0m\u001b[0;34m)\u001b[0m\u001b[0;34m\u001b[0m\u001b[0;34m\u001b[0m\u001b[0m\n\u001b[1;32m     12\u001b[0m     \u001b[0;32mreturn\u001b[0m \u001b[0mdownload_url\u001b[0m\u001b[0;34m\u001b[0m\u001b[0;34m\u001b[0m\u001b[0m\n",
      "\u001b[0;31mKeyError\u001b[0m: 'href'"
     ]
    }
   ],
   "source": [
    "customers_df = pd.read_csv(get_download_url_yandexdisc(customers_df_pk))\n",
    "orders_df = pd.read_csv(get_download_url_yandexdisc(orders_df_pk), \n",
    "                                   parse_dates = [\n",
    "                                       'order_purchase_timestamp', \n",
    "                                       'order_approved_at',\n",
    "                                       'order_delivered_carrier_date',\n",
    "                                       'order_delivered_customer_date',\n",
    "                                       'order_estimated_delivery_date'\n",
    "                                   ])\n",
    "items_df = pd.read_csv(get_download_url_yandexdisc(items_df_pk), \n",
    "                                        parse_dates = ['shipping_limit_date'])"
   ]
  },
  {
   "cell_type": "markdown",
   "metadata": {},
   "source": [
    "Если не работает ссылка с Яндекс.Диска:"
   ]
  },
  {
   "cell_type": "code",
   "execution_count": 5,
   "metadata": {},
   "outputs": [],
   "source": [
    "customers_df = pd.read_csv('olist_customers_dataset.csv')\n",
    "orders_df = pd.read_csv('olist_orders_dataset.csv', \n",
    "                                   parse_dates = [\n",
    "                                       'order_purchase_timestamp', \n",
    "                                       'order_approved_at',\n",
    "                                       'order_delivered_carrier_date',\n",
    "                                       'order_delivered_customer_date',\n",
    "                                       'order_estimated_delivery_date'\n",
    "                                   ])\n",
    "items_df = pd.read_csv('olist_order_items_dataset.csv', \n",
    "                                        parse_dates = ['shipping_limit_date'])"
   ]
  },
  {
   "cell_type": "markdown",
   "metadata": {},
   "source": [
    "#### I. Смотрим на типы данных и на структуру их хранения"
   ]
  },
  {
   "cell_type": "markdown",
   "metadata": {},
   "source": [
    "Посмотрим на первые строки таблиц, их размер и число уникальных значений по каждому столбцу, чтобы узнать, по какому принципу организовано хранение данных в таблицах. \n",
    "\n",
    "`customers_df`:"
   ]
  },
  {
   "cell_type": "code",
   "execution_count": 6,
   "metadata": {
    "scrolled": false
   },
   "outputs": [
    {
     "data": {
      "text/html": [
       "<div>\n",
       "<style scoped>\n",
       "    .dataframe tbody tr th:only-of-type {\n",
       "        vertical-align: middle;\n",
       "    }\n",
       "\n",
       "    .dataframe tbody tr th {\n",
       "        vertical-align: top;\n",
       "    }\n",
       "\n",
       "    .dataframe thead th {\n",
       "        text-align: right;\n",
       "    }\n",
       "</style>\n",
       "<table border=\"1\" class=\"dataframe\">\n",
       "  <thead>\n",
       "    <tr style=\"text-align: right;\">\n",
       "      <th></th>\n",
       "      <th>customer_id</th>\n",
       "      <th>customer_unique_id</th>\n",
       "      <th>customer_zip_code_prefix</th>\n",
       "      <th>customer_city</th>\n",
       "      <th>customer_state</th>\n",
       "    </tr>\n",
       "  </thead>\n",
       "  <tbody>\n",
       "    <tr>\n",
       "      <th>0</th>\n",
       "      <td>06b8999e2fba1a1fbc88172c00ba8bc7</td>\n",
       "      <td>861eff4711a542e4b93843c6dd7febb0</td>\n",
       "      <td>14409</td>\n",
       "      <td>franca</td>\n",
       "      <td>SP</td>\n",
       "    </tr>\n",
       "    <tr>\n",
       "      <th>1</th>\n",
       "      <td>18955e83d337fd6b2def6b18a428ac77</td>\n",
       "      <td>290c77bc529b7ac935b93aa66c333dc3</td>\n",
       "      <td>9790</td>\n",
       "      <td>sao bernardo do campo</td>\n",
       "      <td>SP</td>\n",
       "    </tr>\n",
       "    <tr>\n",
       "      <th>2</th>\n",
       "      <td>4e7b3e00288586ebd08712fdd0374a03</td>\n",
       "      <td>060e732b5b29e8181a18229c7b0b2b5e</td>\n",
       "      <td>1151</td>\n",
       "      <td>sao paulo</td>\n",
       "      <td>SP</td>\n",
       "    </tr>\n",
       "    <tr>\n",
       "      <th>3</th>\n",
       "      <td>b2b6027bc5c5109e529d4dc6358b12c3</td>\n",
       "      <td>259dac757896d24d7702b9acbbff3f3c</td>\n",
       "      <td>8775</td>\n",
       "      <td>mogi das cruzes</td>\n",
       "      <td>SP</td>\n",
       "    </tr>\n",
       "    <tr>\n",
       "      <th>4</th>\n",
       "      <td>4f2d8ab171c80ec8364f7c12e35b23ad</td>\n",
       "      <td>345ecd01c38d18a9036ed96c73b8d066</td>\n",
       "      <td>13056</td>\n",
       "      <td>campinas</td>\n",
       "      <td>SP</td>\n",
       "    </tr>\n",
       "  </tbody>\n",
       "</table>\n",
       "</div>"
      ],
      "text/plain": [
       "                        customer_id                customer_unique_id  \\\n",
       "0  06b8999e2fba1a1fbc88172c00ba8bc7  861eff4711a542e4b93843c6dd7febb0   \n",
       "1  18955e83d337fd6b2def6b18a428ac77  290c77bc529b7ac935b93aa66c333dc3   \n",
       "2  4e7b3e00288586ebd08712fdd0374a03  060e732b5b29e8181a18229c7b0b2b5e   \n",
       "3  b2b6027bc5c5109e529d4dc6358b12c3  259dac757896d24d7702b9acbbff3f3c   \n",
       "4  4f2d8ab171c80ec8364f7c12e35b23ad  345ecd01c38d18a9036ed96c73b8d066   \n",
       "\n",
       "   customer_zip_code_prefix          customer_city customer_state  \n",
       "0                     14409                 franca             SP  \n",
       "1                      9790  sao bernardo do campo             SP  \n",
       "2                      1151              sao paulo             SP  \n",
       "3                      8775        mogi das cruzes             SP  \n",
       "4                     13056               campinas             SP  "
      ]
     },
     "execution_count": 6,
     "metadata": {},
     "output_type": "execute_result"
    }
   ],
   "source": [
    "customers_df.head()"
   ]
  },
  {
   "cell_type": "code",
   "execution_count": 7,
   "metadata": {
    "scrolled": false
   },
   "outputs": [
    {
     "name": "stdout",
     "output_type": "stream",
     "text": [
      "(99441, 5)\n"
     ]
    },
    {
     "data": {
      "text/html": [
       "<div>\n",
       "<style scoped>\n",
       "    .dataframe tbody tr th:only-of-type {\n",
       "        vertical-align: middle;\n",
       "    }\n",
       "\n",
       "    .dataframe tbody tr th {\n",
       "        vertical-align: top;\n",
       "    }\n",
       "\n",
       "    .dataframe thead th {\n",
       "        text-align: right;\n",
       "    }\n",
       "</style>\n",
       "<table border=\"1\" class=\"dataframe\">\n",
       "  <thead>\n",
       "    <tr style=\"text-align: right;\">\n",
       "      <th></th>\n",
       "      <th>dtypes</th>\n",
       "      <th>nunique</th>\n",
       "    </tr>\n",
       "  </thead>\n",
       "  <tbody>\n",
       "    <tr>\n",
       "      <th>customer_id</th>\n",
       "      <td>object</td>\n",
       "      <td>99441</td>\n",
       "    </tr>\n",
       "    <tr>\n",
       "      <th>customer_unique_id</th>\n",
       "      <td>object</td>\n",
       "      <td>96096</td>\n",
       "    </tr>\n",
       "    <tr>\n",
       "      <th>customer_zip_code_prefix</th>\n",
       "      <td>int64</td>\n",
       "      <td>14994</td>\n",
       "    </tr>\n",
       "    <tr>\n",
       "      <th>customer_city</th>\n",
       "      <td>object</td>\n",
       "      <td>4119</td>\n",
       "    </tr>\n",
       "    <tr>\n",
       "      <th>customer_state</th>\n",
       "      <td>object</td>\n",
       "      <td>27</td>\n",
       "    </tr>\n",
       "  </tbody>\n",
       "</table>\n",
       "</div>"
      ],
      "text/plain": [
       "                          dtypes  nunique\n",
       "customer_id               object    99441\n",
       "customer_unique_id        object    96096\n",
       "customer_zip_code_prefix   int64    14994\n",
       "customer_city             object     4119\n",
       "customer_state            object       27"
      ]
     },
     "execution_count": 7,
     "metadata": {},
     "output_type": "execute_result"
    }
   ],
   "source": [
    "print(customers_df.shape)\n",
    "pd.DataFrame({'dtypes':customers_df.dtypes, 'nunique':customers_df.nunique()})"
   ]
  },
  {
   "cell_type": "markdown",
   "metadata": {},
   "source": [
    "В таблице `customers_df`, по всей видимости, первичным ключом является позаказный `customer_id`."
   ]
  },
  {
   "cell_type": "markdown",
   "metadata": {},
   "source": [
    "`orders_df`:"
   ]
  },
  {
   "cell_type": "code",
   "execution_count": 8,
   "metadata": {
    "scrolled": false
   },
   "outputs": [
    {
     "data": {
      "text/html": [
       "<div>\n",
       "<style scoped>\n",
       "    .dataframe tbody tr th:only-of-type {\n",
       "        vertical-align: middle;\n",
       "    }\n",
       "\n",
       "    .dataframe tbody tr th {\n",
       "        vertical-align: top;\n",
       "    }\n",
       "\n",
       "    .dataframe thead th {\n",
       "        text-align: right;\n",
       "    }\n",
       "</style>\n",
       "<table border=\"1\" class=\"dataframe\">\n",
       "  <thead>\n",
       "    <tr style=\"text-align: right;\">\n",
       "      <th></th>\n",
       "      <th>order_id</th>\n",
       "      <th>customer_id</th>\n",
       "      <th>order_status</th>\n",
       "      <th>order_purchase_timestamp</th>\n",
       "      <th>order_approved_at</th>\n",
       "      <th>order_delivered_carrier_date</th>\n",
       "      <th>order_delivered_customer_date</th>\n",
       "      <th>order_estimated_delivery_date</th>\n",
       "    </tr>\n",
       "  </thead>\n",
       "  <tbody>\n",
       "    <tr>\n",
       "      <th>0</th>\n",
       "      <td>e481f51cbdc54678b7cc49136f2d6af7</td>\n",
       "      <td>9ef432eb6251297304e76186b10a928d</td>\n",
       "      <td>delivered</td>\n",
       "      <td>2017-10-02 10:56:33</td>\n",
       "      <td>2017-10-02 11:07:15</td>\n",
       "      <td>2017-10-04 19:55:00</td>\n",
       "      <td>2017-10-10 21:25:13</td>\n",
       "      <td>2017-10-18</td>\n",
       "    </tr>\n",
       "    <tr>\n",
       "      <th>1</th>\n",
       "      <td>53cdb2fc8bc7dce0b6741e2150273451</td>\n",
       "      <td>b0830fb4747a6c6d20dea0b8c802d7ef</td>\n",
       "      <td>delivered</td>\n",
       "      <td>2018-07-24 20:41:37</td>\n",
       "      <td>2018-07-26 03:24:27</td>\n",
       "      <td>2018-07-26 14:31:00</td>\n",
       "      <td>2018-08-07 15:27:45</td>\n",
       "      <td>2018-08-13</td>\n",
       "    </tr>\n",
       "    <tr>\n",
       "      <th>2</th>\n",
       "      <td>47770eb9100c2d0c44946d9cf07ec65d</td>\n",
       "      <td>41ce2a54c0b03bf3443c3d931a367089</td>\n",
       "      <td>delivered</td>\n",
       "      <td>2018-08-08 08:38:49</td>\n",
       "      <td>2018-08-08 08:55:23</td>\n",
       "      <td>2018-08-08 13:50:00</td>\n",
       "      <td>2018-08-17 18:06:29</td>\n",
       "      <td>2018-09-04</td>\n",
       "    </tr>\n",
       "    <tr>\n",
       "      <th>3</th>\n",
       "      <td>949d5b44dbf5de918fe9c16f97b45f8a</td>\n",
       "      <td>f88197465ea7920adcdbec7375364d82</td>\n",
       "      <td>delivered</td>\n",
       "      <td>2017-11-18 19:28:06</td>\n",
       "      <td>2017-11-18 19:45:59</td>\n",
       "      <td>2017-11-22 13:39:59</td>\n",
       "      <td>2017-12-02 00:28:42</td>\n",
       "      <td>2017-12-15</td>\n",
       "    </tr>\n",
       "    <tr>\n",
       "      <th>4</th>\n",
       "      <td>ad21c59c0840e6cb83a9ceb5573f8159</td>\n",
       "      <td>8ab97904e6daea8866dbdbc4fb7aad2c</td>\n",
       "      <td>delivered</td>\n",
       "      <td>2018-02-13 21:18:39</td>\n",
       "      <td>2018-02-13 22:20:29</td>\n",
       "      <td>2018-02-14 19:46:34</td>\n",
       "      <td>2018-02-16 18:17:02</td>\n",
       "      <td>2018-02-26</td>\n",
       "    </tr>\n",
       "  </tbody>\n",
       "</table>\n",
       "</div>"
      ],
      "text/plain": [
       "                           order_id                       customer_id  \\\n",
       "0  e481f51cbdc54678b7cc49136f2d6af7  9ef432eb6251297304e76186b10a928d   \n",
       "1  53cdb2fc8bc7dce0b6741e2150273451  b0830fb4747a6c6d20dea0b8c802d7ef   \n",
       "2  47770eb9100c2d0c44946d9cf07ec65d  41ce2a54c0b03bf3443c3d931a367089   \n",
       "3  949d5b44dbf5de918fe9c16f97b45f8a  f88197465ea7920adcdbec7375364d82   \n",
       "4  ad21c59c0840e6cb83a9ceb5573f8159  8ab97904e6daea8866dbdbc4fb7aad2c   \n",
       "\n",
       "  order_status order_purchase_timestamp   order_approved_at  \\\n",
       "0    delivered      2017-10-02 10:56:33 2017-10-02 11:07:15   \n",
       "1    delivered      2018-07-24 20:41:37 2018-07-26 03:24:27   \n",
       "2    delivered      2018-08-08 08:38:49 2018-08-08 08:55:23   \n",
       "3    delivered      2017-11-18 19:28:06 2017-11-18 19:45:59   \n",
       "4    delivered      2018-02-13 21:18:39 2018-02-13 22:20:29   \n",
       "\n",
       "  order_delivered_carrier_date order_delivered_customer_date  \\\n",
       "0          2017-10-04 19:55:00           2017-10-10 21:25:13   \n",
       "1          2018-07-26 14:31:00           2018-08-07 15:27:45   \n",
       "2          2018-08-08 13:50:00           2018-08-17 18:06:29   \n",
       "3          2017-11-22 13:39:59           2017-12-02 00:28:42   \n",
       "4          2018-02-14 19:46:34           2018-02-16 18:17:02   \n",
       "\n",
       "  order_estimated_delivery_date  \n",
       "0                    2017-10-18  \n",
       "1                    2018-08-13  \n",
       "2                    2018-09-04  \n",
       "3                    2017-12-15  \n",
       "4                    2018-02-26  "
      ]
     },
     "execution_count": 8,
     "metadata": {},
     "output_type": "execute_result"
    }
   ],
   "source": [
    "orders_df.head()"
   ]
  },
  {
   "cell_type": "code",
   "execution_count": 9,
   "metadata": {
    "scrolled": false
   },
   "outputs": [
    {
     "name": "stdout",
     "output_type": "stream",
     "text": [
      "(99441, 8)\n"
     ]
    },
    {
     "data": {
      "text/html": [
       "<div>\n",
       "<style scoped>\n",
       "    .dataframe tbody tr th:only-of-type {\n",
       "        vertical-align: middle;\n",
       "    }\n",
       "\n",
       "    .dataframe tbody tr th {\n",
       "        vertical-align: top;\n",
       "    }\n",
       "\n",
       "    .dataframe thead th {\n",
       "        text-align: right;\n",
       "    }\n",
       "</style>\n",
       "<table border=\"1\" class=\"dataframe\">\n",
       "  <thead>\n",
       "    <tr style=\"text-align: right;\">\n",
       "      <th></th>\n",
       "      <th>dtypes</th>\n",
       "      <th>nunique</th>\n",
       "    </tr>\n",
       "  </thead>\n",
       "  <tbody>\n",
       "    <tr>\n",
       "      <th>order_id</th>\n",
       "      <td>object</td>\n",
       "      <td>99441</td>\n",
       "    </tr>\n",
       "    <tr>\n",
       "      <th>customer_id</th>\n",
       "      <td>object</td>\n",
       "      <td>99441</td>\n",
       "    </tr>\n",
       "    <tr>\n",
       "      <th>order_status</th>\n",
       "      <td>object</td>\n",
       "      <td>8</td>\n",
       "    </tr>\n",
       "    <tr>\n",
       "      <th>order_purchase_timestamp</th>\n",
       "      <td>datetime64[ns]</td>\n",
       "      <td>98875</td>\n",
       "    </tr>\n",
       "    <tr>\n",
       "      <th>order_approved_at</th>\n",
       "      <td>datetime64[ns]</td>\n",
       "      <td>90733</td>\n",
       "    </tr>\n",
       "    <tr>\n",
       "      <th>order_delivered_carrier_date</th>\n",
       "      <td>datetime64[ns]</td>\n",
       "      <td>81018</td>\n",
       "    </tr>\n",
       "    <tr>\n",
       "      <th>order_delivered_customer_date</th>\n",
       "      <td>datetime64[ns]</td>\n",
       "      <td>95664</td>\n",
       "    </tr>\n",
       "    <tr>\n",
       "      <th>order_estimated_delivery_date</th>\n",
       "      <td>datetime64[ns]</td>\n",
       "      <td>459</td>\n",
       "    </tr>\n",
       "  </tbody>\n",
       "</table>\n",
       "</div>"
      ],
      "text/plain": [
       "                                       dtypes  nunique\n",
       "order_id                               object    99441\n",
       "customer_id                            object    99441\n",
       "order_status                           object        8\n",
       "order_purchase_timestamp       datetime64[ns]    98875\n",
       "order_approved_at              datetime64[ns]    90733\n",
       "order_delivered_carrier_date   datetime64[ns]    81018\n",
       "order_delivered_customer_date  datetime64[ns]    95664\n",
       "order_estimated_delivery_date  datetime64[ns]      459"
      ]
     },
     "execution_count": 9,
     "metadata": {},
     "output_type": "execute_result"
    }
   ],
   "source": [
    "print(orders_df.shape)\n",
    "pd.DataFrame({'dtypes':orders_df.dtypes, 'nunique':orders_df.nunique()})"
   ]
  },
  {
   "cell_type": "markdown",
   "metadata": {},
   "source": [
    "В таблице `orders_df` первичным ключом является `order_id`, но также уникальным идентификатором записей может быть и позаказный `customer_id`, через который связаны первая и вторая таблицы."
   ]
  },
  {
   "cell_type": "markdown",
   "metadata": {},
   "source": [
    "`items_df`:"
   ]
  },
  {
   "cell_type": "code",
   "execution_count": 10,
   "metadata": {
    "scrolled": true
   },
   "outputs": [
    {
     "data": {
      "text/html": [
       "<div>\n",
       "<style scoped>\n",
       "    .dataframe tbody tr th:only-of-type {\n",
       "        vertical-align: middle;\n",
       "    }\n",
       "\n",
       "    .dataframe tbody tr th {\n",
       "        vertical-align: top;\n",
       "    }\n",
       "\n",
       "    .dataframe thead th {\n",
       "        text-align: right;\n",
       "    }\n",
       "</style>\n",
       "<table border=\"1\" class=\"dataframe\">\n",
       "  <thead>\n",
       "    <tr style=\"text-align: right;\">\n",
       "      <th></th>\n",
       "      <th>order_id</th>\n",
       "      <th>order_item_id</th>\n",
       "      <th>product_id</th>\n",
       "      <th>seller_id</th>\n",
       "      <th>shipping_limit_date</th>\n",
       "      <th>price</th>\n",
       "      <th>freight_value</th>\n",
       "    </tr>\n",
       "  </thead>\n",
       "  <tbody>\n",
       "    <tr>\n",
       "      <th>0</th>\n",
       "      <td>00010242fe8c5a6d1ba2dd792cb16214</td>\n",
       "      <td>1</td>\n",
       "      <td>4244733e06e7ecb4970a6e2683c13e61</td>\n",
       "      <td>48436dade18ac8b2bce089ec2a041202</td>\n",
       "      <td>2017-09-19 09:45:35</td>\n",
       "      <td>58.90</td>\n",
       "      <td>13.29</td>\n",
       "    </tr>\n",
       "    <tr>\n",
       "      <th>1</th>\n",
       "      <td>00018f77f2f0320c557190d7a144bdd3</td>\n",
       "      <td>1</td>\n",
       "      <td>e5f2d52b802189ee658865ca93d83a8f</td>\n",
       "      <td>dd7ddc04e1b6c2c614352b383efe2d36</td>\n",
       "      <td>2017-05-03 11:05:13</td>\n",
       "      <td>239.90</td>\n",
       "      <td>19.93</td>\n",
       "    </tr>\n",
       "    <tr>\n",
       "      <th>2</th>\n",
       "      <td>000229ec398224ef6ca0657da4fc703e</td>\n",
       "      <td>1</td>\n",
       "      <td>c777355d18b72b67abbeef9df44fd0fd</td>\n",
       "      <td>5b51032eddd242adc84c38acab88f23d</td>\n",
       "      <td>2018-01-18 14:48:30</td>\n",
       "      <td>199.00</td>\n",
       "      <td>17.87</td>\n",
       "    </tr>\n",
       "    <tr>\n",
       "      <th>3</th>\n",
       "      <td>00024acbcdf0a6daa1e931b038114c75</td>\n",
       "      <td>1</td>\n",
       "      <td>7634da152a4610f1595efa32f14722fc</td>\n",
       "      <td>9d7a1d34a5052409006425275ba1c2b4</td>\n",
       "      <td>2018-08-15 10:10:18</td>\n",
       "      <td>12.99</td>\n",
       "      <td>12.79</td>\n",
       "    </tr>\n",
       "    <tr>\n",
       "      <th>4</th>\n",
       "      <td>00042b26cf59d7ce69dfabb4e55b4fd9</td>\n",
       "      <td>1</td>\n",
       "      <td>ac6c3623068f30de03045865e4e10089</td>\n",
       "      <td>df560393f3a51e74553ab94004ba5c87</td>\n",
       "      <td>2017-02-13 13:57:51</td>\n",
       "      <td>199.90</td>\n",
       "      <td>18.14</td>\n",
       "    </tr>\n",
       "  </tbody>\n",
       "</table>\n",
       "</div>"
      ],
      "text/plain": [
       "                           order_id  order_item_id  \\\n",
       "0  00010242fe8c5a6d1ba2dd792cb16214              1   \n",
       "1  00018f77f2f0320c557190d7a144bdd3              1   \n",
       "2  000229ec398224ef6ca0657da4fc703e              1   \n",
       "3  00024acbcdf0a6daa1e931b038114c75              1   \n",
       "4  00042b26cf59d7ce69dfabb4e55b4fd9              1   \n",
       "\n",
       "                         product_id                         seller_id  \\\n",
       "0  4244733e06e7ecb4970a6e2683c13e61  48436dade18ac8b2bce089ec2a041202   \n",
       "1  e5f2d52b802189ee658865ca93d83a8f  dd7ddc04e1b6c2c614352b383efe2d36   \n",
       "2  c777355d18b72b67abbeef9df44fd0fd  5b51032eddd242adc84c38acab88f23d   \n",
       "3  7634da152a4610f1595efa32f14722fc  9d7a1d34a5052409006425275ba1c2b4   \n",
       "4  ac6c3623068f30de03045865e4e10089  df560393f3a51e74553ab94004ba5c87   \n",
       "\n",
       "  shipping_limit_date   price  freight_value  \n",
       "0 2017-09-19 09:45:35   58.90          13.29  \n",
       "1 2017-05-03 11:05:13  239.90          19.93  \n",
       "2 2018-01-18 14:48:30  199.00          17.87  \n",
       "3 2018-08-15 10:10:18   12.99          12.79  \n",
       "4 2017-02-13 13:57:51  199.90          18.14  "
      ]
     },
     "execution_count": 10,
     "metadata": {},
     "output_type": "execute_result"
    }
   ],
   "source": [
    "items_df.head()"
   ]
  },
  {
   "cell_type": "code",
   "execution_count": 11,
   "metadata": {
    "scrolled": true
   },
   "outputs": [
    {
     "name": "stdout",
     "output_type": "stream",
     "text": [
      "(112650, 7)\n"
     ]
    },
    {
     "data": {
      "text/html": [
       "<div>\n",
       "<style scoped>\n",
       "    .dataframe tbody tr th:only-of-type {\n",
       "        vertical-align: middle;\n",
       "    }\n",
       "\n",
       "    .dataframe tbody tr th {\n",
       "        vertical-align: top;\n",
       "    }\n",
       "\n",
       "    .dataframe thead th {\n",
       "        text-align: right;\n",
       "    }\n",
       "</style>\n",
       "<table border=\"1\" class=\"dataframe\">\n",
       "  <thead>\n",
       "    <tr style=\"text-align: right;\">\n",
       "      <th></th>\n",
       "      <th>dtypes</th>\n",
       "      <th>nunique</th>\n",
       "    </tr>\n",
       "  </thead>\n",
       "  <tbody>\n",
       "    <tr>\n",
       "      <th>order_id</th>\n",
       "      <td>object</td>\n",
       "      <td>98666</td>\n",
       "    </tr>\n",
       "    <tr>\n",
       "      <th>order_item_id</th>\n",
       "      <td>int64</td>\n",
       "      <td>21</td>\n",
       "    </tr>\n",
       "    <tr>\n",
       "      <th>product_id</th>\n",
       "      <td>object</td>\n",
       "      <td>32951</td>\n",
       "    </tr>\n",
       "    <tr>\n",
       "      <th>seller_id</th>\n",
       "      <td>object</td>\n",
       "      <td>3095</td>\n",
       "    </tr>\n",
       "    <tr>\n",
       "      <th>shipping_limit_date</th>\n",
       "      <td>datetime64[ns]</td>\n",
       "      <td>93318</td>\n",
       "    </tr>\n",
       "    <tr>\n",
       "      <th>price</th>\n",
       "      <td>float64</td>\n",
       "      <td>5968</td>\n",
       "    </tr>\n",
       "    <tr>\n",
       "      <th>freight_value</th>\n",
       "      <td>float64</td>\n",
       "      <td>6999</td>\n",
       "    </tr>\n",
       "  </tbody>\n",
       "</table>\n",
       "</div>"
      ],
      "text/plain": [
       "                             dtypes  nunique\n",
       "order_id                     object    98666\n",
       "order_item_id                 int64       21\n",
       "product_id                   object    32951\n",
       "seller_id                    object     3095\n",
       "shipping_limit_date  datetime64[ns]    93318\n",
       "price                       float64     5968\n",
       "freight_value               float64     6999"
      ]
     },
     "execution_count": 11,
     "metadata": {},
     "output_type": "execute_result"
    }
   ],
   "source": [
    "print(items_df.shape)\n",
    "pd.DataFrame({'dtypes':items_df.dtypes, 'nunique':items_df.nunique()})"
   ]
  },
  {
   "cell_type": "markdown",
   "metadata": {},
   "source": [
    "В таблице `items_df` первичный ключ, видимо, составной: структура хранения данных определяется уникальным  сочетанием `order_id` и `order_item_id` "
   ]
  },
  {
   "cell_type": "code",
   "execution_count": 12,
   "metadata": {
    "scrolled": false
   },
   "outputs": [
    {
     "data": {
      "text/plain": [
       "112650"
      ]
     },
     "execution_count": 12,
     "metadata": {},
     "output_type": "execute_result"
    }
   ],
   "source": [
    "len(items_df.groupby(['order_id','order_item_id']).size())"
   ]
  },
  {
   "cell_type": "markdown",
   "metadata": {},
   "source": [
    "`order_item_id` показывает порядковый номер товара в заказе и тем самым указывает на количество товаров в рамках одного `order_id`. Можно увидеть, что всего в датасете  `items_df` 98666 заказов с хотя бы 1 товаром, и лишь 1 заказ, в котором 21 товар."
   ]
  },
  {
   "cell_type": "code",
   "execution_count": 13,
   "metadata": {
    "scrolled": false
   },
   "outputs": [
    {
     "data": {
      "text/html": [
       "<div>\n",
       "<style scoped>\n",
       "    .dataframe tbody tr th:only-of-type {\n",
       "        vertical-align: middle;\n",
       "    }\n",
       "\n",
       "    .dataframe tbody tr th {\n",
       "        vertical-align: top;\n",
       "    }\n",
       "\n",
       "    .dataframe thead th {\n",
       "        text-align: right;\n",
       "    }\n",
       "</style>\n",
       "<table border=\"1\" class=\"dataframe\">\n",
       "  <thead>\n",
       "    <tr style=\"text-align: right;\">\n",
       "      <th></th>\n",
       "      <th>order_id</th>\n",
       "    </tr>\n",
       "    <tr>\n",
       "      <th>order_item_id</th>\n",
       "      <th></th>\n",
       "    </tr>\n",
       "  </thead>\n",
       "  <tbody>\n",
       "    <tr>\n",
       "      <th>1</th>\n",
       "      <td>98666</td>\n",
       "    </tr>\n",
       "    <tr>\n",
       "      <th>2</th>\n",
       "      <td>9803</td>\n",
       "    </tr>\n",
       "    <tr>\n",
       "      <th>3</th>\n",
       "      <td>2287</td>\n",
       "    </tr>\n",
       "    <tr>\n",
       "      <th>4</th>\n",
       "      <td>965</td>\n",
       "    </tr>\n",
       "    <tr>\n",
       "      <th>5</th>\n",
       "      <td>460</td>\n",
       "    </tr>\n",
       "    <tr>\n",
       "      <th>6</th>\n",
       "      <td>256</td>\n",
       "    </tr>\n",
       "    <tr>\n",
       "      <th>7</th>\n",
       "      <td>58</td>\n",
       "    </tr>\n",
       "    <tr>\n",
       "      <th>8</th>\n",
       "      <td>36</td>\n",
       "    </tr>\n",
       "    <tr>\n",
       "      <th>9</th>\n",
       "      <td>28</td>\n",
       "    </tr>\n",
       "    <tr>\n",
       "      <th>10</th>\n",
       "      <td>25</td>\n",
       "    </tr>\n",
       "    <tr>\n",
       "      <th>11</th>\n",
       "      <td>17</td>\n",
       "    </tr>\n",
       "    <tr>\n",
       "      <th>12</th>\n",
       "      <td>13</td>\n",
       "    </tr>\n",
       "    <tr>\n",
       "      <th>13</th>\n",
       "      <td>8</td>\n",
       "    </tr>\n",
       "    <tr>\n",
       "      <th>14</th>\n",
       "      <td>7</td>\n",
       "    </tr>\n",
       "    <tr>\n",
       "      <th>15</th>\n",
       "      <td>5</td>\n",
       "    </tr>\n",
       "    <tr>\n",
       "      <th>16</th>\n",
       "      <td>3</td>\n",
       "    </tr>\n",
       "    <tr>\n",
       "      <th>17</th>\n",
       "      <td>3</td>\n",
       "    </tr>\n",
       "    <tr>\n",
       "      <th>18</th>\n",
       "      <td>3</td>\n",
       "    </tr>\n",
       "    <tr>\n",
       "      <th>19</th>\n",
       "      <td>3</td>\n",
       "    </tr>\n",
       "    <tr>\n",
       "      <th>20</th>\n",
       "      <td>3</td>\n",
       "    </tr>\n",
       "    <tr>\n",
       "      <th>21</th>\n",
       "      <td>1</td>\n",
       "    </tr>\n",
       "  </tbody>\n",
       "</table>\n",
       "</div>"
      ],
      "text/plain": [
       "               order_id\n",
       "order_item_id          \n",
       "1                 98666\n",
       "2                  9803\n",
       "3                  2287\n",
       "4                   965\n",
       "5                   460\n",
       "6                   256\n",
       "7                    58\n",
       "8                    36\n",
       "9                    28\n",
       "10                   25\n",
       "11                   17\n",
       "12                   13\n",
       "13                    8\n",
       "14                    7\n",
       "15                    5\n",
       "16                    3\n",
       "17                    3\n",
       "18                    3\n",
       "19                    3\n",
       "20                    3\n",
       "21                    1"
      ]
     },
     "execution_count": 13,
     "metadata": {},
     "output_type": "execute_result"
    }
   ],
   "source": [
    "items_df.groupby(['order_item_id']).agg({'order_id':'count'})"
   ]
  },
  {
   "cell_type": "markdown",
   "metadata": {},
   "source": [
    "Далее посмотрим на пропуски и выбросы, на основе чего попытаемся найти **аномалии** в данных."
   ]
  },
  {
   "cell_type": "markdown",
   "metadata": {},
   "source": [
    "#### II. Смотрим на пропуски"
   ]
  },
  {
   "cell_type": "code",
   "execution_count": 14,
   "metadata": {},
   "outputs": [
    {
     "data": {
      "text/plain": [
       "customer_id                 0\n",
       "customer_unique_id          0\n",
       "customer_zip_code_prefix    0\n",
       "customer_city               0\n",
       "customer_state              0\n",
       "dtype: int64"
      ]
     },
     "execution_count": 14,
     "metadata": {},
     "output_type": "execute_result"
    }
   ],
   "source": [
    "customers_df.isnull().sum()"
   ]
  },
  {
   "cell_type": "code",
   "execution_count": 15,
   "metadata": {},
   "outputs": [
    {
     "data": {
      "text/plain": [
       "order_id                            0\n",
       "customer_id                         0\n",
       "order_status                        0\n",
       "order_purchase_timestamp            0\n",
       "order_approved_at                 160\n",
       "order_delivered_carrier_date     1783\n",
       "order_delivered_customer_date    2965\n",
       "order_estimated_delivery_date       0\n",
       "dtype: int64"
      ]
     },
     "execution_count": 15,
     "metadata": {},
     "output_type": "execute_result"
    }
   ],
   "source": [
    "orders_df.isnull().sum()"
   ]
  },
  {
   "cell_type": "code",
   "execution_count": 16,
   "metadata": {
    "scrolled": true
   },
   "outputs": [
    {
     "data": {
      "text/plain": [
       "order_id               0\n",
       "order_item_id          0\n",
       "product_id             0\n",
       "seller_id              0\n",
       "shipping_limit_date    0\n",
       "price                  0\n",
       "freight_value          0\n",
       "dtype: int64"
      ]
     },
     "execution_count": 16,
     "metadata": {},
     "output_type": "execute_result"
    }
   ],
   "source": [
    "items_df.isnull().sum()"
   ]
  },
  {
   "cell_type": "markdown",
   "metadata": {},
   "source": [
    "Пропуски есть в таблице `orders_df` в колонках:\n",
    "\n",
    "* `order_approved_at` — время подтверждения оплаты заказа\n",
    "* `order_delivered_carrier_date` — время передачи заказа в логистическую службу\n",
    "* `order_delivered_customer_date` — время доставки заказа клиенту\n",
    "\n",
    "Можно заметить, что пропуски имеются именно в колонках с датами определенных событий, которые происходят с заказом по мере его выполнения. Логично предположить, что колонка `order_status` содержит информацию о последнем из происшедших с заказом событий, поэтому именно по этой колонке можно лучше всего понять причину пропусков. "
   ]
  },
  {
   "cell_type": "markdown",
   "metadata": {},
   "source": [
    "**1. Пропуски в колонке `order_approved_at` (время подтверждения оплаты заказа).** \n",
    "\n",
    "По данным заказам не поступила информация по оплате. Почему так могло произойти? Посмотрим на статусы этих заказов."
   ]
  },
  {
   "cell_type": "code",
   "execution_count": 17,
   "metadata": {
    "scrolled": false
   },
   "outputs": [
    {
     "data": {
      "image/png": "[encoded data removed]",
      "text/plain": [
       "<Figure size 1440x360 with 1 Axes>"
      ]
     },
     "metadata": {},
     "output_type": "display_data"
    }
   ],
   "source": [
    "sns.countplot(data=orders_df[orders_df.order_approved_at.isnull()], x=\"order_status\");"
   ]
  },
  {
   "cell_type": "code",
   "execution_count": 18,
   "metadata": {
    "scrolled": true
   },
   "outputs": [
    {
     "data": {
      "text/plain": [
       "canceled     141\n",
       "delivered     14\n",
       "created        5\n",
       "Name: order_status, dtype: int64"
      ]
     },
     "execution_count": 18,
     "metadata": {},
     "output_type": "execute_result"
    }
   ],
   "source": [
    "orders_df[orders_df.order_approved_at.isnull()] \\\n",
    "    .order_status.value_counts()"
   ]
  },
  {
   "cell_type": "markdown",
   "metadata": {},
   "source": [
    "Пропуски в столбце `order_approved_at` связаны по большей части с отменой заказов, но есть и заказы со статусами `created` и, неожиданно, `delivered`. Казалось бы, статус `delivered` должен появляться уже после доставки, которая, в свою очередь, должна происходить после оплаты. Кроме того, ожидаемо было увидеть среди неоплаченных заказов и заказы со статусом `invoiced`, поскольку данный статус, предположительно, означает, что по заказу ожидается оплата со стороны клиента по выставленному ему счёту.\n",
    "\n",
    "Очевидно, процесс выполнения заказов не так прост, как казалось. Попробуем выяснить, в каком порядке заполняются даты событий и появляются статусы у большинства заказов. Для этого:\n",
    "1. Во-первых, посчитаем разницу во времени между датами различных событий\n",
    "2. Во-вторых, проанализируем заказы с определенным статусом, для которых есть информация о произошедших событиях."
   ]
  },
  {
   "cell_type": "code",
   "execution_count": 19,
   "metadata": {},
   "outputs": [],
   "source": [
    "# 1. Оплата-создание\n",
    "orders_df['diff_approved_created'] = orders_df.order_approved_at - orders_df.order_purchase_timestamp\n",
    "\n",
    "# 2. Передача в доставку-создание\n",
    "orders_df['diff_shipped_created'] = orders_df.order_delivered_carrier_date - orders_df.order_purchase_timestamp\n",
    "\n",
    "# 3. Доставка покупателю-создание\n",
    "orders_df['diff_delivered_created'] = orders_df.order_delivered_customer_date - orders_df.order_purchase_timestamp"
   ]
  },
  {
   "cell_type": "code",
   "execution_count": 20,
   "metadata": {
    "scrolled": true
   },
   "outputs": [],
   "source": [
    "differences = pd.DataFrame(\n",
    "    {'diff_approved_created':orders_df.diff_approved_created,\n",
    "     'diff_shipped_created':orders_df.diff_shipped_created,\n",
    "     'diff_delivered_created':orders_df.diff_delivered_created}\n",
    ")"
   ]
  },
  {
   "cell_type": "code",
   "execution_count": 21,
   "metadata": {},
   "outputs": [
    {
     "data": {
      "text/html": [
       "<div>\n",
       "<style scoped>\n",
       "    .dataframe tbody tr th:only-of-type {\n",
       "        vertical-align: middle;\n",
       "    }\n",
       "\n",
       "    .dataframe tbody tr th {\n",
       "        vertical-align: top;\n",
       "    }\n",
       "\n",
       "    .dataframe thead th {\n",
       "        text-align: right;\n",
       "    }\n",
       "</style>\n",
       "<table border=\"1\" class=\"dataframe\">\n",
       "  <thead>\n",
       "    <tr style=\"text-align: right;\">\n",
       "      <th></th>\n",
       "      <th>diff_approved_created</th>\n",
       "      <th>diff_shipped_created</th>\n",
       "      <th>diff_delivered_created</th>\n",
       "    </tr>\n",
       "  </thead>\n",
       "  <tbody>\n",
       "    <tr>\n",
       "      <th>count</th>\n",
       "      <td>99281</td>\n",
       "      <td>97658</td>\n",
       "      <td>96476</td>\n",
       "    </tr>\n",
       "    <tr>\n",
       "      <th>mean</th>\n",
       "      <td>0 days 10:25:08.739486910</td>\n",
       "      <td>3 days 05:37:01.944193</td>\n",
       "      <td>12 days 13:24:31.879068369</td>\n",
       "    </tr>\n",
       "    <tr>\n",
       "      <th>std</th>\n",
       "      <td>1 days 02:02:16.813098347</td>\n",
       "      <td>3 days 14:41:16.447964018</td>\n",
       "      <td>9 days 13:07:00.181125305</td>\n",
       "    </tr>\n",
       "    <tr>\n",
       "      <th>min</th>\n",
       "      <td>0 days 00:00:00</td>\n",
       "      <td>-172 days +18:54:07</td>\n",
       "      <td>0 days 12:48:07</td>\n",
       "    </tr>\n",
       "    <tr>\n",
       "      <th>25%</th>\n",
       "      <td>0 days 00:12:54</td>\n",
       "      <td>1 days 03:05:42.750000</td>\n",
       "      <td>6 days 18:23:37.250000</td>\n",
       "    </tr>\n",
       "    <tr>\n",
       "      <th>50%</th>\n",
       "      <td>0 days 00:20:36</td>\n",
       "      <td>2 days 04:54:44</td>\n",
       "      <td>10 days 05:13:34</td>\n",
       "    </tr>\n",
       "    <tr>\n",
       "      <th>75%</th>\n",
       "      <td>0 days 14:34:51</td>\n",
       "      <td>4 days 01:43:21.500000</td>\n",
       "      <td>15 days 17:17:16.250000</td>\n",
       "    </tr>\n",
       "    <tr>\n",
       "      <th>max</th>\n",
       "      <td>187 days 21:10:50</td>\n",
       "      <td>125 days 18:36:45</td>\n",
       "      <td>209 days 15:05:12</td>\n",
       "    </tr>\n",
       "  </tbody>\n",
       "</table>\n",
       "</div>"
      ],
      "text/plain": [
       "           diff_approved_created       diff_shipped_created  \\\n",
       "count                      99281                      97658   \n",
       "mean   0 days 10:25:08.739486910     3 days 05:37:01.944193   \n",
       "std    1 days 02:02:16.813098347  3 days 14:41:16.447964018   \n",
       "min              0 days 00:00:00        -172 days +18:54:07   \n",
       "25%              0 days 00:12:54     1 days 03:05:42.750000   \n",
       "50%              0 days 00:20:36            2 days 04:54:44   \n",
       "75%              0 days 14:34:51     4 days 01:43:21.500000   \n",
       "max            187 days 21:10:50          125 days 18:36:45   \n",
       "\n",
       "           diff_delivered_created  \n",
       "count                       96476  \n",
       "mean   12 days 13:24:31.879068369  \n",
       "std     9 days 13:07:00.181125305  \n",
       "min               0 days 12:48:07  \n",
       "25%        6 days 18:23:37.250000  \n",
       "50%              10 days 05:13:34  \n",
       "75%       15 days 17:17:16.250000  \n",
       "max             209 days 15:05:12  "
      ]
     },
     "execution_count": 21,
     "metadata": {},
     "output_type": "execute_result"
    }
   ],
   "source": [
    "differences.describe()"
   ]
  },
  {
   "cell_type": "markdown",
   "metadata": {},
   "source": [
    "В данных наблюдается большой разброс значений: разница между датой создания заказа и датой его доставки варьируется от 0 до 209 дней. Какие-то заказы даже отгружались со склада раньше, чем создавались (что похоже на ошибку в данных). Поэтому мы не будем делать выводы на основе средних значений, но, судя по медианным значениям, доставка заказа клиенту действительно обычно происходит позже, чем оплата заказа.\n",
    "\n",
    "Теперь проанализируем соответствие между различными статусами заказов и событиями:"
   ]
  },
  {
   "cell_type": "code",
   "execution_count": 22,
   "metadata": {
    "scrolled": false
   },
   "outputs": [
    {
     "data": {
      "text/html": [
       "<div>\n",
       "<style scoped>\n",
       "    .dataframe tbody tr th:only-of-type {\n",
       "        vertical-align: middle;\n",
       "    }\n",
       "\n",
       "    .dataframe tbody tr th {\n",
       "        vertical-align: top;\n",
       "    }\n",
       "\n",
       "    .dataframe thead th {\n",
       "        text-align: right;\n",
       "    }\n",
       "</style>\n",
       "<table border=\"1\" class=\"dataframe\">\n",
       "  <thead>\n",
       "    <tr style=\"text-align: right;\">\n",
       "      <th></th>\n",
       "      <th>total_status_count</th>\n",
       "    </tr>\n",
       "    <tr>\n",
       "      <th>order_status</th>\n",
       "      <th></th>\n",
       "    </tr>\n",
       "  </thead>\n",
       "  <tbody>\n",
       "    <tr>\n",
       "      <th>approved</th>\n",
       "      <td>2</td>\n",
       "    </tr>\n",
       "    <tr>\n",
       "      <th>canceled</th>\n",
       "      <td>625</td>\n",
       "    </tr>\n",
       "    <tr>\n",
       "      <th>created</th>\n",
       "      <td>5</td>\n",
       "    </tr>\n",
       "    <tr>\n",
       "      <th>delivered</th>\n",
       "      <td>96478</td>\n",
       "    </tr>\n",
       "    <tr>\n",
       "      <th>invoiced</th>\n",
       "      <td>314</td>\n",
       "    </tr>\n",
       "    <tr>\n",
       "      <th>processing</th>\n",
       "      <td>301</td>\n",
       "    </tr>\n",
       "    <tr>\n",
       "      <th>shipped</th>\n",
       "      <td>1107</td>\n",
       "    </tr>\n",
       "    <tr>\n",
       "      <th>unavailable</th>\n",
       "      <td>609</td>\n",
       "    </tr>\n",
       "  </tbody>\n",
       "</table>\n",
       "</div>"
      ],
      "text/plain": [
       "              total_status_count\n",
       "order_status                    \n",
       "approved                       2\n",
       "canceled                     625\n",
       "created                        5\n",
       "delivered                  96478\n",
       "invoiced                     314\n",
       "processing                   301\n",
       "shipped                     1107\n",
       "unavailable                  609"
      ]
     },
     "execution_count": 22,
     "metadata": {},
     "output_type": "execute_result"
    }
   ],
   "source": [
    "# колонки с датами событий\n",
    "dates_cols = ['order_purchase_timestamp', 'order_approved_at', 'order_delivered_carrier_date', 'order_delivered_customer_date']\n",
    "\n",
    "#  количество заказов с разными статусами: тотал\n",
    "not_nulls_by_status = orders_df.groupby(['order_status']) \\\n",
    "    .agg({'order_id':'count'}) \\\n",
    "    .rename(columns = {'order_id':'total_status_count'})\n",
    "not_nulls_by_status"
   ]
  },
  {
   "cell_type": "code",
   "execution_count": 23,
   "metadata": {
    "scrolled": true
   },
   "outputs": [
    {
     "data": {
      "text/html": [
       "<div>\n",
       "<style scoped>\n",
       "    .dataframe tbody tr th:only-of-type {\n",
       "        vertical-align: middle;\n",
       "    }\n",
       "\n",
       "    .dataframe tbody tr th {\n",
       "        vertical-align: top;\n",
       "    }\n",
       "\n",
       "    .dataframe thead th {\n",
       "        text-align: right;\n",
       "    }\n",
       "</style>\n",
       "<table border=\"1\" class=\"dataframe\">\n",
       "  <thead>\n",
       "    <tr style=\"text-align: right;\">\n",
       "      <th>order_status</th>\n",
       "      <th>created</th>\n",
       "      <th>approved</th>\n",
       "      <th>invoiced</th>\n",
       "      <th>processing</th>\n",
       "      <th>shipped</th>\n",
       "      <th>delivered</th>\n",
       "      <th>canceled</th>\n",
       "      <th>unavailable</th>\n",
       "    </tr>\n",
       "  </thead>\n",
       "  <tbody>\n",
       "    <tr>\n",
       "      <th>total_status_count</th>\n",
       "      <td>5</td>\n",
       "      <td>2</td>\n",
       "      <td>314</td>\n",
       "      <td>301</td>\n",
       "      <td>1107</td>\n",
       "      <td>96478</td>\n",
       "      <td>625</td>\n",
       "      <td>609</td>\n",
       "    </tr>\n",
       "    <tr>\n",
       "      <th>order_purchase_timestamp</th>\n",
       "      <td>5</td>\n",
       "      <td>2</td>\n",
       "      <td>314</td>\n",
       "      <td>301</td>\n",
       "      <td>1107</td>\n",
       "      <td>96478</td>\n",
       "      <td>625</td>\n",
       "      <td>609</td>\n",
       "    </tr>\n",
       "    <tr>\n",
       "      <th>order_approved_at</th>\n",
       "      <td>0</td>\n",
       "      <td>2</td>\n",
       "      <td>314</td>\n",
       "      <td>301</td>\n",
       "      <td>1107</td>\n",
       "      <td>96464</td>\n",
       "      <td>484</td>\n",
       "      <td>609</td>\n",
       "    </tr>\n",
       "    <tr>\n",
       "      <th>order_delivered_carrier_date</th>\n",
       "      <td>0</td>\n",
       "      <td>0</td>\n",
       "      <td>0</td>\n",
       "      <td>0</td>\n",
       "      <td>1107</td>\n",
       "      <td>96476</td>\n",
       "      <td>75</td>\n",
       "      <td>0</td>\n",
       "    </tr>\n",
       "    <tr>\n",
       "      <th>order_delivered_customer_date</th>\n",
       "      <td>0</td>\n",
       "      <td>0</td>\n",
       "      <td>0</td>\n",
       "      <td>0</td>\n",
       "      <td>0</td>\n",
       "      <td>96470</td>\n",
       "      <td>6</td>\n",
       "      <td>0</td>\n",
       "    </tr>\n",
       "  </tbody>\n",
       "</table>\n",
       "</div>"
      ],
      "text/plain": [
       "order_status                   created  approved  invoiced  processing  \\\n",
       "total_status_count                   5         2       314         301   \n",
       "order_purchase_timestamp             5         2       314         301   \n",
       "order_approved_at                    0         2       314         301   \n",
       "order_delivered_carrier_date         0         0         0           0   \n",
       "order_delivered_customer_date        0         0         0           0   \n",
       "\n",
       "order_status                   shipped  delivered  canceled  unavailable  \n",
       "total_status_count                1107      96478       625          609  \n",
       "order_purchase_timestamp          1107      96478       625          609  \n",
       "order_approved_at                 1107      96464       484          609  \n",
       "order_delivered_carrier_date      1107      96476        75            0  \n",
       "order_delivered_customer_date        0      96470         6            0  "
      ]
     },
     "execution_count": 23,
     "metadata": {},
     "output_type": "execute_result"
    }
   ],
   "source": [
    "# считаем, сколько заказов с разными статусами имеют ненулевые значения в колонках с разными датами \n",
    "not_nulls_by_status_t = not_nulls_by_status.merge(orders_df.groupby(['order_status']) \\\n",
    "                                                  .count()[dates_cols], left_index = True, right_index = True) \\\n",
    "                                                  .T[['created', 'approved', 'invoiced', 'processing', 'shipped', 'delivered','canceled','unavailable']]\n",
    "not_nulls_by_status_t"
   ]
  },
  {
   "cell_type": "markdown",
   "metadata": {},
   "source": [
    "По этой таблице видно, в каком порядке появляются статусы у основной массы заказов. \n",
    "* Можно заметить, что, например, существует всего 5 заказов со статусом `created`, все они имеют заполненную дату `order_purchase_timestamp`, но остальные колонки с датами у заказов с этим статусом пустые. Значит, этот статус появляется первым по порядку вместе с датой `order_purchase_timestamp`. \n",
    "* Аналогично, в датасете 1107 заказов со статусом `shipped` (отгружены со склада), и все они уже переданы в логистическую службу, следовательно, данные статус и событие связаны друг с другом. При этом логично, что, если заказы состоят из товаров различных продавцов, сборка заказов (`processing`) осуществляется на складе нашей площадки, а затем каждый заказ передается в нашу логистическую службу.\n",
    "\n",
    "Вопреки ожиданиям, все заказы со статусом `invoiced` имеют подтвержденную оплату со стороны клиента. Следовательно, этот статус отвечает не за выставление e-com площадкой счёта на оплату конечному клиенту, а, гипотетически, за выставление счёта продавцом товара нашей площадке с требованием вернуть причитающуюся продавцу часть выручки за проданные товары. Эту **гипотезу** следует проверить, обратившись к команде продаж, поскольку для больших e-commerce площадок более характерно переводить платежи продавцам в автоматическом режиме на регулярной основе за определенный период времени, а не рассчитываться за каждый заказ по требованию продавца."
   ]
  },
  {
   "cell_type": "markdown",
   "metadata": {},
   "source": [
    "Итак, по основной массе данных можно сделать вывод:\n",
    "\n",
    "\n",
    "|№  | **Статус** | **Соответствует дате**\n",
    "|---|---         | --- \n",
    "|1  |`created`   | `order_purchase_timestamp`\n",
    "|2  |`approved`  | `order_approved_at`\n",
    "|3  |`invoiced`  | **после** `order_approved_at`, **до** `order_delivered_carrier_date`\n",
    "|4  |`processing`  | **после** `order_approved_at`, **до** `order_delivered_carrier_date`\n",
    "|5  |`shipped`  | `order_delivered_carrier_date`\n",
    "|6  |`delivered`  | `order_delivered_customer_date\t`\n",
    "\n",
    "* `canceled` может возникнуть в любой момент времени: до оплаты заказа, перед передачей заказа партнеру по логистике, незадолго перед доставкой клиенту и даже после нее. \n",
    "* `unavailable` возникает на том же этапе, что и статусы `invoiced` и `processing`. Скорее всего, это значит, что товар не в наличии, поэтому в службу доставки передавать нечего."
   ]
  },
  {
   "cell_type": "markdown",
   "metadata": {},
   "source": [
    "Вернемся к  пропускам в столбце `order_approved_at`. Теперь ясно, что статус `delivered` находится не на своем месте. Посмотрим внимательнее на эти 14 заказов."
   ]
  },
  {
   "cell_type": "code",
   "execution_count": 24,
   "metadata": {
    "scrolled": false
   },
   "outputs": [
    {
     "data": {
      "text/html": [
       "<div>\n",
       "<style scoped>\n",
       "    .dataframe tbody tr th:only-of-type {\n",
       "        vertical-align: middle;\n",
       "    }\n",
       "\n",
       "    .dataframe tbody tr th {\n",
       "        vertical-align: top;\n",
       "    }\n",
       "\n",
       "    .dataframe thead th {\n",
       "        text-align: right;\n",
       "    }\n",
       "</style>\n",
       "<table border=\"1\" class=\"dataframe\">\n",
       "  <thead>\n",
       "    <tr style=\"text-align: right;\">\n",
       "      <th></th>\n",
       "      <th>order_id</th>\n",
       "      <th>customer_id</th>\n",
       "      <th>order_status</th>\n",
       "      <th>order_purchase_timestamp</th>\n",
       "      <th>order_approved_at</th>\n",
       "      <th>order_delivered_carrier_date</th>\n",
       "      <th>order_delivered_customer_date</th>\n",
       "      <th>order_estimated_delivery_date</th>\n",
       "      <th>diff_approved_created</th>\n",
       "      <th>diff_shipped_created</th>\n",
       "      <th>diff_delivered_created</th>\n",
       "    </tr>\n",
       "  </thead>\n",
       "  <tbody>\n",
       "    <tr>\n",
       "      <th>38290</th>\n",
       "      <td>d69e5d356402adc8cf17e08b5033acfb</td>\n",
       "      <td>68d081753ad4fe22fc4d410a9eb1ca01</td>\n",
       "      <td>delivered</td>\n",
       "      <td>2017-02-19 01:28:47</td>\n",
       "      <td>NaT</td>\n",
       "      <td>2017-02-23 03:11:48</td>\n",
       "      <td>2017-03-02 03:41:58</td>\n",
       "      <td>2017-03-27</td>\n",
       "      <td>NaT</td>\n",
       "      <td>4 days 01:43:01</td>\n",
       "      <td>11 days 02:13:11</td>\n",
       "    </tr>\n",
       "    <tr>\n",
       "      <th>67697</th>\n",
       "      <td>88083e8f64d95b932164187484d90212</td>\n",
       "      <td>f67cd1a215aae2a1074638bbd35a223a</td>\n",
       "      <td>delivered</td>\n",
       "      <td>2017-02-18 22:49:19</td>\n",
       "      <td>NaT</td>\n",
       "      <td>2017-02-22 11:31:06</td>\n",
       "      <td>2017-03-02 12:06:06</td>\n",
       "      <td>2017-03-21</td>\n",
       "      <td>NaT</td>\n",
       "      <td>3 days 12:41:47</td>\n",
       "      <td>11 days 13:16:47</td>\n",
       "    </tr>\n",
       "    <tr>\n",
       "      <th>84999</th>\n",
       "      <td>2babbb4b15e6d2dfe95e2de765c97bce</td>\n",
       "      <td>74bebaf46603f9340e3b50c6b086f992</td>\n",
       "      <td>delivered</td>\n",
       "      <td>2017-02-18 17:15:03</td>\n",
       "      <td>NaT</td>\n",
       "      <td>2017-02-22 11:23:11</td>\n",
       "      <td>2017-03-03 18:43:43</td>\n",
       "      <td>2017-03-31</td>\n",
       "      <td>NaT</td>\n",
       "      <td>3 days 18:08:08</td>\n",
       "      <td>13 days 01:28:40</td>\n",
       "    </tr>\n",
       "    <tr>\n",
       "      <th>22663</th>\n",
       "      <td>5cf925b116421afa85ee25e99b4c34fb</td>\n",
       "      <td>29c35fc91fc13fb5073c8f30505d860d</td>\n",
       "      <td>delivered</td>\n",
       "      <td>2017-02-18 16:48:35</td>\n",
       "      <td>NaT</td>\n",
       "      <td>2017-02-22 11:23:10</td>\n",
       "      <td>2017-03-09 07:28:47</td>\n",
       "      <td>2017-03-31</td>\n",
       "      <td>NaT</td>\n",
       "      <td>3 days 18:34:35</td>\n",
       "      <td>18 days 14:40:12</td>\n",
       "    </tr>\n",
       "    <tr>\n",
       "      <th>63052</th>\n",
       "      <td>51eb2eebd5d76a24625b31c33dd41449</td>\n",
       "      <td>07a2a7e0f63fd8cb757ed77d4245623c</td>\n",
       "      <td>delivered</td>\n",
       "      <td>2017-02-18 15:52:27</td>\n",
       "      <td>NaT</td>\n",
       "      <td>2017-02-23 03:09:14</td>\n",
       "      <td>2017-03-07 13:57:47</td>\n",
       "      <td>2017-03-29</td>\n",
       "      <td>NaT</td>\n",
       "      <td>4 days 11:16:47</td>\n",
       "      <td>16 days 22:05:20</td>\n",
       "    </tr>\n",
       "    <tr>\n",
       "      <th>5323</th>\n",
       "      <td>e04abd8149ef81b95221e88f6ed9ab6a</td>\n",
       "      <td>2127dc6603ac33544953ef05ec155771</td>\n",
       "      <td>delivered</td>\n",
       "      <td>2017-02-18 14:40:00</td>\n",
       "      <td>NaT</td>\n",
       "      <td>2017-02-23 12:04:47</td>\n",
       "      <td>2017-03-01 13:25:33</td>\n",
       "      <td>2017-03-17</td>\n",
       "      <td>NaT</td>\n",
       "      <td>4 days 21:24:47</td>\n",
       "      <td>10 days 22:45:33</td>\n",
       "    </tr>\n",
       "    <tr>\n",
       "      <th>19031</th>\n",
       "      <td>7013bcfc1c97fe719a7b5e05e61c12db</td>\n",
       "      <td>2941af76d38100e0f8740a374f1a5dc3</td>\n",
       "      <td>delivered</td>\n",
       "      <td>2017-02-18 13:29:47</td>\n",
       "      <td>NaT</td>\n",
       "      <td>2017-02-22 16:25:25</td>\n",
       "      <td>2017-03-01 08:07:38</td>\n",
       "      <td>2017-03-17</td>\n",
       "      <td>NaT</td>\n",
       "      <td>4 days 02:55:38</td>\n",
       "      <td>10 days 18:37:51</td>\n",
       "    </tr>\n",
       "    <tr>\n",
       "      <th>16567</th>\n",
       "      <td>8a9adc69528e1001fc68dd0aaebbb54a</td>\n",
       "      <td>4c1ccc74e00993733742a3c786dc3c1f</td>\n",
       "      <td>delivered</td>\n",
       "      <td>2017-02-18 12:45:31</td>\n",
       "      <td>NaT</td>\n",
       "      <td>2017-02-23 09:01:52</td>\n",
       "      <td>2017-03-02 10:05:06</td>\n",
       "      <td>2017-03-21</td>\n",
       "      <td>NaT</td>\n",
       "      <td>4 days 20:16:21</td>\n",
       "      <td>11 days 21:19:35</td>\n",
       "    </tr>\n",
       "    <tr>\n",
       "      <th>39334</th>\n",
       "      <td>d77031d6a3c8a52f019764e68f211c69</td>\n",
       "      <td>0bf35cac6cc7327065da879e2d90fae8</td>\n",
       "      <td>delivered</td>\n",
       "      <td>2017-02-18 11:04:19</td>\n",
       "      <td>NaT</td>\n",
       "      <td>2017-02-23 07:23:36</td>\n",
       "      <td>2017-03-02 16:15:23</td>\n",
       "      <td>2017-03-22</td>\n",
       "      <td>NaT</td>\n",
       "      <td>4 days 20:19:17</td>\n",
       "      <td>12 days 05:11:04</td>\n",
       "    </tr>\n",
       "    <tr>\n",
       "      <th>61743</th>\n",
       "      <td>2eecb0d85f281280f79fa00f9cec1a95</td>\n",
       "      <td>a3d3c38e58b9d2dfb9207cab690b6310</td>\n",
       "      <td>delivered</td>\n",
       "      <td>2017-02-17 17:21:55</td>\n",
       "      <td>NaT</td>\n",
       "      <td>2017-02-22 11:42:51</td>\n",
       "      <td>2017-03-03 12:16:03</td>\n",
       "      <td>2017-03-20</td>\n",
       "      <td>NaT</td>\n",
       "      <td>4 days 18:20:56</td>\n",
       "      <td>13 days 18:54:08</td>\n",
       "    </tr>\n",
       "    <tr>\n",
       "      <th>72407</th>\n",
       "      <td>3c0b8706b065f9919d0505d3b3343881</td>\n",
       "      <td>d85919cb3c0529589c6fa617f5f43281</td>\n",
       "      <td>delivered</td>\n",
       "      <td>2017-02-17 15:53:27</td>\n",
       "      <td>NaT</td>\n",
       "      <td>2017-02-22 11:31:30</td>\n",
       "      <td>2017-03-03 11:47:47</td>\n",
       "      <td>2017-03-23</td>\n",
       "      <td>NaT</td>\n",
       "      <td>4 days 19:38:03</td>\n",
       "      <td>13 days 19:54:20</td>\n",
       "    </tr>\n",
       "    <tr>\n",
       "      <th>23156</th>\n",
       "      <td>12a95a3c06dbaec84bcfb0e2da5d228a</td>\n",
       "      <td>1e101e0daffaddce8159d25a8e53f2b2</td>\n",
       "      <td>delivered</td>\n",
       "      <td>2017-02-17 13:05:55</td>\n",
       "      <td>NaT</td>\n",
       "      <td>2017-02-22 11:23:11</td>\n",
       "      <td>2017-03-02 11:09:19</td>\n",
       "      <td>2017-03-20</td>\n",
       "      <td>NaT</td>\n",
       "      <td>4 days 22:17:16</td>\n",
       "      <td>12 days 22:03:24</td>\n",
       "    </tr>\n",
       "    <tr>\n",
       "      <th>48401</th>\n",
       "      <td>7002a78c79c519ac54022d4f8a65e6e8</td>\n",
       "      <td>d5de688c321096d15508faae67a27051</td>\n",
       "      <td>delivered</td>\n",
       "      <td>2017-01-19 22:26:59</td>\n",
       "      <td>NaT</td>\n",
       "      <td>2017-01-27 11:08:05</td>\n",
       "      <td>2017-02-06 14:22:19</td>\n",
       "      <td>2017-03-16</td>\n",
       "      <td>NaT</td>\n",
       "      <td>7 days 12:41:06</td>\n",
       "      <td>17 days 15:55:20</td>\n",
       "    </tr>\n",
       "    <tr>\n",
       "      <th>26800</th>\n",
       "      <td>c1d4211b3dae76144deccd6c74144a88</td>\n",
       "      <td>684cb238dc5b5d6366244e0e0776b450</td>\n",
       "      <td>delivered</td>\n",
       "      <td>2017-01-19 12:48:08</td>\n",
       "      <td>NaT</td>\n",
       "      <td>2017-01-25 14:56:50</td>\n",
       "      <td>2017-01-30 18:16:01</td>\n",
       "      <td>2017-03-01</td>\n",
       "      <td>NaT</td>\n",
       "      <td>6 days 02:08:42</td>\n",
       "      <td>11 days 05:27:53</td>\n",
       "    </tr>\n",
       "  </tbody>\n",
       "</table>\n",
       "</div>"
      ],
      "text/plain": [
       "                               order_id                       customer_id  \\\n",
       "38290  d69e5d356402adc8cf17e08b5033acfb  68d081753ad4fe22fc4d410a9eb1ca01   \n",
       "67697  88083e8f64d95b932164187484d90212  f67cd1a215aae2a1074638bbd35a223a   \n",
       "84999  2babbb4b15e6d2dfe95e2de765c97bce  74bebaf46603f9340e3b50c6b086f992   \n",
       "22663  5cf925b116421afa85ee25e99b4c34fb  29c35fc91fc13fb5073c8f30505d860d   \n",
       "63052  51eb2eebd5d76a24625b31c33dd41449  07a2a7e0f63fd8cb757ed77d4245623c   \n",
       "5323   e04abd8149ef81b95221e88f6ed9ab6a  2127dc6603ac33544953ef05ec155771   \n",
       "19031  7013bcfc1c97fe719a7b5e05e61c12db  2941af76d38100e0f8740a374f1a5dc3   \n",
       "16567  8a9adc69528e1001fc68dd0aaebbb54a  4c1ccc74e00993733742a3c786dc3c1f   \n",
       "39334  d77031d6a3c8a52f019764e68f211c69  0bf35cac6cc7327065da879e2d90fae8   \n",
       "61743  2eecb0d85f281280f79fa00f9cec1a95  a3d3c38e58b9d2dfb9207cab690b6310   \n",
       "72407  3c0b8706b065f9919d0505d3b3343881  d85919cb3c0529589c6fa617f5f43281   \n",
       "23156  12a95a3c06dbaec84bcfb0e2da5d228a  1e101e0daffaddce8159d25a8e53f2b2   \n",
       "48401  7002a78c79c519ac54022d4f8a65e6e8  d5de688c321096d15508faae67a27051   \n",
       "26800  c1d4211b3dae76144deccd6c74144a88  684cb238dc5b5d6366244e0e0776b450   \n",
       "\n",
       "      order_status order_purchase_timestamp order_approved_at  \\\n",
       "38290    delivered      2017-02-19 01:28:47               NaT   \n",
       "67697    delivered      2017-02-18 22:49:19               NaT   \n",
       "84999    delivered      2017-02-18 17:15:03               NaT   \n",
       "22663    delivered      2017-02-18 16:48:35               NaT   \n",
       "63052    delivered      2017-02-18 15:52:27               NaT   \n",
       "5323     delivered      2017-02-18 14:40:00               NaT   \n",
       "19031    delivered      2017-02-18 13:29:47               NaT   \n",
       "16567    delivered      2017-02-18 12:45:31               NaT   \n",
       "39334    delivered      2017-02-18 11:04:19               NaT   \n",
       "61743    delivered      2017-02-17 17:21:55               NaT   \n",
       "72407    delivered      2017-02-17 15:53:27               NaT   \n",
       "23156    delivered      2017-02-17 13:05:55               NaT   \n",
       "48401    delivered      2017-01-19 22:26:59               NaT   \n",
       "26800    delivered      2017-01-19 12:48:08               NaT   \n",
       "\n",
       "      order_delivered_carrier_date order_delivered_customer_date  \\\n",
       "38290          2017-02-23 03:11:48           2017-03-02 03:41:58   \n",
       "67697          2017-02-22 11:31:06           2017-03-02 12:06:06   \n",
       "84999          2017-02-22 11:23:11           2017-03-03 18:43:43   \n",
       "22663          2017-02-22 11:23:10           2017-03-09 07:28:47   \n",
       "63052          2017-02-23 03:09:14           2017-03-07 13:57:47   \n",
       "5323           2017-02-23 12:04:47           2017-03-01 13:25:33   \n",
       "19031          2017-02-22 16:25:25           2017-03-01 08:07:38   \n",
       "16567          2017-02-23 09:01:52           2017-03-02 10:05:06   \n",
       "39334          2017-02-23 07:23:36           2017-03-02 16:15:23   \n",
       "61743          2017-02-22 11:42:51           2017-03-03 12:16:03   \n",
       "72407          2017-02-22 11:31:30           2017-03-03 11:47:47   \n",
       "23156          2017-02-22 11:23:11           2017-03-02 11:09:19   \n",
       "48401          2017-01-27 11:08:05           2017-02-06 14:22:19   \n",
       "26800          2017-01-25 14:56:50           2017-01-30 18:16:01   \n",
       "\n",
       "      order_estimated_delivery_date diff_approved_created  \\\n",
       "38290                    2017-03-27                   NaT   \n",
       "67697                    2017-03-21                   NaT   \n",
       "84999                    2017-03-31                   NaT   \n",
       "22663                    2017-03-31                   NaT   \n",
       "63052                    2017-03-29                   NaT   \n",
       "5323                     2017-03-17                   NaT   \n",
       "19031                    2017-03-17                   NaT   \n",
       "16567                    2017-03-21                   NaT   \n",
       "39334                    2017-03-22                   NaT   \n",
       "61743                    2017-03-20                   NaT   \n",
       "72407                    2017-03-23                   NaT   \n",
       "23156                    2017-03-20                   NaT   \n",
       "48401                    2017-03-16                   NaT   \n",
       "26800                    2017-03-01                   NaT   \n",
       "\n",
       "      diff_shipped_created diff_delivered_created  \n",
       "38290      4 days 01:43:01       11 days 02:13:11  \n",
       "67697      3 days 12:41:47       11 days 13:16:47  \n",
       "84999      3 days 18:08:08       13 days 01:28:40  \n",
       "22663      3 days 18:34:35       18 days 14:40:12  \n",
       "63052      4 days 11:16:47       16 days 22:05:20  \n",
       "5323       4 days 21:24:47       10 days 22:45:33  \n",
       "19031      4 days 02:55:38       10 days 18:37:51  \n",
       "16567      4 days 20:16:21       11 days 21:19:35  \n",
       "39334      4 days 20:19:17       12 days 05:11:04  \n",
       "61743      4 days 18:20:56       13 days 18:54:08  \n",
       "72407      4 days 19:38:03       13 days 19:54:20  \n",
       "23156      4 days 22:17:16       12 days 22:03:24  \n",
       "48401      7 days 12:41:06       17 days 15:55:20  \n",
       "26800      6 days 02:08:42       11 days 05:27:53  "
      ]
     },
     "execution_count": 24,
     "metadata": {},
     "output_type": "execute_result"
    }
   ],
   "source": [
    "orders_df[orders_df.order_approved_at.isnull()] \\\n",
    "    .query('order_status == \"delivered\"') \\\n",
    "    .sort_values(by = 'order_purchase_timestamp', ascending = False)"
   ]
  },
  {
   "cell_type": "markdown",
   "metadata": {},
   "source": [
    "**Гипотезы**: \n",
    "1. По delivered-заказам с пропуском в `order_approved_at` работает модель пост-оплаты: оплата после доставки, при получении\n",
    "2. Пользователь не принял заказ даже после доставки в силу каких-то причин и не заплатил\n",
    "3. Закралась ошибка в логах: заказ либо на самом деле не доставлен, либо уже доставлен и оплачен\n",
    "\n",
    "В первых двух случаях в базе данных, скорее всего, со временем появилась бы информация либо о получении оплаты (`order_approved_at`), либо об отмене заказа (`order_status = canceled`). Однако на руках у нас лишь выгрузка данных за определенный период, в которой по этим заказам нет более актуальной информации (потому что все `order_id` в датасете `orders_df` уникальны). Но если эти заказы появились, по меркам датасета, совсем недавно, первые две гипотезы отвергнуть нельзя. \n",
    "\n",
    "Проверим, за какое время хранятся данные в нашем датасете: "
   ]
  },
  {
   "cell_type": "code",
   "execution_count": 25,
   "metadata": {
    "scrolled": true
   },
   "outputs": [
    {
     "data": {
      "text/html": [
       "<div>\n",
       "<style scoped>\n",
       "    .dataframe tbody tr th:only-of-type {\n",
       "        vertical-align: middle;\n",
       "    }\n",
       "\n",
       "    .dataframe tbody tr th {\n",
       "        vertical-align: top;\n",
       "    }\n",
       "\n",
       "    .dataframe thead th {\n",
       "        text-align: right;\n",
       "    }\n",
       "</style>\n",
       "<table border=\"1\" class=\"dataframe\">\n",
       "  <thead>\n",
       "    <tr style=\"text-align: right;\">\n",
       "      <th></th>\n",
       "      <th>order_purchase_timestamp</th>\n",
       "      <th>order_approved_at</th>\n",
       "      <th>order_delivered_carrier_date</th>\n",
       "      <th>order_delivered_customer_date</th>\n",
       "      <th>order_estimated_delivery_date</th>\n",
       "    </tr>\n",
       "  </thead>\n",
       "  <tbody>\n",
       "    <tr>\n",
       "      <th>count</th>\n",
       "      <td>99441</td>\n",
       "      <td>99281</td>\n",
       "      <td>97658</td>\n",
       "      <td>96476</td>\n",
       "      <td>99441</td>\n",
       "    </tr>\n",
       "    <tr>\n",
       "      <th>unique</th>\n",
       "      <td>98875</td>\n",
       "      <td>90733</td>\n",
       "      <td>81018</td>\n",
       "      <td>95664</td>\n",
       "      <td>459</td>\n",
       "    </tr>\n",
       "    <tr>\n",
       "      <th>top</th>\n",
       "      <td>2018-03-31 15:08:21</td>\n",
       "      <td>2018-02-27 04:31:10</td>\n",
       "      <td>2018-05-09 15:48:00</td>\n",
       "      <td>2018-05-14 20:02:44</td>\n",
       "      <td>2017-12-20 00:00:00</td>\n",
       "    </tr>\n",
       "    <tr>\n",
       "      <th>freq</th>\n",
       "      <td>3</td>\n",
       "      <td>9</td>\n",
       "      <td>47</td>\n",
       "      <td>3</td>\n",
       "      <td>522</td>\n",
       "    </tr>\n",
       "    <tr>\n",
       "      <th>first</th>\n",
       "      <td>2016-09-04 21:15:19</td>\n",
       "      <td>2016-09-15 12:16:38</td>\n",
       "      <td>2016-10-08 10:34:01</td>\n",
       "      <td>2016-10-11 13:46:32</td>\n",
       "      <td>2016-09-30 00:00:00</td>\n",
       "    </tr>\n",
       "    <tr>\n",
       "      <th>last</th>\n",
       "      <td>2018-10-17 17:30:18</td>\n",
       "      <td>2018-09-03 17:40:06</td>\n",
       "      <td>2018-09-11 19:48:28</td>\n",
       "      <td>2018-10-17 13:22:46</td>\n",
       "      <td>2018-11-12 00:00:00</td>\n",
       "    </tr>\n",
       "  </tbody>\n",
       "</table>\n",
       "</div>"
      ],
      "text/plain": [
       "       order_purchase_timestamp    order_approved_at  \\\n",
       "count                     99441                99281   \n",
       "unique                    98875                90733   \n",
       "top         2018-03-31 15:08:21  2018-02-27 04:31:10   \n",
       "freq                          3                    9   \n",
       "first       2016-09-04 21:15:19  2016-09-15 12:16:38   \n",
       "last        2018-10-17 17:30:18  2018-09-03 17:40:06   \n",
       "\n",
       "       order_delivered_carrier_date order_delivered_customer_date  \\\n",
       "count                         97658                         96476   \n",
       "unique                        81018                         95664   \n",
       "top             2018-05-09 15:48:00           2018-05-14 20:02:44   \n",
       "freq                             47                             3   \n",
       "first           2016-10-08 10:34:01           2016-10-11 13:46:32   \n",
       "last            2018-09-11 19:48:28           2018-10-17 13:22:46   \n",
       "\n",
       "       order_estimated_delivery_date  \n",
       "count                          99441  \n",
       "unique                           459  \n",
       "top              2017-12-20 00:00:00  \n",
       "freq                             522  \n",
       "first            2016-09-30 00:00:00  \n",
       "last             2018-11-12 00:00:00  "
      ]
     },
     "execution_count": 25,
     "metadata": {},
     "output_type": "execute_result"
    }
   ],
   "source": [
    "orders_df.select_dtypes(include=['datetime64']).describe()"
   ]
  },
  {
   "cell_type": "markdown",
   "metadata": {},
   "source": [
    "Данные в датасете `orders_df` представлены за 2 года: с сентября-октября 2016 по сентябрь-октябрь 2018. В то же время все 14 заказов с пропусками в `order_approved_at` и статусом `delivered` были созданы в январе-феврале 2017 года, поэтому нельзя предположить, что в них возможны какие-то изменения. \n",
    "\n",
    "Действительно, можно заметить, что 14 подозрительных заказов сосредоточены в относительно небольшом промежутке времени. Поэтому возникает еще одна **гипотеза:**\n",
    "4. Не случалось ли в этот промежуток времени время массовых сбоев при логировании?"
   ]
  },
  {
   "cell_type": "code",
   "execution_count": 26,
   "metadata": {
    "scrolled": true
   },
   "outputs": [
    {
     "name": "stdout",
     "output_type": "stream",
     "text": [
      "Записей за период:  1847\n"
     ]
    },
    {
     "data": {
      "text/html": [
       "<div>\n",
       "<style scoped>\n",
       "    .dataframe tbody tr th:only-of-type {\n",
       "        vertical-align: middle;\n",
       "    }\n",
       "\n",
       "    .dataframe tbody tr th {\n",
       "        vertical-align: top;\n",
       "    }\n",
       "\n",
       "    .dataframe thead th {\n",
       "        text-align: right;\n",
       "    }\n",
       "</style>\n",
       "<table border=\"1\" class=\"dataframe\">\n",
       "  <thead>\n",
       "    <tr style=\"text-align: right;\">\n",
       "      <th></th>\n",
       "      <th>diff_approved_created</th>\n",
       "      <th>diff_shipped_created</th>\n",
       "      <th>diff_delivered_created</th>\n",
       "    </tr>\n",
       "  </thead>\n",
       "  <tbody>\n",
       "    <tr>\n",
       "      <th>count</th>\n",
       "      <td>1831</td>\n",
       "      <td>1745</td>\n",
       "      <td>1720</td>\n",
       "    </tr>\n",
       "    <tr>\n",
       "      <th>mean</th>\n",
       "      <td>0 days 10:18:08.187875477</td>\n",
       "      <td>3 days 11:24:21.492263610</td>\n",
       "      <td>12 days 13:41:11.837209302</td>\n",
       "    </tr>\n",
       "    <tr>\n",
       "      <th>std</th>\n",
       "      <td>1 days 15:11:51.542406988</td>\n",
       "      <td>4 days 15:06:34.897969424</td>\n",
       "      <td>9 days 08:41:58.131471438</td>\n",
       "    </tr>\n",
       "    <tr>\n",
       "      <th>min</th>\n",
       "      <td>0 days 00:05:42</td>\n",
       "      <td>0 days 00:15:33</td>\n",
       "      <td>1 days 02:39:47</td>\n",
       "    </tr>\n",
       "    <tr>\n",
       "      <th>25%</th>\n",
       "      <td>0 days 00:11:08</td>\n",
       "      <td>0 days 22:53:09</td>\n",
       "      <td>7 days 05:48:32.750000</td>\n",
       "    </tr>\n",
       "    <tr>\n",
       "      <th>50%</th>\n",
       "      <td>0 days 00:14:25</td>\n",
       "      <td>2 days 03:12:37</td>\n",
       "      <td>10 days 13:58:16</td>\n",
       "    </tr>\n",
       "    <tr>\n",
       "      <th>75%</th>\n",
       "      <td>0 days 12:36:37</td>\n",
       "      <td>3 days 23:32:33</td>\n",
       "      <td>14 days 21:15:53.500000</td>\n",
       "    </tr>\n",
       "    <tr>\n",
       "      <th>max</th>\n",
       "      <td>60 days 10:51:59</td>\n",
       "      <td>54 days 22:02:41</td>\n",
       "      <td>130 days 16:20:35</td>\n",
       "    </tr>\n",
       "  </tbody>\n",
       "</table>\n",
       "</div>"
      ],
      "text/plain": [
       "           diff_approved_created       diff_shipped_created  \\\n",
       "count                       1831                       1745   \n",
       "mean   0 days 10:18:08.187875477  3 days 11:24:21.492263610   \n",
       "std    1 days 15:11:51.542406988  4 days 15:06:34.897969424   \n",
       "min              0 days 00:05:42            0 days 00:15:33   \n",
       "25%              0 days 00:11:08            0 days 22:53:09   \n",
       "50%              0 days 00:14:25            2 days 03:12:37   \n",
       "75%              0 days 12:36:37            3 days 23:32:33   \n",
       "max             60 days 10:51:59           54 days 22:02:41   \n",
       "\n",
       "           diff_delivered_created  \n",
       "count                        1720  \n",
       "mean   12 days 13:41:11.837209302  \n",
       "std     9 days 08:41:58.131471438  \n",
       "min               1 days 02:39:47  \n",
       "25%        7 days 05:48:32.750000  \n",
       "50%              10 days 13:58:16  \n",
       "75%       14 days 21:15:53.500000  \n",
       "max             130 days 16:20:35  "
      ]
     },
     "execution_count": 26,
     "metadata": {},
     "output_type": "execute_result"
    }
   ],
   "source": [
    "between_dates_logs = orders_df.query('(order_purchase_timestamp >= \"2017-01-19 12:48:08\") and (order_purchase_timestamp <= \"2017-02-19 01:28:47\")') \\\n",
    "    .sort_values(by = 'order_purchase_timestamp', ascending = False)\n",
    "print('Записей за период: ',between_dates_logs.shape[0])\n",
    "pd.DataFrame(\n",
    "    {'diff_approved_created':between_dates_logs.diff_approved_created,\n",
    "     'diff_shipped_created':between_dates_logs.diff_shipped_created,\n",
    "     'diff_delivered_created':between_dates_logs.diff_delivered_created}\n",
    ").describe()"
   ]
  },
  {
   "cell_type": "code",
   "execution_count": 27,
   "metadata": {},
   "outputs": [
    {
     "data": {
      "text/plain": [
       "16"
      ]
     },
     "execution_count": 27,
     "metadata": {},
     "output_type": "execute_result"
    }
   ],
   "source": [
    "between_dates_logs.order_approved_at.isna().sum()"
   ]
  },
  {
   "cell_type": "markdown",
   "metadata": {},
   "source": [
    "**Вывод:** нет, в данный период не наблюдалось всплеска нетипичных данных, а также большого количества пропусков по столбцу `order_approved_at`.\n",
    "За неимением альтернатив мы делаем вывод в пользу гипотезы №3 — эти заказы можно отнести к **аномалиям.**\n",
    "\n",
    "**Аномалиями** будем считать наблюдения, характеристики которых нетипичны для основной массы данных и которые нельзя однозначно объяснить в рамках имеющейся информации и принятых на основе нее допущений, либо наблюдения, которые однозначно можно отнести к ошибкам."
   ]
  },
  {
   "cell_type": "markdown",
   "metadata": {},
   "source": [
    "Проверим датасет на более \"очевидные\" аномалии — те, что можно точно отнести к ошибкам:\n",
    "1. Заказ оплачен раньше, чем создан\n",
    "2. Заказ передан в доставку раньше, чем создан\n",
    "3. Заказ доставлен покупателю раньше, чем создан\n",
    "4. Заказ обещали доставить раньше, чем заказ был создан\n",
    "5. Заказ доставлен покупателю раньше, чем передан в доставку\n",
    "\n",
    "И создадим дополнительные переменные для их отслеживания (для отслеживания первых 3-х аномалий достаточно переменных, которые мы уже создавали: `diff_approved_created`, `diff_shipped_created`, `diff_delivered_created`)."
   ]
  },
  {
   "cell_type": "code",
   "execution_count": 28,
   "metadata": {},
   "outputs": [],
   "source": [
    "# 4. Обещанная дата доставки-создание\n",
    "orders_df['diff_estimated_created'] = orders_df.order_estimated_delivery_date - orders_df.order_purchase_timestamp\n",
    "\n",
    "# 5. Доставка покупателю-передача в доставку\n",
    "orders_df['diff_delivered_shipped'] = orders_df.order_delivered_customer_date - orders_df.order_delivered_carrier_date"
   ]
  },
  {
   "cell_type": "markdown",
   "metadata": {},
   "source": [
    "Таких аномалий в датасете 189:"
   ]
  },
  {
   "cell_type": "code",
   "execution_count": 29,
   "metadata": {
    "scrolled": true
   },
   "outputs": [
    {
     "data": {
      "text/plain": [
       "189"
      ]
     },
     "execution_count": 29,
     "metadata": {},
     "output_type": "execute_result"
    }
   ],
   "source": [
    "orders_df[\n",
    "    (\n",
    "        orders_df['diff_approved_created'] < pd.Timedelta(0)\n",
    "    ) | (\n",
    "        orders_df['diff_shipped_created'] < pd.Timedelta(0)\n",
    "    ) | (\n",
    "        orders_df['diff_delivered_created'] < pd.Timedelta(0)\n",
    "    ) | (\n",
    "        orders_df['diff_estimated_created'] < pd.Timedelta(0)\n",
    "    ) | (\n",
    "        orders_df['diff_delivered_shipped'] < pd.Timedelta(0)\n",
    "    )\n",
    "].order_id.count()"
   ]
  },
  {
   "cell_type": "code",
   "execution_count": 30,
   "metadata": {},
   "outputs": [],
   "source": [
    "anomalies = orders_df[\n",
    "    (\n",
    "        orders_df['diff_approved_created'] < pd.Timedelta(0)\n",
    "    ) | (\n",
    "        orders_df['diff_shipped_created'] < pd.Timedelta(0)\n",
    "    ) | (\n",
    "        orders_df['diff_delivered_created'] < pd.Timedelta(0)\n",
    "    ) | (\n",
    "        orders_df['diff_estimated_created'] < pd.Timedelta(0)\n",
    "    ) | (\n",
    "        orders_df['diff_delivered_shipped'] < pd.Timedelta(0)\n",
    "    )\n",
    "]"
   ]
  },
  {
   "cell_type": "markdown",
   "metadata": {},
   "source": [
    "Включим в список аномалий заказы с пропусками в `order_approved_at` и со статусом `delivered`."
   ]
  },
  {
   "cell_type": "code",
   "execution_count": 31,
   "metadata": {
    "scrolled": false
   },
   "outputs": [],
   "source": [
    "anomalies = anomalies.append(\n",
    "    orders_df[orders_df.order_approved_at.isnull()] \\\n",
    "    .query('order_status == \"delivered\"')\n",
    ")"
   ]
  },
  {
   "cell_type": "code",
   "execution_count": 32,
   "metadata": {},
   "outputs": [
    {
     "data": {
      "text/plain": [
       "(203, 13)"
      ]
     },
     "execution_count": 32,
     "metadata": {},
     "output_type": "execute_result"
    }
   ],
   "source": [
    "anomalies.shape"
   ]
  },
  {
   "cell_type": "markdown",
   "metadata": {},
   "source": [
    "**2. Пропуски в колонке `order_delivered_carrier_date` (время передачи заказа в логистическую службу)**\n",
    "\n",
    "По этим заказам не была получена информация, что они были переданы в службу доставки e-com площадки. Посмотрим на статусы этих заказов. "
   ]
  },
  {
   "cell_type": "code",
   "execution_count": 33,
   "metadata": {},
   "outputs": [
    {
     "data": {
      "image/png": "[encoded data removed]",
      "text/plain": [
       "<Figure size 1440x360 with 1 Axes>"
      ]
     },
     "metadata": {},
     "output_type": "display_data"
    }
   ],
   "source": [
    "sns.countplot(data=orders_df[orders_df.order_delivered_carrier_date.isnull()], x=\"order_status\");"
   ]
  },
  {
   "cell_type": "code",
   "execution_count": 34,
   "metadata": {
    "scrolled": true
   },
   "outputs": [
    {
     "data": {
      "text/plain": [
       "unavailable    609\n",
       "canceled       550\n",
       "invoiced       314\n",
       "processing     301\n",
       "created          5\n",
       "approved         2\n",
       "delivered        2\n",
       "Name: order_status, dtype: int64"
      ]
     },
     "execution_count": 34,
     "metadata": {},
     "output_type": "execute_result"
    }
   ],
   "source": [
    "orders_df[orders_df.order_delivered_carrier_date.isnull()] \\\n",
    "    .order_status.value_counts()"
   ]
  },
  {
   "cell_type": "markdown",
   "metadata": {},
   "source": [
    "Большинство из таких заказов — отменены, либо недоступны, либо на них только выставлен счет, какие-то заказы в процессе сборки, какие-то только созданы, какие-то только оплачены. Однако здесь также есть заказы со статусом `delivered`, которые перед этим не были переданы в доставку. Почему такое могло произойти?\n",
    "Посмотрим на эти 2 заказа."
   ]
  },
  {
   "cell_type": "code",
   "execution_count": 35,
   "metadata": {
    "scrolled": true
   },
   "outputs": [
    {
     "data": {
      "text/html": [
       "<div>\n",
       "<style scoped>\n",
       "    .dataframe tbody tr th:only-of-type {\n",
       "        vertical-align: middle;\n",
       "    }\n",
       "\n",
       "    .dataframe tbody tr th {\n",
       "        vertical-align: top;\n",
       "    }\n",
       "\n",
       "    .dataframe thead th {\n",
       "        text-align: right;\n",
       "    }\n",
       "</style>\n",
       "<table border=\"1\" class=\"dataframe\">\n",
       "  <thead>\n",
       "    <tr style=\"text-align: right;\">\n",
       "      <th></th>\n",
       "      <th>order_id</th>\n",
       "      <th>customer_id</th>\n",
       "      <th>order_status</th>\n",
       "      <th>order_purchase_timestamp</th>\n",
       "      <th>order_approved_at</th>\n",
       "      <th>order_delivered_carrier_date</th>\n",
       "      <th>order_delivered_customer_date</th>\n",
       "      <th>order_estimated_delivery_date</th>\n",
       "      <th>diff_approved_created</th>\n",
       "      <th>diff_shipped_created</th>\n",
       "      <th>diff_delivered_created</th>\n",
       "      <th>diff_estimated_created</th>\n",
       "      <th>diff_delivered_shipped</th>\n",
       "    </tr>\n",
       "  </thead>\n",
       "  <tbody>\n",
       "    <tr>\n",
       "      <th>73222</th>\n",
       "      <td>2aa91108853cecb43c84a5dc5b277475</td>\n",
       "      <td>afeb16c7f46396c0ed54acb45ccaaa40</td>\n",
       "      <td>delivered</td>\n",
       "      <td>2017-09-29 08:52:58</td>\n",
       "      <td>2017-09-29 09:07:16</td>\n",
       "      <td>NaT</td>\n",
       "      <td>2017-11-20 19:44:47</td>\n",
       "      <td>2017-11-14</td>\n",
       "      <td>0 days 00:14:18</td>\n",
       "      <td>NaT</td>\n",
       "      <td>52 days 10:51:49</td>\n",
       "      <td>45 days 15:07:02</td>\n",
       "      <td>NaT</td>\n",
       "    </tr>\n",
       "    <tr>\n",
       "      <th>92643</th>\n",
       "      <td>2d858f451373b04fb5c984a1cc2defaf</td>\n",
       "      <td>e08caf668d499a6d643dafd7c5cc498a</td>\n",
       "      <td>delivered</td>\n",
       "      <td>2017-05-25 23:22:43</td>\n",
       "      <td>2017-05-25 23:30:16</td>\n",
       "      <td>NaT</td>\n",
       "      <td>NaT</td>\n",
       "      <td>2017-06-23</td>\n",
       "      <td>0 days 00:07:33</td>\n",
       "      <td>NaT</td>\n",
       "      <td>NaT</td>\n",
       "      <td>28 days 00:37:17</td>\n",
       "      <td>NaT</td>\n",
       "    </tr>\n",
       "  </tbody>\n",
       "</table>\n",
       "</div>"
      ],
      "text/plain": [
       "                               order_id                       customer_id  \\\n",
       "73222  2aa91108853cecb43c84a5dc5b277475  afeb16c7f46396c0ed54acb45ccaaa40   \n",
       "92643  2d858f451373b04fb5c984a1cc2defaf  e08caf668d499a6d643dafd7c5cc498a   \n",
       "\n",
       "      order_status order_purchase_timestamp   order_approved_at  \\\n",
       "73222    delivered      2017-09-29 08:52:58 2017-09-29 09:07:16   \n",
       "92643    delivered      2017-05-25 23:22:43 2017-05-25 23:30:16   \n",
       "\n",
       "      order_delivered_carrier_date order_delivered_customer_date  \\\n",
       "73222                          NaT           2017-11-20 19:44:47   \n",
       "92643                          NaT                           NaT   \n",
       "\n",
       "      order_estimated_delivery_date diff_approved_created  \\\n",
       "73222                    2017-11-14       0 days 00:14:18   \n",
       "92643                    2017-06-23       0 days 00:07:33   \n",
       "\n",
       "      diff_shipped_created diff_delivered_created diff_estimated_created  \\\n",
       "73222                  NaT       52 days 10:51:49       45 days 15:07:02   \n",
       "92643                  NaT                    NaT       28 days 00:37:17   \n",
       "\n",
       "      diff_delivered_shipped  \n",
       "73222                    NaT  \n",
       "92643                    NaT  "
      ]
     },
     "execution_count": 35,
     "metadata": {},
     "output_type": "execute_result"
    }
   ],
   "source": [
    "orders_df[\n",
    "    (orders_df.order_delivered_carrier_date.isnull())\n",
    "    & (orders_df.order_status == 'delivered')\n",
    "]"
   ]
  },
  {
   "cell_type": "markdown",
   "metadata": {},
   "source": [
    "* Заказ с id = `2aa91108853cecb43c84a5dc5b277475` был доставлен покупателю, хотя и с опозданием. Возможно, этот заказ доставлялся службой доставки самого продавца, хотя этот случай единичный. Именно из-за того, что этот случай единственный и он нарушает логику процесса выполнения заказа, которую мы установили ранее, предположим, что это все-таки ошибка и отнесем этот заказ к аномалиям.\n",
    "* Заказ с id = `2d858f451373b04fb5c984a1cc2defaf` вовсе не был доставлен конечному клиенту, хотя статус доставки стоит. Это, безусловно, аномалия, и такие случаи мы будем проверять в 3 пункте работы с пропусками: по полю `order_delivered_customer_date`"
   ]
  },
  {
   "cell_type": "code",
   "execution_count": 36,
   "metadata": {},
   "outputs": [
    {
     "data": {
      "text/plain": [
       "(204, 13)"
      ]
     },
     "execution_count": 36,
     "metadata": {},
     "output_type": "execute_result"
    }
   ],
   "source": [
    "anomalies = anomalies.append(orders_df.query('order_id == \"2aa91108853cecb43c84a5dc5b277475\"'))\n",
    "anomalies.shape"
   ]
  },
  {
   "cell_type": "markdown",
   "metadata": {},
   "source": [
    "**3. Пропуски в колонке `order_delivered_customer_date` (время доставки заказа клиенту)**\n",
    "\n",
    "По этим заказам не была получена информация о доставке конечному клиенту. Посмотрим на статусы этих заказов. "
   ]
  },
  {
   "cell_type": "code",
   "execution_count": 37,
   "metadata": {
    "scrolled": false
   },
   "outputs": [
    {
     "data": {
      "image/png": "[encoded data removed]",
      "text/plain": [
       "<Figure size 1440x360 with 1 Axes>"
      ]
     },
     "metadata": {},
     "output_type": "display_data"
    }
   ],
   "source": [
    "sns.countplot(data=orders_df[orders_df.order_delivered_customer_date.isnull()], x=\"order_status\");"
   ]
  },
  {
   "cell_type": "code",
   "execution_count": 38,
   "metadata": {
    "scrolled": true
   },
   "outputs": [
    {
     "data": {
      "text/plain": [
       "shipped        1107\n",
       "canceled        619\n",
       "unavailable     609\n",
       "invoiced        314\n",
       "processing      301\n",
       "delivered         8\n",
       "created           5\n",
       "approved          2\n",
       "Name: order_status, dtype: int64"
      ]
     },
     "execution_count": 38,
     "metadata": {},
     "output_type": "execute_result"
    }
   ],
   "source": [
    "orders_df[orders_df.order_delivered_customer_date.isnull()] \\\n",
    "    .order_status.value_counts()"
   ]
  },
  {
   "cell_type": "markdown",
   "metadata": {},
   "source": [
    "Опять же, большая часть таких заказов имеет промежуточный статус, поэтому неудивительно, что по ним отсутствует дата доставки конечному покупателю. Однако 8 заказов имеют статус `delivered`, что, очевидно, является аномалией."
   ]
  },
  {
   "cell_type": "code",
   "execution_count": 39,
   "metadata": {
    "scrolled": false
   },
   "outputs": [
    {
     "data": {
      "text/html": [
       "<div>\n",
       "<style scoped>\n",
       "    .dataframe tbody tr th:only-of-type {\n",
       "        vertical-align: middle;\n",
       "    }\n",
       "\n",
       "    .dataframe tbody tr th {\n",
       "        vertical-align: top;\n",
       "    }\n",
       "\n",
       "    .dataframe thead th {\n",
       "        text-align: right;\n",
       "    }\n",
       "</style>\n",
       "<table border=\"1\" class=\"dataframe\">\n",
       "  <thead>\n",
       "    <tr style=\"text-align: right;\">\n",
       "      <th></th>\n",
       "      <th>order_id</th>\n",
       "      <th>customer_id</th>\n",
       "      <th>order_status</th>\n",
       "      <th>order_purchase_timestamp</th>\n",
       "      <th>order_approved_at</th>\n",
       "      <th>order_delivered_carrier_date</th>\n",
       "      <th>order_delivered_customer_date</th>\n",
       "      <th>order_estimated_delivery_date</th>\n",
       "      <th>diff_approved_created</th>\n",
       "      <th>diff_shipped_created</th>\n",
       "      <th>diff_delivered_created</th>\n",
       "      <th>diff_estimated_created</th>\n",
       "      <th>diff_delivered_shipped</th>\n",
       "    </tr>\n",
       "  </thead>\n",
       "  <tbody>\n",
       "    <tr>\n",
       "      <th>3002</th>\n",
       "      <td>2d1e2d5bf4dc7227b3bfebb81328c15f</td>\n",
       "      <td>ec05a6d8558c6455f0cbbd8a420ad34f</td>\n",
       "      <td>delivered</td>\n",
       "      <td>2017-11-28 17:44:07</td>\n",
       "      <td>2017-11-28 17:56:40</td>\n",
       "      <td>2017-11-30 18:12:23</td>\n",
       "      <td>NaT</td>\n",
       "      <td>2017-12-18</td>\n",
       "      <td>0 days 00:12:33</td>\n",
       "      <td>2 days 00:28:16</td>\n",
       "      <td>NaT</td>\n",
       "      <td>19 days 06:15:53</td>\n",
       "      <td>NaT</td>\n",
       "    </tr>\n",
       "    <tr>\n",
       "      <th>20618</th>\n",
       "      <td>f5dd62b788049ad9fc0526e3ad11a097</td>\n",
       "      <td>5e89028e024b381dc84a13a3570decb4</td>\n",
       "      <td>delivered</td>\n",
       "      <td>2018-06-20 06:58:43</td>\n",
       "      <td>2018-06-20 07:19:05</td>\n",
       "      <td>2018-06-25 08:05:00</td>\n",
       "      <td>NaT</td>\n",
       "      <td>2018-07-16</td>\n",
       "      <td>0 days 00:20:22</td>\n",
       "      <td>5 days 01:06:17</td>\n",
       "      <td>NaT</td>\n",
       "      <td>25 days 17:01:17</td>\n",
       "      <td>NaT</td>\n",
       "    </tr>\n",
       "    <tr>\n",
       "      <th>43834</th>\n",
       "      <td>2ebdfc4f15f23b91474edf87475f108e</td>\n",
       "      <td>29f0540231702fda0cfdee0a310f11aa</td>\n",
       "      <td>delivered</td>\n",
       "      <td>2018-07-01 17:05:11</td>\n",
       "      <td>2018-07-01 17:15:12</td>\n",
       "      <td>2018-07-03 13:57:00</td>\n",
       "      <td>NaT</td>\n",
       "      <td>2018-07-30</td>\n",
       "      <td>0 days 00:10:01</td>\n",
       "      <td>1 days 20:51:49</td>\n",
       "      <td>NaT</td>\n",
       "      <td>28 days 06:54:49</td>\n",
       "      <td>NaT</td>\n",
       "    </tr>\n",
       "    <tr>\n",
       "      <th>79263</th>\n",
       "      <td>e69f75a717d64fc5ecdfae42b2e8e086</td>\n",
       "      <td>cfda40ca8dd0a5d486a9635b611b398a</td>\n",
       "      <td>delivered</td>\n",
       "      <td>2018-07-01 22:05:55</td>\n",
       "      <td>2018-07-01 22:15:14</td>\n",
       "      <td>2018-07-03 13:57:00</td>\n",
       "      <td>NaT</td>\n",
       "      <td>2018-07-30</td>\n",
       "      <td>0 days 00:09:19</td>\n",
       "      <td>1 days 15:51:05</td>\n",
       "      <td>NaT</td>\n",
       "      <td>28 days 01:54:05</td>\n",
       "      <td>NaT</td>\n",
       "    </tr>\n",
       "    <tr>\n",
       "      <th>82868</th>\n",
       "      <td>0d3268bad9b086af767785e3f0fc0133</td>\n",
       "      <td>4f1d63d35fb7c8999853b2699f5c7649</td>\n",
       "      <td>delivered</td>\n",
       "      <td>2018-07-01 21:14:02</td>\n",
       "      <td>2018-07-01 21:29:54</td>\n",
       "      <td>2018-07-03 09:28:00</td>\n",
       "      <td>NaT</td>\n",
       "      <td>2018-07-24</td>\n",
       "      <td>0 days 00:15:52</td>\n",
       "      <td>1 days 12:13:58</td>\n",
       "      <td>NaT</td>\n",
       "      <td>22 days 02:45:58</td>\n",
       "      <td>NaT</td>\n",
       "    </tr>\n",
       "    <tr>\n",
       "      <th>92643</th>\n",
       "      <td>2d858f451373b04fb5c984a1cc2defaf</td>\n",
       "      <td>e08caf668d499a6d643dafd7c5cc498a</td>\n",
       "      <td>delivered</td>\n",
       "      <td>2017-05-25 23:22:43</td>\n",
       "      <td>2017-05-25 23:30:16</td>\n",
       "      <td>NaT</td>\n",
       "      <td>NaT</td>\n",
       "      <td>2017-06-23</td>\n",
       "      <td>0 days 00:07:33</td>\n",
       "      <td>NaT</td>\n",
       "      <td>NaT</td>\n",
       "      <td>28 days 00:37:17</td>\n",
       "      <td>NaT</td>\n",
       "    </tr>\n",
       "    <tr>\n",
       "      <th>97647</th>\n",
       "      <td>ab7c89dc1bf4a1ead9d6ec1ec8968a84</td>\n",
       "      <td>dd1b84a7286eb4524d52af4256c0ba24</td>\n",
       "      <td>delivered</td>\n",
       "      <td>2018-06-08 12:09:39</td>\n",
       "      <td>2018-06-08 12:36:39</td>\n",
       "      <td>2018-06-12 14:10:00</td>\n",
       "      <td>NaT</td>\n",
       "      <td>2018-06-26</td>\n",
       "      <td>0 days 00:27:00</td>\n",
       "      <td>4 days 02:00:21</td>\n",
       "      <td>NaT</td>\n",
       "      <td>17 days 11:50:21</td>\n",
       "      <td>NaT</td>\n",
       "    </tr>\n",
       "    <tr>\n",
       "      <th>98038</th>\n",
       "      <td>20edc82cf5400ce95e1afacc25798b31</td>\n",
       "      <td>28c37425f1127d887d7337f284080a0f</td>\n",
       "      <td>delivered</td>\n",
       "      <td>2018-06-27 16:09:12</td>\n",
       "      <td>2018-06-27 16:29:30</td>\n",
       "      <td>2018-07-03 19:26:00</td>\n",
       "      <td>NaT</td>\n",
       "      <td>2018-07-19</td>\n",
       "      <td>0 days 00:20:18</td>\n",
       "      <td>6 days 03:16:48</td>\n",
       "      <td>NaT</td>\n",
       "      <td>21 days 07:50:48</td>\n",
       "      <td>NaT</td>\n",
       "    </tr>\n",
       "  </tbody>\n",
       "</table>\n",
       "</div>"
      ],
      "text/plain": [
       "                               order_id                       customer_id  \\\n",
       "3002   2d1e2d5bf4dc7227b3bfebb81328c15f  ec05a6d8558c6455f0cbbd8a420ad34f   \n",
       "20618  f5dd62b788049ad9fc0526e3ad11a097  5e89028e024b381dc84a13a3570decb4   \n",
       "43834  2ebdfc4f15f23b91474edf87475f108e  29f0540231702fda0cfdee0a310f11aa   \n",
       "79263  e69f75a717d64fc5ecdfae42b2e8e086  cfda40ca8dd0a5d486a9635b611b398a   \n",
       "82868  0d3268bad9b086af767785e3f0fc0133  4f1d63d35fb7c8999853b2699f5c7649   \n",
       "92643  2d858f451373b04fb5c984a1cc2defaf  e08caf668d499a6d643dafd7c5cc498a   \n",
       "97647  ab7c89dc1bf4a1ead9d6ec1ec8968a84  dd1b84a7286eb4524d52af4256c0ba24   \n",
       "98038  20edc82cf5400ce95e1afacc25798b31  28c37425f1127d887d7337f284080a0f   \n",
       "\n",
       "      order_status order_purchase_timestamp   order_approved_at  \\\n",
       "3002     delivered      2017-11-28 17:44:07 2017-11-28 17:56:40   \n",
       "20618    delivered      2018-06-20 06:58:43 2018-06-20 07:19:05   \n",
       "43834    delivered      2018-07-01 17:05:11 2018-07-01 17:15:12   \n",
       "79263    delivered      2018-07-01 22:05:55 2018-07-01 22:15:14   \n",
       "82868    delivered      2018-07-01 21:14:02 2018-07-01 21:29:54   \n",
       "92643    delivered      2017-05-25 23:22:43 2017-05-25 23:30:16   \n",
       "97647    delivered      2018-06-08 12:09:39 2018-06-08 12:36:39   \n",
       "98038    delivered      2018-06-27 16:09:12 2018-06-27 16:29:30   \n",
       "\n",
       "      order_delivered_carrier_date order_delivered_customer_date  \\\n",
       "3002           2017-11-30 18:12:23                           NaT   \n",
       "20618          2018-06-25 08:05:00                           NaT   \n",
       "43834          2018-07-03 13:57:00                           NaT   \n",
       "79263          2018-07-03 13:57:00                           NaT   \n",
       "82868          2018-07-03 09:28:00                           NaT   \n",
       "92643                          NaT                           NaT   \n",
       "97647          2018-06-12 14:10:00                           NaT   \n",
       "98038          2018-07-03 19:26:00                           NaT   \n",
       "\n",
       "      order_estimated_delivery_date diff_approved_created  \\\n",
       "3002                     2017-12-18       0 days 00:12:33   \n",
       "20618                    2018-07-16       0 days 00:20:22   \n",
       "43834                    2018-07-30       0 days 00:10:01   \n",
       "79263                    2018-07-30       0 days 00:09:19   \n",
       "82868                    2018-07-24       0 days 00:15:52   \n",
       "92643                    2017-06-23       0 days 00:07:33   \n",
       "97647                    2018-06-26       0 days 00:27:00   \n",
       "98038                    2018-07-19       0 days 00:20:18   \n",
       "\n",
       "      diff_shipped_created diff_delivered_created diff_estimated_created  \\\n",
       "3002       2 days 00:28:16                    NaT       19 days 06:15:53   \n",
       "20618      5 days 01:06:17                    NaT       25 days 17:01:17   \n",
       "43834      1 days 20:51:49                    NaT       28 days 06:54:49   \n",
       "79263      1 days 15:51:05                    NaT       28 days 01:54:05   \n",
       "82868      1 days 12:13:58                    NaT       22 days 02:45:58   \n",
       "92643                  NaT                    NaT       28 days 00:37:17   \n",
       "97647      4 days 02:00:21                    NaT       17 days 11:50:21   \n",
       "98038      6 days 03:16:48                    NaT       21 days 07:50:48   \n",
       "\n",
       "      diff_delivered_shipped  \n",
       "3002                     NaT  \n",
       "20618                    NaT  \n",
       "43834                    NaT  \n",
       "79263                    NaT  \n",
       "82868                    NaT  \n",
       "92643                    NaT  \n",
       "97647                    NaT  \n",
       "98038                    NaT  "
      ]
     },
     "execution_count": 39,
     "metadata": {},
     "output_type": "execute_result"
    }
   ],
   "source": [
    "orders_df[(orders_df.order_delivered_customer_date.isnull()) & (orders_df.order_status == 'delivered')]"
   ]
  },
  {
   "cell_type": "markdown",
   "metadata": {},
   "source": [
    "Проверяем, включены ли эти заказы в список аномальных:"
   ]
  },
  {
   "cell_type": "code",
   "execution_count": 40,
   "metadata": {},
   "outputs": [
    {
     "data": {
      "text/plain": [
       "0"
      ]
     },
     "execution_count": 40,
     "metadata": {},
     "output_type": "execute_result"
    }
   ],
   "source": [
    "delivered_not_delivered = list(orders_df[(orders_df.order_delivered_customer_date.isnull()) & (orders_df.order_status == 'delivered')].order_id)\n",
    "anomalies.order_id.isin(delivered_not_delivered).sum()"
   ]
  },
  {
   "cell_type": "markdown",
   "metadata": {},
   "source": [
    "Включаем:"
   ]
  },
  {
   "cell_type": "code",
   "execution_count": 41,
   "metadata": {
    "scrolled": true
   },
   "outputs": [
    {
     "data": {
      "text/plain": [
       "(212, 13)"
      ]
     },
     "execution_count": 41,
     "metadata": {},
     "output_type": "execute_result"
    }
   ],
   "source": [
    "anomalies = anomalies.append(orders_df[\n",
    "    (\n",
    "        orders_df.order_delivered_customer_date.isnull()\n",
    "    ) & (\n",
    "        orders_df.order_status == 'delivered'\n",
    "    )\n",
    "])\n",
    "anomalies.shape"
   ]
  },
  {
   "cell_type": "markdown",
   "metadata": {},
   "source": [
    "#### Удалим аномалии из данных\n",
    "Перед работой с выбросами удалим аномалии из наших датасетов."
   ]
  },
  {
   "cell_type": "code",
   "execution_count": 42,
   "metadata": {},
   "outputs": [],
   "source": [
    "anomalies_order_ids = list(anomalies.order_id)\n",
    "anomalies_customer_ids = list(anomalies.customer_id)"
   ]
  },
  {
   "cell_type": "code",
   "execution_count": 43,
   "metadata": {},
   "outputs": [
    {
     "data": {
      "text/plain": [
       "(99229, 5)"
      ]
     },
     "execution_count": 43,
     "metadata": {},
     "output_type": "execute_result"
    }
   ],
   "source": [
    "customers_df = customers_df[customers_df.customer_id.isin(anomalies_customer_ids) == False]\n",
    "customers_df.shape"
   ]
  },
  {
   "cell_type": "code",
   "execution_count": 44,
   "metadata": {},
   "outputs": [
    {
     "data": {
      "text/plain": [
       "(99229, 13)"
      ]
     },
     "execution_count": 44,
     "metadata": {},
     "output_type": "execute_result"
    }
   ],
   "source": [
    "orders_df = orders_df[orders_df.order_id.isin(anomalies_order_ids) == False]\n",
    "orders_df.shape"
   ]
  },
  {
   "cell_type": "code",
   "execution_count": 45,
   "metadata": {},
   "outputs": [
    {
     "data": {
      "text/plain": [
       "(112389, 7)"
      ]
     },
     "execution_count": 45,
     "metadata": {},
     "output_type": "execute_result"
    }
   ],
   "source": [
    "items_df = items_df[items_df.order_id.isin(anomalies_order_ids) == False]\n",
    "items_df.shape"
   ]
  },
  {
   "cell_type": "markdown",
   "metadata": {},
   "source": [
    "#### III. Смотрим на выбросы\n",
    "\n",
    "Ранее мы заметили, что в датасете `orders_df` в колонках с разницей во времени между событиями наблюдается большой разброс значений. Причина в том, что в этих колонках присутствуют **выбросы**. Так, по колонке `diff_approved_created` видно, что 75% заказов оплачивались в срок до 14 часов после их создания, а максимальное значение по этой колонке — 187 дней."
   ]
  },
  {
   "cell_type": "code",
   "execution_count": 46,
   "metadata": {
    "scrolled": true
   },
   "outputs": [
    {
     "data": {
      "text/html": [
       "<div>\n",
       "<style scoped>\n",
       "    .dataframe tbody tr th:only-of-type {\n",
       "        vertical-align: middle;\n",
       "    }\n",
       "\n",
       "    .dataframe tbody tr th {\n",
       "        vertical-align: top;\n",
       "    }\n",
       "\n",
       "    .dataframe thead th {\n",
       "        text-align: right;\n",
       "    }\n",
       "</style>\n",
       "<table border=\"1\" class=\"dataframe\">\n",
       "  <thead>\n",
       "    <tr style=\"text-align: right;\">\n",
       "      <th></th>\n",
       "      <th>diff_approved_created</th>\n",
       "      <th>diff_shipped_created</th>\n",
       "      <th>diff_delivered_created</th>\n",
       "      <th>diff_estimated_created</th>\n",
       "      <th>diff_delivered_shipped</th>\n",
       "    </tr>\n",
       "  </thead>\n",
       "  <tbody>\n",
       "    <tr>\n",
       "      <th>count</th>\n",
       "      <td>99083</td>\n",
       "      <td>97448</td>\n",
       "      <td>96273</td>\n",
       "      <td>99229</td>\n",
       "      <td>96273</td>\n",
       "    </tr>\n",
       "    <tr>\n",
       "      <th>mean</th>\n",
       "      <td>0 days 10:26:02.842051613</td>\n",
       "      <td>3 days 05:44:58.847857318</td>\n",
       "      <td>12 days 13:38:36.407923301</td>\n",
       "      <td>23 days 18:24:28.105503431</td>\n",
       "      <td>9 days 08:02:41.155318729</td>\n",
       "    </tr>\n",
       "    <tr>\n",
       "      <th>std</th>\n",
       "      <td>1 days 02:03:28.563368359</td>\n",
       "      <td>3 days 13:36:23.841620277</td>\n",
       "      <td>9 days 13:12:51.513466598</td>\n",
       "      <td>8 days 19:51:00.938947647</td>\n",
       "      <td>8 days 17:56:23.270068474</td>\n",
       "    </tr>\n",
       "    <tr>\n",
       "      <th>min</th>\n",
       "      <td>0 days 00:00:00</td>\n",
       "      <td>0 days 00:00:32</td>\n",
       "      <td>0 days 12:48:07</td>\n",
       "      <td>1 days 15:34:33</td>\n",
       "      <td>0 days 00:00:00</td>\n",
       "    </tr>\n",
       "    <tr>\n",
       "      <th>25%</th>\n",
       "      <td>0 days 00:12:54</td>\n",
       "      <td>1 days 03:09:47.750000</td>\n",
       "      <td>6 days 18:36:42</td>\n",
       "      <td>18 days 08:00:45</td>\n",
       "      <td>4 days 02:24:45</td>\n",
       "    </tr>\n",
       "    <tr>\n",
       "      <th>50%</th>\n",
       "      <td>0 days 00:20:37</td>\n",
       "      <td>2 days 04:59:02.500000</td>\n",
       "      <td>10 days 05:24:54</td>\n",
       "      <td>23 days 05:48:02</td>\n",
       "      <td>7 days 02:25:04</td>\n",
       "    </tr>\n",
       "    <tr>\n",
       "      <th>75%</th>\n",
       "      <td>0 days 14:36:41</td>\n",
       "      <td>4 days 01:44:41</td>\n",
       "      <td>15 days 17:35:04</td>\n",
       "      <td>28 days 10:10:49</td>\n",
       "      <td>12 days 00:48:10</td>\n",
       "    </tr>\n",
       "    <tr>\n",
       "      <th>max</th>\n",
       "      <td>187 days 21:10:50</td>\n",
       "      <td>125 days 18:36:45</td>\n",
       "      <td>209 days 15:05:12</td>\n",
       "      <td>155 days 03:15:04</td>\n",
       "      <td>205 days 04:35:00</td>\n",
       "    </tr>\n",
       "  </tbody>\n",
       "</table>\n",
       "</div>"
      ],
      "text/plain": [
       "           diff_approved_created       diff_shipped_created  \\\n",
       "count                      99083                      97448   \n",
       "mean   0 days 10:26:02.842051613  3 days 05:44:58.847857318   \n",
       "std    1 days 02:03:28.563368359  3 days 13:36:23.841620277   \n",
       "min              0 days 00:00:00            0 days 00:00:32   \n",
       "25%              0 days 00:12:54     1 days 03:09:47.750000   \n",
       "50%              0 days 00:20:37     2 days 04:59:02.500000   \n",
       "75%              0 days 14:36:41            4 days 01:44:41   \n",
       "max            187 days 21:10:50          125 days 18:36:45   \n",
       "\n",
       "           diff_delivered_created      diff_estimated_created  \\\n",
       "count                       96273                       99229   \n",
       "mean   12 days 13:38:36.407923301  23 days 18:24:28.105503431   \n",
       "std     9 days 13:12:51.513466598   8 days 19:51:00.938947647   \n",
       "min               0 days 12:48:07             1 days 15:34:33   \n",
       "25%               6 days 18:36:42            18 days 08:00:45   \n",
       "50%              10 days 05:24:54            23 days 05:48:02   \n",
       "75%              15 days 17:35:04            28 days 10:10:49   \n",
       "max             209 days 15:05:12           155 days 03:15:04   \n",
       "\n",
       "          diff_delivered_shipped  \n",
       "count                      96273  \n",
       "mean   9 days 08:02:41.155318729  \n",
       "std    8 days 17:56:23.270068474  \n",
       "min              0 days 00:00:00  \n",
       "25%              4 days 02:24:45  \n",
       "50%              7 days 02:25:04  \n",
       "75%             12 days 00:48:10  \n",
       "max            205 days 04:35:00  "
      ]
     },
     "execution_count": 46,
     "metadata": {},
     "output_type": "execute_result"
    }
   ],
   "source": [
    "diffs = ['diff_approved_created','diff_shipped_created','diff_delivered_created','diff_estimated_created','diff_delivered_shipped']\n",
    "orders_df[diffs].describe()"
   ]
  },
  {
   "cell_type": "code",
   "execution_count": 47,
   "metadata": {
    "scrolled": true
   },
   "outputs": [
    {
     "data": {
      "text/html": [
       "<div>\n",
       "<style scoped>\n",
       "    .dataframe tbody tr th:only-of-type {\n",
       "        vertical-align: middle;\n",
       "    }\n",
       "\n",
       "    .dataframe tbody tr th {\n",
       "        vertical-align: top;\n",
       "    }\n",
       "\n",
       "    .dataframe thead th {\n",
       "        text-align: right;\n",
       "    }\n",
       "</style>\n",
       "<table border=\"1\" class=\"dataframe\">\n",
       "  <thead>\n",
       "    <tr style=\"text-align: right;\">\n",
       "      <th></th>\n",
       "      <th>diff_approved_created</th>\n",
       "      <th>diff_shipped_created</th>\n",
       "      <th>diff_delivered_created</th>\n",
       "      <th>diff_estimated_created</th>\n",
       "      <th>diff_delivered_shipped</th>\n",
       "    </tr>\n",
       "  </thead>\n",
       "  <tbody>\n",
       "    <tr>\n",
       "      <th>0</th>\n",
       "      <td>0.007431</td>\n",
       "      <td>2.373924</td>\n",
       "      <td>8.436574</td>\n",
       "      <td>15.544063</td>\n",
       "      <td>6.062650</td>\n",
       "    </tr>\n",
       "    <tr>\n",
       "      <th>1</th>\n",
       "      <td>1.279745</td>\n",
       "      <td>1.742627</td>\n",
       "      <td>13.782037</td>\n",
       "      <td>19.137766</td>\n",
       "      <td>12.039410</td>\n",
       "    </tr>\n",
       "    <tr>\n",
       "      <th>2</th>\n",
       "      <td>0.011505</td>\n",
       "      <td>0.216100</td>\n",
       "      <td>9.394213</td>\n",
       "      <td>26.639711</td>\n",
       "      <td>9.178113</td>\n",
       "    </tr>\n",
       "    <tr>\n",
       "      <th>3</th>\n",
       "      <td>0.012419</td>\n",
       "      <td>3.758252</td>\n",
       "      <td>13.208750</td>\n",
       "      <td>26.188819</td>\n",
       "      <td>9.450498</td>\n",
       "    </tr>\n",
       "    <tr>\n",
       "      <th>4</th>\n",
       "      <td>0.042940</td>\n",
       "      <td>0.936053</td>\n",
       "      <td>2.873877</td>\n",
       "      <td>12.112049</td>\n",
       "      <td>1.937824</td>\n",
       "    </tr>\n",
       "  </tbody>\n",
       "</table>\n",
       "</div>"
      ],
      "text/plain": [
       "   diff_approved_created  diff_shipped_created  diff_delivered_created  \\\n",
       "0               0.007431              2.373924                8.436574   \n",
       "1               1.279745              1.742627               13.782037   \n",
       "2               0.011505              0.216100                9.394213   \n",
       "3               0.012419              3.758252               13.208750   \n",
       "4               0.042940              0.936053                2.873877   \n",
       "\n",
       "   diff_estimated_created  diff_delivered_shipped  \n",
       "0               15.544063                6.062650  \n",
       "1               19.137766               12.039410  \n",
       "2               26.639711                9.178113  \n",
       "3               26.188819                9.450498  \n",
       "4               12.112049                1.937824  "
      ]
     },
     "execution_count": 47,
     "metadata": {},
     "output_type": "execute_result"
    }
   ],
   "source": [
    "diffs_days = orders_df[diffs] / pd.Timedelta(days=1)\n",
    "diffs_days.head()"
   ]
  },
  {
   "cell_type": "code",
   "execution_count": 48,
   "metadata": {
    "scrolled": true
   },
   "outputs": [
    {
     "data": {
      "image/png": "[encoded data removed]",
      "text/plain": [
       "<Figure size 1440x360 with 1 Axes>"
      ]
     },
     "metadata": {},
     "output_type": "display_data"
    }
   ],
   "source": [
    "sns.boxplot(data = diffs_days);"
   ]
  },
  {
   "cell_type": "markdown",
   "metadata": {},
   "source": [
    "`boxplot` считает выбросами данные, которые находятся:\n",
    "* выше верхнего квартиля и межквартильного размаха (IQR): $ Q3+IQR $\n",
    "* ниже нижнего квартиля и IQR: $ Q1-IQR $\n",
    "\n",
    "Попробуем найти эти выбросы:"
   ]
  },
  {
   "cell_type": "code",
   "execution_count": 49,
   "metadata": {},
   "outputs": [],
   "source": [
    "all_outliers = pd.DataFrame()\n",
    "for i in orders_df[diffs]:\n",
    "    q1 = orders_df[i].quantile(0.25)\n",
    "    q3 = orders_df[i].quantile(0.75)\n",
    "    iqr = q3-q1\n",
    "    all_outliers = all_outliers.append(orders_df[(orders_df[i] > q3 + iqr) | (orders_df[i] < q1 - iqr)])"
   ]
  },
  {
   "cell_type": "code",
   "execution_count": 50,
   "metadata": {
    "scrolled": true
   },
   "outputs": [
    {
     "data": {
      "text/plain": [
       "(44991, 13)"
      ]
     },
     "execution_count": 50,
     "metadata": {},
     "output_type": "execute_result"
    }
   ],
   "source": [
    "all_outliers.shape"
   ]
  },
  {
   "cell_type": "markdown",
   "metadata": {},
   "source": [
    "Поскольку под эти критерии попадает около половины всех данных, будем придерживаться менее строгого подхода. Распределение данных у нас сильно скошено вправо, поэтому выбросами будем считать те наблюдения, по которым разница между событиями больше, чем у 99,9% данных, либо меньше, чем у 0,1% данных."
   ]
  },
  {
   "cell_type": "code",
   "execution_count": 51,
   "metadata": {},
   "outputs": [],
   "source": [
    "all_outliers = pd.DataFrame()\n",
    "for i in orders_df[diffs]:\n",
    "    q_999 = orders_df[i].quantile(0.999)\n",
    "    q_01 = orders_df[i].quantile(0.001)\n",
    "    all_outliers = all_outliers.append(orders_df[(orders_df[i] > q_999) | (orders_df[i] < q_01)])"
   ]
  },
  {
   "cell_type": "code",
   "execution_count": 52,
   "metadata": {
    "scrolled": true
   },
   "outputs": [
    {
     "data": {
      "text/html": [
       "<div>\n",
       "<style scoped>\n",
       "    .dataframe tbody tr th:only-of-type {\n",
       "        vertical-align: middle;\n",
       "    }\n",
       "\n",
       "    .dataframe tbody tr th {\n",
       "        vertical-align: top;\n",
       "    }\n",
       "\n",
       "    .dataframe thead th {\n",
       "        text-align: right;\n",
       "    }\n",
       "</style>\n",
       "<table border=\"1\" class=\"dataframe\">\n",
       "  <thead>\n",
       "    <tr style=\"text-align: right;\">\n",
       "      <th></th>\n",
       "      <th>diff_approved_created</th>\n",
       "      <th>diff_shipped_created</th>\n",
       "      <th>diff_delivered_created</th>\n",
       "      <th>diff_estimated_created</th>\n",
       "      <th>diff_delivered_shipped</th>\n",
       "    </tr>\n",
       "  </thead>\n",
       "  <tbody>\n",
       "    <tr>\n",
       "      <th>count</th>\n",
       "      <td>883</td>\n",
       "      <td>859</td>\n",
       "      <td>850</td>\n",
       "      <td>884</td>\n",
       "      <td>850</td>\n",
       "    </tr>\n",
       "    <tr>\n",
       "      <th>mean</th>\n",
       "      <td>1 days 19:50:40.199320498</td>\n",
       "      <td>11 days 02:04:31.143189755</td>\n",
       "      <td>42 days 09:09:25.200000</td>\n",
       "      <td>30 days 03:35:34.926470588</td>\n",
       "      <td>31 days 12:31:03.969411764</td>\n",
       "    </tr>\n",
       "    <tr>\n",
       "      <th>std</th>\n",
       "      <td>7 days 18:09:46.793631717</td>\n",
       "      <td>17 days 15:39:07.184121254</td>\n",
       "      <td>51 days 23:19:43.883877256</td>\n",
       "      <td>24 days 10:28:54.610528858</td>\n",
       "      <td>51 days 11:21:27.181672041</td>\n",
       "    </tr>\n",
       "    <tr>\n",
       "      <th>min</th>\n",
       "      <td>0 days 00:00:00</td>\n",
       "      <td>0 days 00:00:32</td>\n",
       "      <td>0 days 12:48:07</td>\n",
       "      <td>1 days 15:34:33</td>\n",
       "      <td>0 days 00:00:00</td>\n",
       "    </tr>\n",
       "    <tr>\n",
       "      <th>25%</th>\n",
       "      <td>0 days 00:12:37.500000</td>\n",
       "      <td>0 days 14:49:58.500000</td>\n",
       "      <td>3 days 22:27:46</td>\n",
       "      <td>13 days 15:48:13</td>\n",
       "      <td>1 days 00:24:25.500000</td>\n",
       "    </tr>\n",
       "    <tr>\n",
       "      <th>50%</th>\n",
       "      <td>0 days 00:21:28</td>\n",
       "      <td>3 days 03:51:32</td>\n",
       "      <td>16 days 13:41:48</td>\n",
       "      <td>24 days 20:35:26.500000</td>\n",
       "      <td>6 days 06:32:10</td>\n",
       "    </tr>\n",
       "    <tr>\n",
       "      <th>75%</th>\n",
       "      <td>0 days 22:31:42</td>\n",
       "      <td>12 days 16:01:17</td>\n",
       "      <td>68 days 20:41:23.250000</td>\n",
       "      <td>36 days 07:58:42</td>\n",
       "      <td>23 days 17:19:37</td>\n",
       "    </tr>\n",
       "    <tr>\n",
       "      <th>max</th>\n",
       "      <td>187 days 21:10:50</td>\n",
       "      <td>125 days 18:36:45</td>\n",
       "      <td>209 days 15:05:12</td>\n",
       "      <td>155 days 03:15:04</td>\n",
       "      <td>205 days 04:35:00</td>\n",
       "    </tr>\n",
       "  </tbody>\n",
       "</table>\n",
       "</div>"
      ],
      "text/plain": [
       "           diff_approved_created        diff_shipped_created  \\\n",
       "count                        883                         859   \n",
       "mean   1 days 19:50:40.199320498  11 days 02:04:31.143189755   \n",
       "std    7 days 18:09:46.793631717  17 days 15:39:07.184121254   \n",
       "min              0 days 00:00:00             0 days 00:00:32   \n",
       "25%       0 days 00:12:37.500000      0 days 14:49:58.500000   \n",
       "50%              0 days 00:21:28             3 days 03:51:32   \n",
       "75%              0 days 22:31:42            12 days 16:01:17   \n",
       "max            187 days 21:10:50           125 days 18:36:45   \n",
       "\n",
       "           diff_delivered_created      diff_estimated_created  \\\n",
       "count                         850                         884   \n",
       "mean      42 days 09:09:25.200000  30 days 03:35:34.926470588   \n",
       "std    51 days 23:19:43.883877256  24 days 10:28:54.610528858   \n",
       "min               0 days 12:48:07             1 days 15:34:33   \n",
       "25%               3 days 22:27:46            13 days 15:48:13   \n",
       "50%              16 days 13:41:48     24 days 20:35:26.500000   \n",
       "75%       68 days 20:41:23.250000            36 days 07:58:42   \n",
       "max             209 days 15:05:12           155 days 03:15:04   \n",
       "\n",
       "           diff_delivered_shipped  \n",
       "count                         850  \n",
       "mean   31 days 12:31:03.969411764  \n",
       "std    51 days 11:21:27.181672041  \n",
       "min               0 days 00:00:00  \n",
       "25%        1 days 00:24:25.500000  \n",
       "50%               6 days 06:32:10  \n",
       "75%              23 days 17:19:37  \n",
       "max             205 days 04:35:00  "
      ]
     },
     "execution_count": 52,
     "metadata": {},
     "output_type": "execute_result"
    }
   ],
   "source": [
    "all_outliers.describe()"
   ]
  },
  {
   "cell_type": "markdown",
   "metadata": {},
   "source": [
    "Следует ли относить эти наблюдения к аномалиям? На основе имеющихся данных и здравого смысла сложно предположить, по какой причине (кроме как по ошибке) могли появиться заказы, которые:\n",
    "* оплачивались в течение 187 дней или около того после создания *(при том, что на современных маркетплейсах заказ автоматически отменяется, если не была внесена оплата в течение нескольких минут)*\n",
    "* обрабатывались на складе около 125 дней или, наоборот, всего в течение 32 секунд после появления заказа\n",
    "* доставлялись до пользователя более 200 дней (*при том, что в датасетах нет информации о стране заказчика, так что все действия, вероятно, происходили в одной стране, и, судя по названиям городов, это Бразилия)* или в один момент с отгрузкой со склада *(если только клиент не ждал своего заказа в распределительном центре, что также крайне странно)*"
   ]
  },
  {
   "cell_type": "markdown",
   "metadata": {},
   "source": [
    "В связи с этой логикой удалим наши выбросы из данных:"
   ]
  },
  {
   "cell_type": "code",
   "execution_count": 53,
   "metadata": {},
   "outputs": [],
   "source": [
    "outliers_orders_ids = list(all_outliers.order_id)\n",
    "outliers_customer_ids = list(all_outliers.customer_id)"
   ]
  },
  {
   "cell_type": "code",
   "execution_count": 54,
   "metadata": {
    "scrolled": true
   },
   "outputs": [
    {
     "data": {
      "text/plain": [
       "(98457, 5)"
      ]
     },
     "execution_count": 54,
     "metadata": {},
     "output_type": "execute_result"
    }
   ],
   "source": [
    "customers_df = customers_df[customers_df.customer_id.isin(outliers_customer_ids) == False]\n",
    "customers_df.shape"
   ]
  },
  {
   "cell_type": "code",
   "execution_count": 55,
   "metadata": {},
   "outputs": [
    {
     "data": {
      "text/plain": [
       "(98457, 13)"
      ]
     },
     "execution_count": 55,
     "metadata": {},
     "output_type": "execute_result"
    }
   ],
   "source": [
    "orders_df = orders_df[orders_df.order_id.isin(outliers_orders_ids) == False]\n",
    "orders_df.shape"
   ]
  },
  {
   "cell_type": "code",
   "execution_count": 56,
   "metadata": {},
   "outputs": [
    {
     "data": {
      "text/plain": [
       "(111517, 7)"
      ]
     },
     "execution_count": 56,
     "metadata": {},
     "output_type": "execute_result"
    }
   ],
   "source": [
    "items_df = items_df[items_df.order_id.isin(outliers_orders_ids) == False]\n",
    "items_df.shape"
   ]
  },
  {
   "cell_type": "markdown",
   "metadata": {},
   "source": [
    "Посмотрим на оставшиеся данные"
   ]
  },
  {
   "cell_type": "code",
   "execution_count": 57,
   "metadata": {},
   "outputs": [
    {
     "data": {
      "text/html": [
       "<div>\n",
       "<style scoped>\n",
       "    .dataframe tbody tr th:only-of-type {\n",
       "        vertical-align: middle;\n",
       "    }\n",
       "\n",
       "    .dataframe tbody tr th {\n",
       "        vertical-align: top;\n",
       "    }\n",
       "\n",
       "    .dataframe thead th {\n",
       "        text-align: right;\n",
       "    }\n",
       "</style>\n",
       "<table border=\"1\" class=\"dataframe\">\n",
       "  <thead>\n",
       "    <tr style=\"text-align: right;\">\n",
       "      <th></th>\n",
       "      <th>diff_approved_created</th>\n",
       "      <th>diff_shipped_created</th>\n",
       "      <th>diff_delivered_created</th>\n",
       "      <th>diff_estimated_created</th>\n",
       "      <th>diff_delivered_shipped</th>\n",
       "    </tr>\n",
       "  </thead>\n",
       "  <tbody>\n",
       "    <tr>\n",
       "      <th>count</th>\n",
       "      <td>98312</td>\n",
       "      <td>96701</td>\n",
       "      <td>95534</td>\n",
       "      <td>98457</td>\n",
       "      <td>95534</td>\n",
       "    </tr>\n",
       "    <tr>\n",
       "      <th>mean</th>\n",
       "      <td>0 days 10:08:26.417578728</td>\n",
       "      <td>3 days 04:23:56.954571307</td>\n",
       "      <td>12 days 10:07:49.283155735</td>\n",
       "      <td>23 days 17:14:29.264328590</td>\n",
       "      <td>9 days 05:50:38.090637888</td>\n",
       "    </tr>\n",
       "    <tr>\n",
       "      <th>std</th>\n",
       "      <td>0 days 19:13:34.807515790</td>\n",
       "      <td>3 days 05:35:43.989790489</td>\n",
       "      <td>8 days 15:24:38.032827207</td>\n",
       "      <td>8 days 13:12:51.375156445</td>\n",
       "      <td>7 days 21:58:48.861275216</td>\n",
       "    </tr>\n",
       "    <tr>\n",
       "      <th>min</th>\n",
       "      <td>0 days 00:00:00</td>\n",
       "      <td>0 days 00:26:34</td>\n",
       "      <td>1 days 03:31:58</td>\n",
       "      <td>2 days 09:17:05</td>\n",
       "      <td>0 days 09:05:34</td>\n",
       "    </tr>\n",
       "    <tr>\n",
       "      <th>25%</th>\n",
       "      <td>0 days 00:12:54</td>\n",
       "      <td>1 days 03:13:48</td>\n",
       "      <td>6 days 19:00:04</td>\n",
       "      <td>18 days 08:19:03</td>\n",
       "      <td>4 days 02:45:29.500000</td>\n",
       "    </tr>\n",
       "    <tr>\n",
       "      <th>50%</th>\n",
       "      <td>0 days 00:20:36</td>\n",
       "      <td>2 days 04:56:36</td>\n",
       "      <td>10 days 05:20:34</td>\n",
       "      <td>23 days 05:45:53</td>\n",
       "      <td>7 days 02:31:02.500000</td>\n",
       "    </tr>\n",
       "    <tr>\n",
       "      <th>75%</th>\n",
       "      <td>0 days 14:34:52.750000</td>\n",
       "      <td>4 days 01:29:46</td>\n",
       "      <td>15 days 15:58:55</td>\n",
       "      <td>28 days 09:47:58</td>\n",
       "      <td>12 days 00:44:57.250000</td>\n",
       "    </tr>\n",
       "    <tr>\n",
       "      <th>max</th>\n",
       "      <td>6 days 10:01:19</td>\n",
       "      <td>37 days 01:40:37</td>\n",
       "      <td>83 days 00:02:17</td>\n",
       "      <td>67 days 02:00:18</td>\n",
       "      <td>76 days 04:06:32</td>\n",
       "    </tr>\n",
       "  </tbody>\n",
       "</table>\n",
       "</div>"
      ],
      "text/plain": [
       "           diff_approved_created       diff_shipped_created  \\\n",
       "count                      98312                      96701   \n",
       "mean   0 days 10:08:26.417578728  3 days 04:23:56.954571307   \n",
       "std    0 days 19:13:34.807515790  3 days 05:35:43.989790489   \n",
       "min              0 days 00:00:00            0 days 00:26:34   \n",
       "25%              0 days 00:12:54            1 days 03:13:48   \n",
       "50%              0 days 00:20:36            2 days 04:56:36   \n",
       "75%       0 days 14:34:52.750000            4 days 01:29:46   \n",
       "max              6 days 10:01:19           37 days 01:40:37   \n",
       "\n",
       "           diff_delivered_created      diff_estimated_created  \\\n",
       "count                       95534                       98457   \n",
       "mean   12 days 10:07:49.283155735  23 days 17:14:29.264328590   \n",
       "std     8 days 15:24:38.032827207   8 days 13:12:51.375156445   \n",
       "min               1 days 03:31:58             2 days 09:17:05   \n",
       "25%               6 days 19:00:04            18 days 08:19:03   \n",
       "50%              10 days 05:20:34            23 days 05:45:53   \n",
       "75%              15 days 15:58:55            28 days 09:47:58   \n",
       "max              83 days 00:02:17            67 days 02:00:18   \n",
       "\n",
       "          diff_delivered_shipped  \n",
       "count                      95534  \n",
       "mean   9 days 05:50:38.090637888  \n",
       "std    7 days 21:58:48.861275216  \n",
       "min              0 days 09:05:34  \n",
       "25%       4 days 02:45:29.500000  \n",
       "50%       7 days 02:31:02.500000  \n",
       "75%      12 days 00:44:57.250000  \n",
       "max             76 days 04:06:32  "
      ]
     },
     "execution_count": 57,
     "metadata": {},
     "output_type": "execute_result"
    }
   ],
   "source": [
    "orders_df.describe()"
   ]
  },
  {
   "cell_type": "markdown",
   "metadata": {},
   "source": [
    "Кроме этого, мы помним, что часть заказов имеет \"промежуточные\" статусы: `created`, `approved`, `invoiced`, `processing`, `shipped`. Поскольку по ним часть событий не произошла, такие заказы нужно проанализировать отдельно. Посмотрим, в какие даты создавались эти заказы."
   ]
  },
  {
   "cell_type": "code",
   "execution_count": 58,
   "metadata": {
    "scrolled": true
   },
   "outputs": [
    {
     "data": {
      "text/html": [
       "<div>\n",
       "<style scoped>\n",
       "    .dataframe tbody tr th:only-of-type {\n",
       "        vertical-align: middle;\n",
       "    }\n",
       "\n",
       "    .dataframe tbody tr th {\n",
       "        vertical-align: top;\n",
       "    }\n",
       "\n",
       "    .dataframe thead th {\n",
       "        text-align: right;\n",
       "    }\n",
       "</style>\n",
       "<table border=\"1\" class=\"dataframe\">\n",
       "  <thead>\n",
       "    <tr style=\"text-align: right;\">\n",
       "      <th></th>\n",
       "      <th>order_id</th>\n",
       "      <th>customer_id</th>\n",
       "      <th>order_status</th>\n",
       "      <th>order_purchase_timestamp</th>\n",
       "      <th>order_approved_at</th>\n",
       "      <th>order_delivered_carrier_date</th>\n",
       "      <th>order_delivered_customer_date</th>\n",
       "      <th>order_estimated_delivery_date</th>\n",
       "      <th>diff_approved_created</th>\n",
       "      <th>diff_shipped_created</th>\n",
       "      <th>diff_delivered_created</th>\n",
       "      <th>diff_estimated_created</th>\n",
       "      <th>diff_delivered_shipped</th>\n",
       "    </tr>\n",
       "  </thead>\n",
       "  <tbody>\n",
       "    <tr>\n",
       "      <th>78824</th>\n",
       "      <td>dd359d3c294458c6d642b2eea9212bf5</td>\n",
       "      <td>5c58d1ea5a893380ecdd96dd6dfd5ec5</td>\n",
       "      <td>invoiced</td>\n",
       "      <td>2016-10-04 13:02:10</td>\n",
       "      <td>2016-10-05 03:08:27</td>\n",
       "      <td>NaT</td>\n",
       "      <td>NaT</td>\n",
       "      <td>2016-11-24</td>\n",
       "      <td>0 days 14:06:17</td>\n",
       "      <td>NaT</td>\n",
       "      <td>NaT</td>\n",
       "      <td>50 days 10:57:50</td>\n",
       "      <td>NaT</td>\n",
       "    </tr>\n",
       "    <tr>\n",
       "      <th>24222</th>\n",
       "      <td>711b9be9c346d9ecdb9d38a5e1e7e39b</td>\n",
       "      <td>81e4aed5ab4253757305267b80712689</td>\n",
       "      <td>invoiced</td>\n",
       "      <td>2016-10-04 13:38:37</td>\n",
       "      <td>2016-10-04 14:08:38</td>\n",
       "      <td>NaT</td>\n",
       "      <td>NaT</td>\n",
       "      <td>2016-11-24</td>\n",
       "      <td>0 days 00:30:01</td>\n",
       "      <td>NaT</td>\n",
       "      <td>NaT</td>\n",
       "      <td>50 days 10:21:23</td>\n",
       "      <td>NaT</td>\n",
       "    </tr>\n",
       "    <tr>\n",
       "      <th>18535</th>\n",
       "      <td>5cb8558cbb7c0c2f00f43468579d3e3c</td>\n",
       "      <td>2ff5a6455514da421bd25d6e4ceb1d12</td>\n",
       "      <td>shipped</td>\n",
       "      <td>2016-10-04 15:02:37</td>\n",
       "      <td>2016-10-05 03:10:59</td>\n",
       "      <td>2016-10-15 10:14:10</td>\n",
       "      <td>NaT</td>\n",
       "      <td>2016-12-02</td>\n",
       "      <td>0 days 12:08:22</td>\n",
       "      <td>10 days 19:11:33</td>\n",
       "      <td>NaT</td>\n",
       "      <td>58 days 08:57:23</td>\n",
       "      <td>NaT</td>\n",
       "    </tr>\n",
       "    <tr>\n",
       "      <th>24944</th>\n",
       "      <td>99b3fb1a943fa5d4af2a3386f00fdd19</td>\n",
       "      <td>aa03e52d50af7237a5963ffb09dd8872</td>\n",
       "      <td>shipped</td>\n",
       "      <td>2018-08-22 09:01:17</td>\n",
       "      <td>2018-08-22 09:10:17</td>\n",
       "      <td>2018-08-23 14:09:00</td>\n",
       "      <td>NaT</td>\n",
       "      <td>2018-08-30</td>\n",
       "      <td>0 days 00:09:00</td>\n",
       "      <td>1 days 05:07:43</td>\n",
       "      <td>NaT</td>\n",
       "      <td>7 days 14:58:43</td>\n",
       "      <td>NaT</td>\n",
       "    </tr>\n",
       "    <tr>\n",
       "      <th>22575</th>\n",
       "      <td>6ca46f2b9a1592929647682510800e0e</td>\n",
       "      <td>13bf775a749925a15ef7cc1985b564f1</td>\n",
       "      <td>shipped</td>\n",
       "      <td>2018-08-24 17:02:19</td>\n",
       "      <td>2018-08-24 17:15:10</td>\n",
       "      <td>2018-08-27 15:15:00</td>\n",
       "      <td>NaT</td>\n",
       "      <td>2018-08-29</td>\n",
       "      <td>0 days 00:12:51</td>\n",
       "      <td>2 days 22:12:41</td>\n",
       "      <td>NaT</td>\n",
       "      <td>4 days 06:57:41</td>\n",
       "      <td>NaT</td>\n",
       "    </tr>\n",
       "    <tr>\n",
       "      <th>62360</th>\n",
       "      <td>54282e97f61c23b78330c15b154c867d</td>\n",
       "      <td>4b7decb9b58e2569548b8b4c8e20e8d7</td>\n",
       "      <td>shipped</td>\n",
       "      <td>2018-09-03 09:06:57</td>\n",
       "      <td>2018-09-03 17:40:06</td>\n",
       "      <td>2018-09-04 15:25:00</td>\n",
       "      <td>NaT</td>\n",
       "      <td>2018-09-06</td>\n",
       "      <td>0 days 08:33:09</td>\n",
       "      <td>1 days 06:18:03</td>\n",
       "      <td>NaT</td>\n",
       "      <td>2 days 14:53:03</td>\n",
       "      <td>NaT</td>\n",
       "    </tr>\n",
       "  </tbody>\n",
       "</table>\n",
       "</div>"
      ],
      "text/plain": [
       "                               order_id                       customer_id  \\\n",
       "78824  dd359d3c294458c6d642b2eea9212bf5  5c58d1ea5a893380ecdd96dd6dfd5ec5   \n",
       "24222  711b9be9c346d9ecdb9d38a5e1e7e39b  81e4aed5ab4253757305267b80712689   \n",
       "18535  5cb8558cbb7c0c2f00f43468579d3e3c  2ff5a6455514da421bd25d6e4ceb1d12   \n",
       "24944  99b3fb1a943fa5d4af2a3386f00fdd19  aa03e52d50af7237a5963ffb09dd8872   \n",
       "22575  6ca46f2b9a1592929647682510800e0e  13bf775a749925a15ef7cc1985b564f1   \n",
       "62360  54282e97f61c23b78330c15b154c867d  4b7decb9b58e2569548b8b4c8e20e8d7   \n",
       "\n",
       "      order_status order_purchase_timestamp   order_approved_at  \\\n",
       "78824     invoiced      2016-10-04 13:02:10 2016-10-05 03:08:27   \n",
       "24222     invoiced      2016-10-04 13:38:37 2016-10-04 14:08:38   \n",
       "18535      shipped      2016-10-04 15:02:37 2016-10-05 03:10:59   \n",
       "24944      shipped      2018-08-22 09:01:17 2018-08-22 09:10:17   \n",
       "22575      shipped      2018-08-24 17:02:19 2018-08-24 17:15:10   \n",
       "62360      shipped      2018-09-03 09:06:57 2018-09-03 17:40:06   \n",
       "\n",
       "      order_delivered_carrier_date order_delivered_customer_date  \\\n",
       "78824                          NaT                           NaT   \n",
       "24222                          NaT                           NaT   \n",
       "18535          2016-10-15 10:14:10                           NaT   \n",
       "24944          2018-08-23 14:09:00                           NaT   \n",
       "22575          2018-08-27 15:15:00                           NaT   \n",
       "62360          2018-09-04 15:25:00                           NaT   \n",
       "\n",
       "      order_estimated_delivery_date diff_approved_created  \\\n",
       "78824                    2016-11-24       0 days 14:06:17   \n",
       "24222                    2016-11-24       0 days 00:30:01   \n",
       "18535                    2016-12-02       0 days 12:08:22   \n",
       "24944                    2018-08-30       0 days 00:09:00   \n",
       "22575                    2018-08-29       0 days 00:12:51   \n",
       "62360                    2018-09-06       0 days 08:33:09   \n",
       "\n",
       "      diff_shipped_created diff_delivered_created diff_estimated_created  \\\n",
       "78824                  NaT                    NaT       50 days 10:57:50   \n",
       "24222                  NaT                    NaT       50 days 10:21:23   \n",
       "18535     10 days 19:11:33                    NaT       58 days 08:57:23   \n",
       "24944      1 days 05:07:43                    NaT        7 days 14:58:43   \n",
       "22575      2 days 22:12:41                    NaT        4 days 06:57:41   \n",
       "62360      1 days 06:18:03                    NaT        2 days 14:53:03   \n",
       "\n",
       "      diff_delivered_shipped  \n",
       "78824                    NaT  \n",
       "24222                    NaT  \n",
       "18535                    NaT  \n",
       "24944                    NaT  \n",
       "22575                    NaT  \n",
       "62360                    NaT  "
      ]
     },
     "execution_count": 58,
     "metadata": {},
     "output_type": "execute_result"
    }
   ],
   "source": [
    "transitional_statuses = orders_df.query('(order_status == \"created\") or (order_status == \"approved\") or (order_status == \"invoiced\") or (order_status == \"processing\")  or (order_status == \"shipped\")') \\\n",
    "    .sort_values(by='order_purchase_timestamp', ascending = True)\n",
    "pd.concat([transitional_statuses.head(3), transitional_statuses.tail(3)])"
   ]
  },
  {
   "cell_type": "markdown",
   "metadata": {},
   "source": [
    "При том, что в датасете, как мы выяснили, данные представлены за 2 года (2016-2018), можно заметить, что какие-то заказы имеют неизменный промежуточный статус с 2016 года.\n",
    "\n",
    "Почему так могло произойти? **Гипотезы:** \n",
    "\n",
    "1. Данные выгружались из баз данных случайным образом, поэтому в датасетах представлена неполная информация по заказам: мы видим устаревшие логи, в то время как в оригинальной базе данных есть более актуальная информация. \n",
    "2. Данные выгружались из баз данных целиком и полностью, но в связи с ошибками при логировании данные по части заказов не обновлялись, поэтому по этим заказам не существует достоверной информации.\n",
    "\n",
    "Первую гипотезу подтвердить не получится, поскольку мы не имеем доступа к обновляемым базам данных, на основе которых сформированы наши датасеты. Если следовать второй гипотезе, то нам придется отделить \"старые\" заказы с ошибками при логировании (иными словами, аномалии) от актуальных заказов, которые на момент создания датасета действительно имели \"промежуточный\" статус, и удалить первый тип данных."
   ]
  },
  {
   "cell_type": "markdown",
   "metadata": {},
   "source": [
    "Как это сделать?\n",
    "1. Изучаем, насколько \"старыми\" являются \"промежуточные\" заказы: находим разницу между `order_purchase_timestamp` и текущей датой (т.е. самой последней фактической датой в нашем датасете) у заказов с промежуточным статусом.\n",
    "2. Смотрим предельные сроки исполнения \"нормальных\" заказов: находим предельно допустимую разницу между `order_purchase_timestamp` и `order_delivered_customer_date` у доставленных заказов. Поскольку ранее мы очистили датасет от выбросов, предельно допустимой разницей между этими событиями будет максимум по колонке `diff_delivered_created`\n",
    "3. Если разница [2] превышает разницу [1], такой \"промежуточный\" заказ считаем аномалией."
   ]
  },
  {
   "cell_type": "code",
   "execution_count": 59,
   "metadata": {},
   "outputs": [
    {
     "name": "stdout",
     "output_type": "stream",
     "text": [
      "order_purchase_timestamp        2018-10-17 17:30:18\n",
      "order_approved_at               2018-09-03 17:40:06\n",
      "order_delivered_carrier_date    2018-09-11 19:48:28\n",
      "order_delivered_customer_date   2018-10-02 00:18:50\n",
      "dtype: datetime64[ns]\n",
      "текущей датой будем считать:  2018-10-17 17:30:18\n"
     ]
    }
   ],
   "source": [
    "# текущая дата\n",
    "now_date = orders_df[dates_cols].max().max()\n",
    "print(orders_df[dates_cols].max())\n",
    "print('текущей датой будем считать: ', now_date)"
   ]
  },
  {
   "cell_type": "code",
   "execution_count": 60,
   "metadata": {
    "scrolled": false
   },
   "outputs": [
    {
     "data": {
      "text/html": [
       "<div>\n",
       "<style scoped>\n",
       "    .dataframe tbody tr th:only-of-type {\n",
       "        vertical-align: middle;\n",
       "    }\n",
       "\n",
       "    .dataframe tbody tr th {\n",
       "        vertical-align: top;\n",
       "    }\n",
       "\n",
       "    .dataframe thead th {\n",
       "        text-align: right;\n",
       "    }\n",
       "</style>\n",
       "<table border=\"1\" class=\"dataframe\">\n",
       "  <thead>\n",
       "    <tr style=\"text-align: right;\">\n",
       "      <th></th>\n",
       "      <th>diff_now_created</th>\n",
       "    </tr>\n",
       "  </thead>\n",
       "  <tbody>\n",
       "    <tr>\n",
       "      <th>count</th>\n",
       "      <td>1714</td>\n",
       "    </tr>\n",
       "    <tr>\n",
       "      <th>mean</th>\n",
       "      <td>339 days 02:52:44.234539088</td>\n",
       "    </tr>\n",
       "    <tr>\n",
       "      <th>std</th>\n",
       "      <td>165 days 08:30:01.488311476</td>\n",
       "    </tr>\n",
       "    <tr>\n",
       "      <th>min</th>\n",
       "      <td>44 days 08:23:21</td>\n",
       "    </tr>\n",
       "    <tr>\n",
       "      <th>25%</th>\n",
       "      <td>207 days 22:15:32.500000</td>\n",
       "    </tr>\n",
       "    <tr>\n",
       "      <th>50%</th>\n",
       "      <td>322 days 01:00:07.500000</td>\n",
       "    </tr>\n",
       "    <tr>\n",
       "      <th>75%</th>\n",
       "      <td>476 days 03:29:54.500000</td>\n",
       "    </tr>\n",
       "    <tr>\n",
       "      <th>max</th>\n",
       "      <td>743 days 04:28:08</td>\n",
       "    </tr>\n",
       "  </tbody>\n",
       "</table>\n",
       "</div>"
      ],
      "text/plain": [
       "                  diff_now_created\n",
       "count                         1714\n",
       "mean   339 days 02:52:44.234539088\n",
       "std    165 days 08:30:01.488311476\n",
       "min               44 days 08:23:21\n",
       "25%       207 days 22:15:32.500000\n",
       "50%       322 days 01:00:07.500000\n",
       "75%       476 days 03:29:54.500000\n",
       "max              743 days 04:28:08"
      ]
     },
     "execution_count": 60,
     "metadata": {},
     "output_type": "execute_result"
    }
   ],
   "source": [
    "# разница между текущей датой и датой создания заказа с промежуточным статусом\n",
    "transitional_statuses['diff_now_created'] = now_date - transitional_statuses.order_purchase_timestamp\n",
    "pd.DataFrame(transitional_statuses['diff_now_created'].describe())"
   ]
  },
  {
   "cell_type": "code",
   "execution_count": 61,
   "metadata": {
    "scrolled": false
   },
   "outputs": [
    {
     "data": {
      "text/plain": [
       "Timedelta('83 days 00:02:17')"
      ]
     },
     "execution_count": 61,
     "metadata": {},
     "output_type": "execute_result"
    }
   ],
   "source": [
    "# предельно допустимая разница между датой создания заказа и датой доставки\n",
    "max_diff_delivered_created = orders_df.diff_delivered_created.max()\n",
    "max_diff_delivered_created"
   ]
  },
  {
   "cell_type": "code",
   "execution_count": 62,
   "metadata": {
    "scrolled": true
   },
   "outputs": [
    {
     "data": {
      "text/plain": [
       "(1632, 14)"
      ]
     },
     "execution_count": 62,
     "metadata": {},
     "output_type": "execute_result"
    }
   ],
   "source": [
    "anomalies_transitional = transitional_statuses[transitional_statuses.diff_now_created > max_diff_delivered_created]\n",
    "anomalies_transitional.shape"
   ]
  },
  {
   "cell_type": "markdown",
   "metadata": {},
   "source": [
    "Следуя второй гипотезе, можно заключить, что аномалиями оказалось большинство \"промежуточных\" заказов."
   ]
  },
  {
   "cell_type": "markdown",
   "metadata": {},
   "source": [
    "---\n",
    "Также на выбросы можно проверить 2 колонки с числовыми данными из датасета `items_df`: `price` (цена) и `freight_value` (вес товара). Единицы измерения их нам неизвестны, но общую тенденцию оценить можно:"
   ]
  },
  {
   "cell_type": "code",
   "execution_count": 63,
   "metadata": {
    "scrolled": true
   },
   "outputs": [
    {
     "data": {
      "text/html": [
       "<div>\n",
       "<style scoped>\n",
       "    .dataframe tbody tr th:only-of-type {\n",
       "        vertical-align: middle;\n",
       "    }\n",
       "\n",
       "    .dataframe tbody tr th {\n",
       "        vertical-align: top;\n",
       "    }\n",
       "\n",
       "    .dataframe thead th {\n",
       "        text-align: right;\n",
       "    }\n",
       "</style>\n",
       "<table border=\"1\" class=\"dataframe\">\n",
       "  <thead>\n",
       "    <tr style=\"text-align: right;\">\n",
       "      <th></th>\n",
       "      <th>price</th>\n",
       "      <th>freight_value</th>\n",
       "    </tr>\n",
       "  </thead>\n",
       "  <tbody>\n",
       "    <tr>\n",
       "      <th>count</th>\n",
       "      <td>111517.000000</td>\n",
       "      <td>111517.000000</td>\n",
       "    </tr>\n",
       "    <tr>\n",
       "      <th>mean</th>\n",
       "      <td>120.574583</td>\n",
       "      <td>19.985904</td>\n",
       "    </tr>\n",
       "    <tr>\n",
       "      <th>std</th>\n",
       "      <td>183.400213</td>\n",
       "      <td>15.784593</td>\n",
       "    </tr>\n",
       "    <tr>\n",
       "      <th>min</th>\n",
       "      <td>0.850000</td>\n",
       "      <td>0.000000</td>\n",
       "    </tr>\n",
       "    <tr>\n",
       "      <th>25%</th>\n",
       "      <td>39.900000</td>\n",
       "      <td>13.080000</td>\n",
       "    </tr>\n",
       "    <tr>\n",
       "      <th>50%</th>\n",
       "      <td>74.900000</td>\n",
       "      <td>16.260000</td>\n",
       "    </tr>\n",
       "    <tr>\n",
       "      <th>75%</th>\n",
       "      <td>134.900000</td>\n",
       "      <td>21.150000</td>\n",
       "    </tr>\n",
       "    <tr>\n",
       "      <th>max</th>\n",
       "      <td>6735.000000</td>\n",
       "      <td>409.680000</td>\n",
       "    </tr>\n",
       "  </tbody>\n",
       "</table>\n",
       "</div>"
      ],
      "text/plain": [
       "               price  freight_value\n",
       "count  111517.000000  111517.000000\n",
       "mean      120.574583      19.985904\n",
       "std       183.400213      15.784593\n",
       "min         0.850000       0.000000\n",
       "25%        39.900000      13.080000\n",
       "50%        74.900000      16.260000\n",
       "75%       134.900000      21.150000\n",
       "max      6735.000000     409.680000"
      ]
     },
     "execution_count": 63,
     "metadata": {},
     "output_type": "execute_result"
    }
   ],
   "source": [
    "items_df[['price','freight_value']].describe()"
   ]
  },
  {
   "cell_type": "markdown",
   "metadata": {},
   "source": [
    "Цена 6000+ денежных единиц (возможно, бразильских реалов) выбивается из общей массы данных, но с учетом, что этот товар весил около 200 у.е. (при среднем значении 20 у.е.), вероятно, никакой ошибки тут нет. Аналогичный вывод можно сделать и про максимальное значение веса."
   ]
  },
  {
   "cell_type": "code",
   "execution_count": 64,
   "metadata": {
    "scrolled": false
   },
   "outputs": [
    {
     "data": {
      "text/html": [
       "<div>\n",
       "<style scoped>\n",
       "    .dataframe tbody tr th:only-of-type {\n",
       "        vertical-align: middle;\n",
       "    }\n",
       "\n",
       "    .dataframe tbody tr th {\n",
       "        vertical-align: top;\n",
       "    }\n",
       "\n",
       "    .dataframe thead th {\n",
       "        text-align: right;\n",
       "    }\n",
       "</style>\n",
       "<table border=\"1\" class=\"dataframe\">\n",
       "  <thead>\n",
       "    <tr style=\"text-align: right;\">\n",
       "      <th></th>\n",
       "      <th>order_id</th>\n",
       "      <th>order_item_id</th>\n",
       "      <th>product_id</th>\n",
       "      <th>seller_id</th>\n",
       "      <th>shipping_limit_date</th>\n",
       "      <th>price</th>\n",
       "      <th>freight_value</th>\n",
       "    </tr>\n",
       "  </thead>\n",
       "  <tbody>\n",
       "    <tr>\n",
       "      <th>3556</th>\n",
       "      <td>0812eb902a67711a1cb742b3cdaa65ae</td>\n",
       "      <td>1</td>\n",
       "      <td>489ae2aa008f021502940f251d4cce7f</td>\n",
       "      <td>e3b4998c7a498169dc7bce44e6bb6277</td>\n",
       "      <td>2017-02-16 20:37:36</td>\n",
       "      <td>6735.0</td>\n",
       "      <td>194.31</td>\n",
       "    </tr>\n",
       "    <tr>\n",
       "      <th>73486</th>\n",
       "      <td>a77e1550db865202c56b19ddc6dc4d53</td>\n",
       "      <td>1</td>\n",
       "      <td>ec31d2a17b299511e7c8627be9337b9b</td>\n",
       "      <td>257e61d3251fb5efb9daadddbc2cf7ca</td>\n",
       "      <td>2018-04-25 06:55:13</td>\n",
       "      <td>979.0</td>\n",
       "      <td>409.68</td>\n",
       "    </tr>\n",
       "  </tbody>\n",
       "</table>\n",
       "</div>"
      ],
      "text/plain": [
       "                               order_id  order_item_id  \\\n",
       "3556   0812eb902a67711a1cb742b3cdaa65ae              1   \n",
       "73486  a77e1550db865202c56b19ddc6dc4d53              1   \n",
       "\n",
       "                             product_id                         seller_id  \\\n",
       "3556   489ae2aa008f021502940f251d4cce7f  e3b4998c7a498169dc7bce44e6bb6277   \n",
       "73486  ec31d2a17b299511e7c8627be9337b9b  257e61d3251fb5efb9daadddbc2cf7ca   \n",
       "\n",
       "      shipping_limit_date   price  freight_value  \n",
       "3556  2017-02-16 20:37:36  6735.0         194.31  \n",
       "73486 2018-04-25 06:55:13   979.0         409.68  "
      ]
     },
     "execution_count": 64,
     "metadata": {},
     "output_type": "execute_result"
    }
   ],
   "source": [
    "items_df.query('(price == 6735.000000) or (freight_value == 409.680000)')"
   ]
  },
  {
   "cell_type": "markdown",
   "metadata": {},
   "source": [
    "Не будем относить эти данные к выбросам."
   ]
  },
  {
   "cell_type": "markdown",
   "metadata": {},
   "source": [
    "---\n",
    "Вновь очищаем наши датасеты от аномалий."
   ]
  },
  {
   "cell_type": "code",
   "execution_count": 65,
   "metadata": {},
   "outputs": [],
   "source": [
    "anomalies_order_ids = list(anomalies_transitional.order_id)\n",
    "anomalies_customer_ids = list(anomalies_transitional.customer_id)"
   ]
  },
  {
   "cell_type": "code",
   "execution_count": 66,
   "metadata": {},
   "outputs": [
    {
     "name": "stdout",
     "output_type": "stream",
     "text": [
      "(96825, 5)\n"
     ]
    }
   ],
   "source": [
    "customers_df = customers_df[customers_df.customer_id.isin(anomalies_customer_ids) == False]\n",
    "print(customers_df.shape)"
   ]
  },
  {
   "cell_type": "code",
   "execution_count": 67,
   "metadata": {},
   "outputs": [
    {
     "name": "stdout",
     "output_type": "stream",
     "text": [
      "(96825, 13)\n"
     ]
    },
    {
     "data": {
      "text/plain": [
       "delivered      95528\n",
       "canceled         609\n",
       "unavailable      606\n",
       "shipped           57\n",
       "invoiced          25\n",
       "Name: order_status, dtype: int64"
      ]
     },
     "execution_count": 67,
     "metadata": {},
     "output_type": "execute_result"
    }
   ],
   "source": [
    "orders_df = orders_df[orders_df.order_id.isin(anomalies_order_ids) == False]\n",
    "print(orders_df.shape)\n",
    "orders_df.order_status.value_counts()"
   ]
  },
  {
   "cell_type": "code",
   "execution_count": 68,
   "metadata": {
    "scrolled": true
   },
   "outputs": [
    {
     "name": "stdout",
     "output_type": "stream",
     "text": [
      "(109716, 7)\n"
     ]
    }
   ],
   "source": [
    "items_df = items_df[items_df.order_id.isin(anomalies_order_ids) == False]\n",
    "print(items_df.shape)"
   ]
  },
  {
   "cell_type": "markdown",
   "metadata": {},
   "source": [
    "---\n",
    "# 🛠️ Решение проекта"
   ]
  },
  {
   "cell_type": "markdown",
   "metadata": {},
   "source": [
    "#### 0. Что считать покупкой? 🛒\n",
    "\n",
    "Итак, на основе предобработки данных ясно:\n",
    "- Выполнение заказа происходит в такой последовательности: `created` &rarr; `approved` &rarr; `invoiced` &rarr; `processing` &rarr; `shipped`  &rarr; `delivered`\n",
    "- Каждый заказ может состоять из нескольких товаров\n",
    "\n",
    "Таким образом, есть как минимум 2 вопроса, на которые следует ответить при определении того, что считать покупкой: \n",
    "\n",
    "1. Покупка — это лишь оплаченный заказ или уже выполненный? \n",
    "2. Покупка — это каждый товар в заказе или заказ целиком?"
   ]
  },
  {
   "cell_type": "markdown",
   "metadata": {},
   "source": [
    "Итак, первым делом вспомним, что существуют отмены заказов, при которых мы будем обязаны вернуть средства пользователям. Статус `canceled` может появиться на любом этапе, даже после доставки, но такие случаи наиболее редки:"
   ]
  },
  {
   "cell_type": "code",
   "execution_count": 69,
   "metadata": {
    "scrolled": true
   },
   "outputs": [
    {
     "data": {
      "text/html": [
       "<div>\n",
       "<style scoped>\n",
       "    .dataframe tbody tr th:only-of-type {\n",
       "        vertical-align: middle;\n",
       "    }\n",
       "\n",
       "    .dataframe tbody tr th {\n",
       "        vertical-align: top;\n",
       "    }\n",
       "\n",
       "    .dataframe thead th {\n",
       "        text-align: right;\n",
       "    }\n",
       "</style>\n",
       "<table border=\"1\" class=\"dataframe\">\n",
       "  <thead>\n",
       "    <tr style=\"text-align: right;\">\n",
       "      <th></th>\n",
       "      <th>stage</th>\n",
       "      <th>cumulative_canceled_orders</th>\n",
       "      <th>delta_canceled_orders</th>\n",
       "    </tr>\n",
       "  </thead>\n",
       "  <tbody>\n",
       "    <tr>\n",
       "      <th>0</th>\n",
       "      <td>order_purchase_timestamp</td>\n",
       "      <td>0</td>\n",
       "      <td>NaN</td>\n",
       "    </tr>\n",
       "    <tr>\n",
       "      <th>1</th>\n",
       "      <td>order_approved_at</td>\n",
       "      <td>140</td>\n",
       "      <td>140.0</td>\n",
       "    </tr>\n",
       "    <tr>\n",
       "      <th>2</th>\n",
       "      <td>order_delivered_carrier_date</td>\n",
       "      <td>535</td>\n",
       "      <td>395.0</td>\n",
       "    </tr>\n",
       "    <tr>\n",
       "      <th>3</th>\n",
       "      <td>order_delivered_customer_date</td>\n",
       "      <td>603</td>\n",
       "      <td>68.0</td>\n",
       "    </tr>\n",
       "    <tr>\n",
       "      <th>4</th>\n",
       "      <td>after delivery</td>\n",
       "      <td>609</td>\n",
       "      <td>6.0</td>\n",
       "    </tr>\n",
       "  </tbody>\n",
       "</table>\n",
       "</div>"
      ],
      "text/plain": [
       "                           stage  cumulative_canceled_orders  \\\n",
       "0       order_purchase_timestamp                           0   \n",
       "1              order_approved_at                         140   \n",
       "2   order_delivered_carrier_date                         535   \n",
       "3  order_delivered_customer_date                         603   \n",
       "4                 after delivery                         609   \n",
       "\n",
       "   delta_canceled_orders  \n",
       "0                    NaN  \n",
       "1                  140.0  \n",
       "2                  395.0  \n",
       "3                   68.0  \n",
       "4                    6.0  "
      ]
     },
     "execution_count": 69,
     "metadata": {},
     "output_type": "execute_result"
    }
   ],
   "source": [
    "canceled_stages = pd.DataFrame(\n",
    "    orders_df.query('order_status == \"canceled\"')[dates_cols].isna() \\\n",
    "    .sum()) \\\n",
    "    .reset_index() \\\n",
    "    .rename(columns = {'index':'stage',0:'cumulative_canceled_orders'})\n",
    "canceled_stages['delta_canceled_orders'] = canceled_stages.cumulative_canceled_orders.diff()\n",
    "canceled_stages.append({\n",
    "    'stage':'after delivery', \n",
    "    'cumulative_canceled_orders':orders_df.order_status.value_counts()['canceled'],\n",
    "    'delta_canceled_orders':orders_df.order_status.value_counts()['canceled']-canceled_stages.iloc[3,1]\n",
    "},ignore_index=True)"
   ]
  },
  {
   "cell_type": "markdown",
   "metadata": {},
   "source": [
    "Значит, если подходить к определению покупки со всей осторожностью, то, поскольку именно после доставки заказа его отмена наименее вероятна, следует считать **покупкой** именно **доставленные заказы**. Но если подходить к этому с точки зрения маркетинговой функции, где важнее отслеживать интерес и активность пользователей, следует считать **покупкой любые оплаченные заказы** (за исключением уже отмененных), хоть по таким заказам и существует риск получить впоследствии статус `canceled` или `unavailable` несмотря на то, что мы уже записали их в покупки."
   ]
  },
  {
   "cell_type": "markdown",
   "metadata": {},
   "source": [
    "Второй вопрос касается того, считать ли товары в заказе отдельными покупками. Даже если посмотреть на ситуацию лишь с точки зрения маркетинга, полезным может оказаться любой из этих подходов: \n",
    "* При сегментировании клиентов наверняка было бы важно учесть разницу между клиентами, покупающими несколько товаров за раз, и клиентами, покупающими лишь 1 товар за заказ.\n",
    "* При оценке оттока клиентов, скорее всего, было бы достаточно знать, был ли совершен заказ в определенную дату, вне зависимости от количества товаров в нем."
   ]
  },
  {
   "cell_type": "markdown",
   "metadata": {},
   "source": [
    "Таким образом, исходя из целей можно выделить 3 подхода к определению покупки.\n",
    "1. **Консервативный подход:** **покупки** — это одновременно оплаченные, доставленные, неотмененные заказы.\n",
    "2. **Маркетинговый подход:** \n",
    "а) **покупки** — это любые оплаченные неотмененные заказы;\n",
    "б) **покупки** — это товары в оплаченных неотмененных заказах\n",
    "\n",
    "Создадим датасеты под каждую из этих целей и при решении задач проекта будем использовать тот или иной из них."
   ]
  },
  {
   "cell_type": "code",
   "execution_count": 70,
   "metadata": {
    "scrolled": true
   },
   "outputs": [
    {
     "data": {
      "text/plain": [
       "(95528, 13)"
      ]
     },
     "execution_count": 70,
     "metadata": {},
     "output_type": "execute_result"
    }
   ],
   "source": [
    "# дновременно оплаченные, доставленные, неотмененные заказы\n",
    "purchases_conservative = orders_df[\n",
    "    (orders_df.order_status == 'delivered')\n",
    "    & (orders_df.order_approved_at.notnull())\n",
    "    & (orders_df.order_delivered_carrier_date.notnull())\n",
    "    & (orders_df.order_delivered_customer_date.notnull())\n",
    "]\n",
    "purchases_conservative.shape"
   ]
  },
  {
   "cell_type": "code",
   "execution_count": 71,
   "metadata": {},
   "outputs": [
    {
     "data": {
      "text/plain": [
       "(96216, 13)"
      ]
     },
     "execution_count": 71,
     "metadata": {},
     "output_type": "execute_result"
    }
   ],
   "source": [
    "# любые оплаченные неотмененные заказы\n",
    "purchases_marketing_orders = orders_df[\n",
    "    (orders_df.order_status != 'canceled')\n",
    "    & (orders_df.order_approved_at.notnull())] \n",
    "purchases_marketing_orders.shape"
   ]
  },
  {
   "cell_type": "code",
   "execution_count": 72,
   "metadata": {},
   "outputs": [
    {
     "data": {
      "text/plain": [
       "(109185, 19)"
      ]
     },
     "execution_count": 72,
     "metadata": {},
     "output_type": "execute_result"
    }
   ],
   "source": [
    "# товары в оплаченных неотмененных заказах\n",
    "purchases_marketing_items = purchases_marketing_orders.merge(items_df,\n",
    "                           how = 'inner',\n",
    "                           on = 'order_id', \n",
    "                           suffixes=['_purchases', '_items'])\n",
    "purchases_marketing_items.shape"
   ]
  },
  {
   "cell_type": "markdown",
   "metadata": {},
   "source": [
    " "
   ]
  },
  {
   "cell_type": "markdown",
   "metadata": {},
   "source": [
    "---\n",
    "#### 1. Сколько у нас пользователей, которые совершили покупку только один раз? 💁\n",
    "\n",
    "Исходя из формулировки задачи, разовой **покупкой** здесь логичнее всего считать разовый оплаченный неотмененный заказ, вне зависимости от количества товаров в нем. Будем использовать датасет `purchases_marketing_orders`. Примерджим датасет `customers_df` и посчитаем количество уникальных идентификаторов пользователей (`customer_unique_id`), у которых был только 1 заказ."
   ]
  },
  {
   "cell_type": "code",
   "execution_count": 73,
   "metadata": {},
   "outputs": [
    {
     "data": {
      "text/plain": [
       "(96216, 17)"
      ]
     },
     "execution_count": 73,
     "metadata": {},
     "output_type": "execute_result"
    }
   ],
   "source": [
    "# purchases_marketing_orders + customers_df = pmo_customers_df\n",
    "pmo_customers_df = purchases_marketing_orders.merge(customers_df, on = 'customer_id', how = 'inner')\n",
    "pmo_customers_df.shape"
   ]
  },
  {
   "cell_type": "code",
   "execution_count": 74,
   "metadata": {
    "scrolled": true
   },
   "outputs": [
    {
     "data": {
      "text/plain": [
       "90331"
      ]
     },
     "execution_count": 74,
     "metadata": {},
     "output_type": "execute_result"
    }
   ],
   "source": [
    "users_1_purchase = (pmo_customers_df \\\n",
    "    .groupby('customer_unique_id', as_index = False) \\\n",
    "    .agg({'order_id':'count'})\n",
    "    .rename(columns ={'order_id':'purchases_count'}) \\\n",
    "    .purchases_count == 1) \\\n",
    "    .sum()\n",
    "users_1_purchase"
   ]
  },
  {
   "cell_type": "code",
   "execution_count": 75,
   "metadata": {
    "scrolled": true
   },
   "outputs": [
    {
     "data": {
      "text/plain": [
       "97.01119058358572"
      ]
     },
     "execution_count": 75,
     "metadata": {},
     "output_type": "execute_result"
    }
   ],
   "source": [
    "100*(users_1_purchase / pmo_customers_df.customer_unique_id.nunique())"
   ]
  },
  {
   "cell_type": "markdown",
   "metadata": {},
   "source": [
    "💁 **Ответ: 90331 уникальных пользователей, которые совершили покупку только один раз** \n",
    "\n",
    "\n",
    "Иными словами, 97% пользователей, которые заказывали на e-com площадке, заказывали лишь 1 раз."
   ]
  },
  {
   "cell_type": "markdown",
   "metadata": {},
   "source": [
    "---\n",
    "#### 2. Сколько заказов в месяц в среднем не доставляется по разным причинам? Вывести детализацию по причинам. 📦⛔\n",
    "* В данной задаче будем опираться на датасет `orders_df` со всеми неаномальными заказами.\n",
    "* Под **недоставленными заказами** мы будем понимать заказы со статусами `unavailable`;`canceled`, поскольку иные случаи пропуска в колонке `order_delivered_customer_date` мы либо отнесли к аномалиям, либо такие заказы еще в процессе выполнения.\n",
    "* Также включим в рассмотрение **просроченные заказы** — такие, где `order_delivered_customer_date` превышает `order_estimated_delivery_date`, либо заказы с промежуточным статусом, у которых уже прошла `order_estimated_delivery_date` на момент последней даты в датасете (`now_date`).\n",
    "* Месяцем, в который заказ не был доставлен, будем считать месяц+год, указанный в `order_estimated_delivery_date`. Поскольку в датасете есть данные за несколько лет, извлечение лишь месяцев привело бы к смешению показателей за разные годы."
   ]
  },
  {
   "cell_type": "markdown",
   "metadata": {},
   "source": [
    "Создадим колонки\n",
    "* `estimated_delivery_month` (ожидаемый месяц+год доставки)\n",
    "* `diff_estimated_delivered` (разница между обещанной датой доставки и фактической датой доставки)\n",
    "* `diff_now_estimated` (разница между обещанной датой доставки и \"текущей\" датой)"
   ]
  },
  {
   "cell_type": "code",
   "execution_count": 76,
   "metadata": {
    "scrolled": true
   },
   "outputs": [],
   "source": [
    "orders_df['estimated_delivery_month'] = orders_df.order_estimated_delivery_date.dt.strftime('%Y/%m')\n",
    "orders_df['diff_estimated_delivered'] = orders_df.order_estimated_delivery_date - orders_df.order_delivered_customer_date\n",
    "orders_df['diff_now_estimated'] = now_date - transitional_statuses.order_estimated_delivery_date"
   ]
  },
  {
   "cell_type": "markdown",
   "metadata": {},
   "source": [
    "Взглянем на все недоставленные заказы (в т.ч. на просроченные). Всего таких заказов обнаружено 8871 шт."
   ]
  },
  {
   "cell_type": "code",
   "execution_count": 77,
   "metadata": {
    "scrolled": true
   },
   "outputs": [
    {
     "data": {
      "text/plain": [
       "8871"
      ]
     },
     "execution_count": 77,
     "metadata": {},
     "output_type": "execute_result"
    }
   ],
   "source": [
    "non_delivered_incl_delays = orders_df[\n",
    "    (orders_df.order_status == \"unavailable\")\n",
    "    | (orders_df.order_status == \"canceled\")\n",
    "    | (orders_df.diff_estimated_delivered < pd.Timedelta(0))\n",
    "    | (orders_df.diff_now_estimated > pd.Timedelta(0))\n",
    "]\n",
    "non_delivered_incl_delays.shape[0]"
   ]
  },
  {
   "cell_type": "markdown",
   "metadata": {},
   "source": [
    "Создадим отдельный столбец на основе `order_status`, в котором укажем, был ли заказ просрочен, отменен или недоступен."
   ]
  },
  {
   "cell_type": "code",
   "execution_count": 78,
   "metadata": {},
   "outputs": [
    {
     "data": {
      "text/html": [
       "<div>\n",
       "<style scoped>\n",
       "    .dataframe tbody tr th:only-of-type {\n",
       "        vertical-align: middle;\n",
       "    }\n",
       "\n",
       "    .dataframe tbody tr th {\n",
       "        vertical-align: top;\n",
       "    }\n",
       "\n",
       "    .dataframe thead th {\n",
       "        text-align: right;\n",
       "    }\n",
       "</style>\n",
       "<table border=\"1\" class=\"dataframe\">\n",
       "  <thead>\n",
       "    <tr style=\"text-align: right;\">\n",
       "      <th></th>\n",
       "      <th>non_delivered_count</th>\n",
       "      <th>non_delivered_percent</th>\n",
       "    </tr>\n",
       "  </thead>\n",
       "  <tbody>\n",
       "    <tr>\n",
       "      <th>expired</th>\n",
       "      <td>7656</td>\n",
       "      <td>86.303686</td>\n",
       "    </tr>\n",
       "    <tr>\n",
       "      <th>canceled</th>\n",
       "      <td>609</td>\n",
       "      <td>6.865066</td>\n",
       "    </tr>\n",
       "    <tr>\n",
       "      <th>unavailable</th>\n",
       "      <td>606</td>\n",
       "      <td>6.831248</td>\n",
       "    </tr>\n",
       "  </tbody>\n",
       "</table>\n",
       "</div>"
      ],
      "text/plain": [
       "             non_delivered_count  non_delivered_percent\n",
       "expired                     7656              86.303686\n",
       "canceled                     609               6.865066\n",
       "unavailable                  606               6.831248"
      ]
     },
     "execution_count": 78,
     "metadata": {},
     "output_type": "execute_result"
    }
   ],
   "source": [
    "non_delivered_incl_delays['reason_non_delivered'] = non_delivered_incl_delays.order_status.apply(lambda row: 'expired' if row in ['delivered', 'shipped', 'invoiced'] else row)\n",
    "pd.DataFrame({\n",
    "    'non_delivered_count':non_delivered_incl_delays.reason_non_delivered.value_counts(),\n",
    "    'non_delivered_percent':non_delivered_incl_delays.reason_non_delivered.value_counts(normalize=True)*100})"
   ]
  },
  {
   "cell_type": "markdown",
   "metadata": {},
   "source": [
    "\n",
    "По детализации по причинам **за весь период** видно:\n",
    "* Большая часть (7656, 86.3%) недоставленных заказов были просрочены\n",
    "* Примерно одинаковое количество заказов (609 и 606 шт., суммарно около 14%) были отменены либо недоступны\n",
    "\n",
    "Можно заметить, что все заказы с промежуточными статусами, которые мы оставили в данных как \"выполняющиеся\", просрочены."
   ]
  },
  {
   "cell_type": "markdown",
   "metadata": {},
   "source": [
    "В разбивке по месяцам можно заметить, что больше всего проблем с заказами, **вне зависимости от причин**, наблюдалось в марте 2018 года."
   ]
  },
  {
   "cell_type": "code",
   "execution_count": 79,
   "metadata": {
    "scrolled": false
   },
   "outputs": [
    {
     "data": {
      "image/png": "[encoded data removed]",
      "text/plain": [
       "<Figure size 1440x360 with 1 Axes>"
      ]
     },
     "metadata": {},
     "output_type": "display_data"
    }
   ],
   "source": [
    "sns.barplot(data = non_delivered_incl_delays.groupby('estimated_delivery_month', as_index = False) \\\n",
    "    .agg({'order_id':'count'}) \\\n",
    "    .sort_values('estimated_delivery_month') \\\n",
    "    .rename(columns={'order_id':'orders_count'}), x = \"estimated_delivery_month\", y = \"orders_count\");"
   ]
  },
  {
   "cell_type": "markdown",
   "metadata": {},
   "source": [
    "📦⛔ **Ответ**\n",
    "1. Итого, в среднем **355 заказов в месяц не доставляется** по разным причинам, в т.ч. доставляется невовремя."
   ]
  },
  {
   "cell_type": "code",
   "execution_count": 80,
   "metadata": {
    "scrolled": true
   },
   "outputs": [
    {
     "data": {
      "text/plain": [
       "orders_count    354.84\n",
       "dtype: float64"
      ]
     },
     "execution_count": 80,
     "metadata": {},
     "output_type": "execute_result"
    }
   ],
   "source": [
    "non_delivered_incl_delays.groupby('estimated_delivery_month', as_index = False) \\\n",
    "    .agg({'order_id':'count'}) \\\n",
    "    .sort_values('estimated_delivery_month') \\\n",
    "    .rename(columns={'order_id':'orders_count'}).mean()"
   ]
  },
  {
   "cell_type": "markdown",
   "metadata": {},
   "source": [
    "📦⛔ \n",
    "2. **В детализации по причинам, в среднем в месяц не доставляется:**\n",
    "    * по 365 заказов в связи с просрочкой по дате доставки (с последующей доставкой с опозданием)\n",
    "    * по 29 заказов в связи с недоступностью заказа\n",
    "    * по 24 заказа в связи с отменой со стороны пользователя"
   ]
  },
  {
   "cell_type": "code",
   "execution_count": 81,
   "metadata": {},
   "outputs": [
    {
     "data": {
      "text/html": [
       "<div>\n",
       "<style scoped>\n",
       "    .dataframe tbody tr th:only-of-type {\n",
       "        vertical-align: middle;\n",
       "    }\n",
       "\n",
       "    .dataframe tbody tr th {\n",
       "        vertical-align: top;\n",
       "    }\n",
       "\n",
       "    .dataframe thead th {\n",
       "        text-align: right;\n",
       "    }\n",
       "</style>\n",
       "<table border=\"1\" class=\"dataframe\">\n",
       "  <thead>\n",
       "    <tr style=\"text-align: right;\">\n",
       "      <th></th>\n",
       "      <th>count_mean_by_month</th>\n",
       "    </tr>\n",
       "    <tr>\n",
       "      <th>reason_non_delivered</th>\n",
       "      <th></th>\n",
       "    </tr>\n",
       "  </thead>\n",
       "  <tbody>\n",
       "    <tr>\n",
       "      <th>expired</th>\n",
       "      <td>364.571429</td>\n",
       "    </tr>\n",
       "    <tr>\n",
       "      <th>unavailable</th>\n",
       "      <td>28.857143</td>\n",
       "    </tr>\n",
       "    <tr>\n",
       "      <th>canceled</th>\n",
       "      <td>24.360000</td>\n",
       "    </tr>\n",
       "  </tbody>\n",
       "</table>\n",
       "</div>"
      ],
      "text/plain": [
       "                      count_mean_by_month\n",
       "reason_non_delivered                     \n",
       "expired                        364.571429\n",
       "unavailable                     28.857143\n",
       "canceled                        24.360000"
      ]
     },
     "execution_count": 81,
     "metadata": {},
     "output_type": "execute_result"
    }
   ],
   "source": [
    "pd.DataFrame(\n",
    "    {\n",
    "        'count_mean_by_month':non_delivered_incl_delays.groupby(['reason_non_delivered','estimated_delivery_month'], as_index = False) \\\n",
    "        .order_id.count() \\\n",
    "        .pivot_table(index = 'estimated_delivery_month',\n",
    "                     columns = 'reason_non_delivered',\n",
    "                     values = 'order_id'\n",
    "                    ) \\\n",
    "        .reset_index() \\\n",
    "        .mean() \\\n",
    "        .sort_values(ascending = False)\n",
    "    }\n",
    ")"
   ]
  },
  {
   "cell_type": "markdown",
   "metadata": {},
   "source": [
    "---\n",
    "#### 3. По каждому товару определить, в какой день недели он чаще всего покупается. 📅\n",
    "\n",
    "Здесь нам интересны товары в оплаченных неотмененных заказах, т.е. датасет `purchases_marketing_items`.\n",
    "\n",
    "* В качестве продукта будем рассматривать `product_id`\n",
    "* Мы будем фокусироваться на дате создания заказа (`order_purchase_timestamp`) как ключевой дате с точки зрения интереса пользователя\n",
    "* Очевидно, нет смысла рассматривать `product_id` с количеством заказов 7 и менее, поскольку по такому количеству данных нельзя сделать вывод об устойчивой повторяемости заказов в определенные дни недели. Следует эмпирически решить, для товаров с каким числом покупок стоит искать ответ на поставленную задачу."
   ]
  },
  {
   "cell_type": "markdown",
   "metadata": {},
   "source": [
    "Создаем столбец с днями недели покупки"
   ]
  },
  {
   "cell_type": "code",
   "execution_count": 82,
   "metadata": {},
   "outputs": [],
   "source": [
    "purchases_marketing_items['purchase_weekday'] = purchases_marketing_items.order_purchase_timestamp.dt.day_name()"
   ]
  },
  {
   "cell_type": "markdown",
   "metadata": {},
   "source": [
    "Мы видим, что у 75% подходящих товаров было менее 3 заказов."
   ]
  },
  {
   "cell_type": "code",
   "execution_count": 83,
   "metadata": {},
   "outputs": [
    {
     "data": {
      "text/plain": [
       "count    31974.000000\n",
       "mean         3.414806\n",
       "std         10.581083\n",
       "min          1.000000\n",
       "25%          1.000000\n",
       "50%          1.000000\n",
       "75%          3.000000\n",
       "max        519.000000\n",
       "Name: product_id, dtype: float64"
      ]
     },
     "execution_count": 83,
     "metadata": {},
     "output_type": "execute_result"
    }
   ],
   "source": [
    "purchases_marketing_items['product_id'].value_counts().describe()"
   ]
  },
  {
   "cell_type": "markdown",
   "metadata": {},
   "source": [
    "7 и более заказов только у 3009 товаров:"
   ]
  },
  {
   "cell_type": "code",
   "execution_count": 84,
   "metadata": {},
   "outputs": [
    {
     "data": {
      "text/plain": [
       "3009"
      ]
     },
     "execution_count": 84,
     "metadata": {},
     "output_type": "execute_result"
    }
   ],
   "source": [
    "(purchases_marketing_items['product_id'].value_counts() >= 7).sum()"
   ]
  },
  {
   "cell_type": "markdown",
   "metadata": {},
   "source": [
    "Следует выбрать товары с оптимальным количеством покупок, чтобы соблюсти баланс между достаточным количеством товаров в ответе на задачу и статистической значимостью выводов. Критерием для отбора выберем отсутствие NaN-значений в итоговой сводной таблице \"продукты-дни недели\", т.е. каждый продукт должен быть как минимум 1 раз заказан в каждый день недели."
   ]
  },
  {
   "cell_type": "code",
   "execution_count": 85,
   "metadata": {
    "scrolled": false
   },
   "outputs": [
    {
     "name": "stdout",
     "output_type": "stream",
     "text": [
      "45 1 200\n",
      "46 1 193\n",
      "47 1 187\n",
      "48 1 182\n",
      "49 1 177\n",
      "50 1 172\n",
      "51 1 167\n",
      "52 1 164\n",
      "53 0 160\n",
      "54 0 154\n",
      "55 0 150\n",
      "56 0 145\n",
      "57 0 140\n",
      "58 0 134\n",
      "59 0 131\n",
      "60 0 129\n"
     ]
    }
   ],
   "source": [
    "for i in range(7,61):\n",
    "# Создаем выборку товаров для каждого числа покупок у товара от 7 до 70\n",
    "    purchases_items_cycle = purchases_marketing_items[\n",
    "        purchases_marketing_items['product_id'].isin(\n",
    "            purchases_marketing_items['product_id'].value_counts()[\n",
    "                purchases_marketing_items['product_id'].value_counts() >= i\n",
    "            ].index)]\n",
    "# Считаем количество покупок по каждому продукту х каждому дню\n",
    "    weekday_freq = purchases_items_cycle.groupby(['product_id','purchase_weekday'], as_index = False) \\\n",
    "    .agg({'order_id':'count'}) \\\n",
    "    .rename(columns = {'order_id':'purchases_count'})\n",
    "# Перегруппировываем данные: помещаем product_id в столбцы, дни недели в индексы\n",
    "    weekday_freq_pivot = weekday_freq.pivot(index = 'purchase_weekday', columns = 'product_id', values = 'purchases_count')\n",
    "    if weekday_freq_pivot.isna().sum().sum() <= 1:\n",
    "# Печатаем мин. число покупок у товаров для включения в выборку; число пропусков; число товаров в выборке\n",
    "        print(i,weekday_freq_pivot.isna().sum().sum(),weekday_freq_pivot.shape[1])"
   ]
  },
  {
   "cell_type": "markdown",
   "metadata": {},
   "source": [
    "Нам подходят продукты с числом покупок 53 и более."
   ]
  },
  {
   "cell_type": "code",
   "execution_count": 86,
   "metadata": {},
   "outputs": [],
   "source": [
    "# Отбираем товары с нужным числом покупок\n",
    "purchases_items_final = purchases_marketing_items[\n",
    "    purchases_marketing_items['product_id'].isin(\n",
    "        purchases_marketing_items['product_id'].value_counts()[\n",
    "            purchases_marketing_items['product_id'].value_counts() >= 53\n",
    "        ].index)]\n",
    "\n",
    "# Считаем количество покупок по каждому продукту х каждому дню\n",
    "weekday_freq = purchases_items_final.groupby(['product_id','purchase_weekday'], as_index = False) \\\n",
    "    .agg({'order_id':'count'}) \\\n",
    "    .rename(columns = {'order_id':'purchases_count'})\n",
    "\n",
    "# Перегруппировываем данные: помещаем product_id в столбцы, дни недели в индексы\n",
    "weekday_freq_pivot = weekday_freq.pivot(index = 'purchase_weekday', columns = 'product_id', values = 'purchases_count')"
   ]
  },
  {
   "cell_type": "code",
   "execution_count": 87,
   "metadata": {
    "scrolled": false
   },
   "outputs": [
    {
     "data": {
      "text/html": [
       "<div>\n",
       "<style scoped>\n",
       "    .dataframe tbody tr th:only-of-type {\n",
       "        vertical-align: middle;\n",
       "    }\n",
       "\n",
       "    .dataframe tbody tr th {\n",
       "        vertical-align: top;\n",
       "    }\n",
       "\n",
       "    .dataframe thead th {\n",
       "        text-align: right;\n",
       "    }\n",
       "</style>\n",
       "<table border=\"1\" class=\"dataframe\">\n",
       "  <thead>\n",
       "    <tr style=\"text-align: right;\">\n",
       "      <th>product_id</th>\n",
       "      <th>0152f69b6cf919bcdaf117aa8c43e5a2</th>\n",
       "      <th>054515fd15bc1a2029f10de97ffa9120</th>\n",
       "      <th>06c6e01186af8b98ee1fc9e01f9471e9</th>\n",
       "      <th>06edb72f1e0c64b14c5b79353f7abea3</th>\n",
       "      <th>08574b074924071f4e201e151b152b4e</th>\n",
       "      <th>0a57f7d2c983bcf8188589a5fea4a8da</th>\n",
       "      <th>0aabfb375647d9738ad0f7b4ea3653b1</th>\n",
       "      <th>0bcc3eeca39e1064258aa1e932269894</th>\n",
       "      <th>0d85c435fd60b277ffb9e9b0f88f927a</th>\n",
       "      <th>11875b30b49585209e608f40e8082e65</th>\n",
       "      <th>...</th>\n",
       "      <th>f35927953ed82e19d06ad3aac2f06353</th>\n",
       "      <th>f40876e0ef3cd5f9132b1f16b04b1346</th>\n",
       "      <th>f4f67ccaece962d013a4e1d7dc3a61f7</th>\n",
       "      <th>f71973c922ccaab05514a36a8bc741b8</th>\n",
       "      <th>f71f42e2381752836563b70beb542f80</th>\n",
       "      <th>f7a17d2c51d9df89a4f1711c4ac17f33</th>\n",
       "      <th>fb55982be901439613a95940feefd9ee</th>\n",
       "      <th>fbc1488c1a1e72ba175f53ab29a248e8</th>\n",
       "      <th>fbce4c4cb307679d89a3bf3d3bb353b9</th>\n",
       "      <th>fc1d8637c0268af3db482c14b7ef8e75</th>\n",
       "    </tr>\n",
       "    <tr>\n",
       "      <th>purchase_weekday</th>\n",
       "      <th></th>\n",
       "      <th></th>\n",
       "      <th></th>\n",
       "      <th></th>\n",
       "      <th></th>\n",
       "      <th></th>\n",
       "      <th></th>\n",
       "      <th></th>\n",
       "      <th></th>\n",
       "      <th></th>\n",
       "      <th></th>\n",
       "      <th></th>\n",
       "      <th></th>\n",
       "      <th></th>\n",
       "      <th></th>\n",
       "      <th></th>\n",
       "      <th></th>\n",
       "      <th></th>\n",
       "      <th></th>\n",
       "      <th></th>\n",
       "      <th></th>\n",
       "    </tr>\n",
       "  </thead>\n",
       "  <tbody>\n",
       "    <tr>\n",
       "      <th>Friday</th>\n",
       "      <td>5</td>\n",
       "      <td>10</td>\n",
       "      <td>6</td>\n",
       "      <td>24</td>\n",
       "      <td>17</td>\n",
       "      <td>4</td>\n",
       "      <td>13</td>\n",
       "      <td>19</td>\n",
       "      <td>11</td>\n",
       "      <td>9</td>\n",
       "      <td>...</td>\n",
       "      <td>10</td>\n",
       "      <td>6</td>\n",
       "      <td>14</td>\n",
       "      <td>10</td>\n",
       "      <td>12</td>\n",
       "      <td>10</td>\n",
       "      <td>14</td>\n",
       "      <td>11</td>\n",
       "      <td>3</td>\n",
       "      <td>2</td>\n",
       "    </tr>\n",
       "    <tr>\n",
       "      <th>Monday</th>\n",
       "      <td>8</td>\n",
       "      <td>10</td>\n",
       "      <td>5</td>\n",
       "      <td>24</td>\n",
       "      <td>24</td>\n",
       "      <td>22</td>\n",
       "      <td>27</td>\n",
       "      <td>21</td>\n",
       "      <td>12</td>\n",
       "      <td>11</td>\n",
       "      <td>...</td>\n",
       "      <td>11</td>\n",
       "      <td>11</td>\n",
       "      <td>6</td>\n",
       "      <td>13</td>\n",
       "      <td>4</td>\n",
       "      <td>9</td>\n",
       "      <td>17</td>\n",
       "      <td>10</td>\n",
       "      <td>3</td>\n",
       "      <td>10</td>\n",
       "    </tr>\n",
       "    <tr>\n",
       "      <th>Saturday</th>\n",
       "      <td>12</td>\n",
       "      <td>5</td>\n",
       "      <td>5</td>\n",
       "      <td>19</td>\n",
       "      <td>12</td>\n",
       "      <td>11</td>\n",
       "      <td>13</td>\n",
       "      <td>16</td>\n",
       "      <td>6</td>\n",
       "      <td>5</td>\n",
       "      <td>...</td>\n",
       "      <td>3</td>\n",
       "      <td>4</td>\n",
       "      <td>8</td>\n",
       "      <td>8</td>\n",
       "      <td>8</td>\n",
       "      <td>7</td>\n",
       "      <td>11</td>\n",
       "      <td>11</td>\n",
       "      <td>11</td>\n",
       "      <td>5</td>\n",
       "    </tr>\n",
       "    <tr>\n",
       "      <th>Sunday</th>\n",
       "      <td>6</td>\n",
       "      <td>6</td>\n",
       "      <td>9</td>\n",
       "      <td>10</td>\n",
       "      <td>11</td>\n",
       "      <td>10</td>\n",
       "      <td>18</td>\n",
       "      <td>7</td>\n",
       "      <td>9</td>\n",
       "      <td>7</td>\n",
       "      <td>...</td>\n",
       "      <td>4</td>\n",
       "      <td>8</td>\n",
       "      <td>3</td>\n",
       "      <td>8</td>\n",
       "      <td>4</td>\n",
       "      <td>8</td>\n",
       "      <td>6</td>\n",
       "      <td>7</td>\n",
       "      <td>6</td>\n",
       "      <td>9</td>\n",
       "    </tr>\n",
       "    <tr>\n",
       "      <th>Thursday</th>\n",
       "      <td>11</td>\n",
       "      <td>8</td>\n",
       "      <td>14</td>\n",
       "      <td>17</td>\n",
       "      <td>11</td>\n",
       "      <td>9</td>\n",
       "      <td>24</td>\n",
       "      <td>14</td>\n",
       "      <td>9</td>\n",
       "      <td>12</td>\n",
       "      <td>...</td>\n",
       "      <td>4</td>\n",
       "      <td>6</td>\n",
       "      <td>6</td>\n",
       "      <td>6</td>\n",
       "      <td>13</td>\n",
       "      <td>6</td>\n",
       "      <td>14</td>\n",
       "      <td>5</td>\n",
       "      <td>11</td>\n",
       "      <td>11</td>\n",
       "    </tr>\n",
       "    <tr>\n",
       "      <th>Tuesday</th>\n",
       "      <td>4</td>\n",
       "      <td>3</td>\n",
       "      <td>8</td>\n",
       "      <td>28</td>\n",
       "      <td>17</td>\n",
       "      <td>19</td>\n",
       "      <td>28</td>\n",
       "      <td>15</td>\n",
       "      <td>15</td>\n",
       "      <td>14</td>\n",
       "      <td>...</td>\n",
       "      <td>14</td>\n",
       "      <td>10</td>\n",
       "      <td>14</td>\n",
       "      <td>12</td>\n",
       "      <td>8</td>\n",
       "      <td>14</td>\n",
       "      <td>11</td>\n",
       "      <td>5</td>\n",
       "      <td>12</td>\n",
       "      <td>12</td>\n",
       "    </tr>\n",
       "    <tr>\n",
       "      <th>Wednesday</th>\n",
       "      <td>15</td>\n",
       "      <td>13</td>\n",
       "      <td>10</td>\n",
       "      <td>17</td>\n",
       "      <td>18</td>\n",
       "      <td>11</td>\n",
       "      <td>17</td>\n",
       "      <td>23</td>\n",
       "      <td>9</td>\n",
       "      <td>7</td>\n",
       "      <td>...</td>\n",
       "      <td>11</td>\n",
       "      <td>10</td>\n",
       "      <td>5</td>\n",
       "      <td>6</td>\n",
       "      <td>5</td>\n",
       "      <td>8</td>\n",
       "      <td>11</td>\n",
       "      <td>9</td>\n",
       "      <td>14</td>\n",
       "      <td>7</td>\n",
       "    </tr>\n",
       "  </tbody>\n",
       "</table>\n",
       "<p>7 rows × 160 columns</p>\n",
       "</div>"
      ],
      "text/plain": [
       "product_id        0152f69b6cf919bcdaf117aa8c43e5a2  \\\n",
       "purchase_weekday                                     \n",
       "Friday                                           5   \n",
       "Monday                                           8   \n",
       "Saturday                                        12   \n",
       "Sunday                                           6   \n",
       "Thursday                                        11   \n",
       "Tuesday                                          4   \n",
       "Wednesday                                       15   \n",
       "\n",
       "product_id        054515fd15bc1a2029f10de97ffa9120  \\\n",
       "purchase_weekday                                     \n",
       "Friday                                          10   \n",
       "Monday                                          10   \n",
       "Saturday                                         5   \n",
       "Sunday                                           6   \n",
       "Thursday                                         8   \n",
       "Tuesday                                          3   \n",
       "Wednesday                                       13   \n",
       "\n",
       "product_id        06c6e01186af8b98ee1fc9e01f9471e9  \\\n",
       "purchase_weekday                                     \n",
       "Friday                                           6   \n",
       "Monday                                           5   \n",
       "Saturday                                         5   \n",
       "Sunday                                           9   \n",
       "Thursday                                        14   \n",
       "Tuesday                                          8   \n",
       "Wednesday                                       10   \n",
       "\n",
       "product_id        06edb72f1e0c64b14c5b79353f7abea3  \\\n",
       "purchase_weekday                                     \n",
       "Friday                                          24   \n",
       "Monday                                          24   \n",
       "Saturday                                        19   \n",
       "Sunday                                          10   \n",
       "Thursday                                        17   \n",
       "Tuesday                                         28   \n",
       "Wednesday                                       17   \n",
       "\n",
       "product_id        08574b074924071f4e201e151b152b4e  \\\n",
       "purchase_weekday                                     \n",
       "Friday                                          17   \n",
       "Monday                                          24   \n",
       "Saturday                                        12   \n",
       "Sunday                                          11   \n",
       "Thursday                                        11   \n",
       "Tuesday                                         17   \n",
       "Wednesday                                       18   \n",
       "\n",
       "product_id        0a57f7d2c983bcf8188589a5fea4a8da  \\\n",
       "purchase_weekday                                     \n",
       "Friday                                           4   \n",
       "Monday                                          22   \n",
       "Saturday                                        11   \n",
       "Sunday                                          10   \n",
       "Thursday                                         9   \n",
       "Tuesday                                         19   \n",
       "Wednesday                                       11   \n",
       "\n",
       "product_id        0aabfb375647d9738ad0f7b4ea3653b1  \\\n",
       "purchase_weekday                                     \n",
       "Friday                                          13   \n",
       "Monday                                          27   \n",
       "Saturday                                        13   \n",
       "Sunday                                          18   \n",
       "Thursday                                        24   \n",
       "Tuesday                                         28   \n",
       "Wednesday                                       17   \n",
       "\n",
       "product_id        0bcc3eeca39e1064258aa1e932269894  \\\n",
       "purchase_weekday                                     \n",
       "Friday                                          19   \n",
       "Monday                                          21   \n",
       "Saturday                                        16   \n",
       "Sunday                                           7   \n",
       "Thursday                                        14   \n",
       "Tuesday                                         15   \n",
       "Wednesday                                       23   \n",
       "\n",
       "product_id        0d85c435fd60b277ffb9e9b0f88f927a  \\\n",
       "purchase_weekday                                     \n",
       "Friday                                          11   \n",
       "Monday                                          12   \n",
       "Saturday                                         6   \n",
       "Sunday                                           9   \n",
       "Thursday                                         9   \n",
       "Tuesday                                         15   \n",
       "Wednesday                                        9   \n",
       "\n",
       "product_id        11875b30b49585209e608f40e8082e65  ...  \\\n",
       "purchase_weekday                                    ...   \n",
       "Friday                                           9  ...   \n",
       "Monday                                          11  ...   \n",
       "Saturday                                         5  ...   \n",
       "Sunday                                           7  ...   \n",
       "Thursday                                        12  ...   \n",
       "Tuesday                                         14  ...   \n",
       "Wednesday                                        7  ...   \n",
       "\n",
       "product_id        f35927953ed82e19d06ad3aac2f06353  \\\n",
       "purchase_weekday                                     \n",
       "Friday                                          10   \n",
       "Monday                                          11   \n",
       "Saturday                                         3   \n",
       "Sunday                                           4   \n",
       "Thursday                                         4   \n",
       "Tuesday                                         14   \n",
       "Wednesday                                       11   \n",
       "\n",
       "product_id        f40876e0ef3cd5f9132b1f16b04b1346  \\\n",
       "purchase_weekday                                     \n",
       "Friday                                           6   \n",
       "Monday                                          11   \n",
       "Saturday                                         4   \n",
       "Sunday                                           8   \n",
       "Thursday                                         6   \n",
       "Tuesday                                         10   \n",
       "Wednesday                                       10   \n",
       "\n",
       "product_id        f4f67ccaece962d013a4e1d7dc3a61f7  \\\n",
       "purchase_weekday                                     \n",
       "Friday                                          14   \n",
       "Monday                                           6   \n",
       "Saturday                                         8   \n",
       "Sunday                                           3   \n",
       "Thursday                                         6   \n",
       "Tuesday                                         14   \n",
       "Wednesday                                        5   \n",
       "\n",
       "product_id        f71973c922ccaab05514a36a8bc741b8  \\\n",
       "purchase_weekday                                     \n",
       "Friday                                          10   \n",
       "Monday                                          13   \n",
       "Saturday                                         8   \n",
       "Sunday                                           8   \n",
       "Thursday                                         6   \n",
       "Tuesday                                         12   \n",
       "Wednesday                                        6   \n",
       "\n",
       "product_id        f71f42e2381752836563b70beb542f80  \\\n",
       "purchase_weekday                                     \n",
       "Friday                                          12   \n",
       "Monday                                           4   \n",
       "Saturday                                         8   \n",
       "Sunday                                           4   \n",
       "Thursday                                        13   \n",
       "Tuesday                                          8   \n",
       "Wednesday                                        5   \n",
       "\n",
       "product_id        f7a17d2c51d9df89a4f1711c4ac17f33  \\\n",
       "purchase_weekday                                     \n",
       "Friday                                          10   \n",
       "Monday                                           9   \n",
       "Saturday                                         7   \n",
       "Sunday                                           8   \n",
       "Thursday                                         6   \n",
       "Tuesday                                         14   \n",
       "Wednesday                                        8   \n",
       "\n",
       "product_id        fb55982be901439613a95940feefd9ee  \\\n",
       "purchase_weekday                                     \n",
       "Friday                                          14   \n",
       "Monday                                          17   \n",
       "Saturday                                        11   \n",
       "Sunday                                           6   \n",
       "Thursday                                        14   \n",
       "Tuesday                                         11   \n",
       "Wednesday                                       11   \n",
       "\n",
       "product_id        fbc1488c1a1e72ba175f53ab29a248e8  \\\n",
       "purchase_weekday                                     \n",
       "Friday                                          11   \n",
       "Monday                                          10   \n",
       "Saturday                                        11   \n",
       "Sunday                                           7   \n",
       "Thursday                                         5   \n",
       "Tuesday                                          5   \n",
       "Wednesday                                        9   \n",
       "\n",
       "product_id        fbce4c4cb307679d89a3bf3d3bb353b9  \\\n",
       "purchase_weekday                                     \n",
       "Friday                                           3   \n",
       "Monday                                           3   \n",
       "Saturday                                        11   \n",
       "Sunday                                           6   \n",
       "Thursday                                        11   \n",
       "Tuesday                                         12   \n",
       "Wednesday                                       14   \n",
       "\n",
       "product_id        fc1d8637c0268af3db482c14b7ef8e75  \n",
       "purchase_weekday                                    \n",
       "Friday                                           2  \n",
       "Monday                                          10  \n",
       "Saturday                                         5  \n",
       "Sunday                                           9  \n",
       "Thursday                                        11  \n",
       "Tuesday                                         12  \n",
       "Wednesday                                        7  \n",
       "\n",
       "[7 rows x 160 columns]"
      ]
     },
     "execution_count": 87,
     "metadata": {},
     "output_type": "execute_result"
    }
   ],
   "source": [
    "weekday_freq_pivot"
   ]
  },
  {
   "cell_type": "markdown",
   "metadata": {},
   "source": [
    "📅 **Ответ**  *(без учета статистической значимости разницы популярности дней недели у товаров, т.е. при 5 покупках в пятницу и 6 покупках в субботу в ответ пойдет суббота)*"
   ]
  },
  {
   "cell_type": "code",
   "execution_count": 88,
   "metadata": {},
   "outputs": [
    {
     "data": {
      "text/html": [
       "<div>\n",
       "<style scoped>\n",
       "    .dataframe tbody tr th:only-of-type {\n",
       "        vertical-align: middle;\n",
       "    }\n",
       "\n",
       "    .dataframe tbody tr th {\n",
       "        vertical-align: top;\n",
       "    }\n",
       "\n",
       "    .dataframe thead th {\n",
       "        text-align: right;\n",
       "    }\n",
       "</style>\n",
       "<table border=\"1\" class=\"dataframe\">\n",
       "  <thead>\n",
       "    <tr style=\"text-align: right;\">\n",
       "      <th></th>\n",
       "      <th>product_id</th>\n",
       "      <th>most_freq_weekday</th>\n",
       "    </tr>\n",
       "  </thead>\n",
       "  <tbody>\n",
       "    <tr>\n",
       "      <th>0</th>\n",
       "      <td>0152f69b6cf919bcdaf117aa8c43e5a2</td>\n",
       "      <td>Wednesday</td>\n",
       "    </tr>\n",
       "    <tr>\n",
       "      <th>1</th>\n",
       "      <td>054515fd15bc1a2029f10de97ffa9120</td>\n",
       "      <td>Wednesday</td>\n",
       "    </tr>\n",
       "    <tr>\n",
       "      <th>2</th>\n",
       "      <td>06c6e01186af8b98ee1fc9e01f9471e9</td>\n",
       "      <td>Thursday</td>\n",
       "    </tr>\n",
       "    <tr>\n",
       "      <th>3</th>\n",
       "      <td>06edb72f1e0c64b14c5b79353f7abea3</td>\n",
       "      <td>Tuesday</td>\n",
       "    </tr>\n",
       "    <tr>\n",
       "      <th>4</th>\n",
       "      <td>08574b074924071f4e201e151b152b4e</td>\n",
       "      <td>Monday</td>\n",
       "    </tr>\n",
       "    <tr>\n",
       "      <th>...</th>\n",
       "      <td>...</td>\n",
       "      <td>...</td>\n",
       "    </tr>\n",
       "    <tr>\n",
       "      <th>155</th>\n",
       "      <td>f7a17d2c51d9df89a4f1711c4ac17f33</td>\n",
       "      <td>Tuesday</td>\n",
       "    </tr>\n",
       "    <tr>\n",
       "      <th>156</th>\n",
       "      <td>fb55982be901439613a95940feefd9ee</td>\n",
       "      <td>Monday</td>\n",
       "    </tr>\n",
       "    <tr>\n",
       "      <th>157</th>\n",
       "      <td>fbc1488c1a1e72ba175f53ab29a248e8</td>\n",
       "      <td>Friday</td>\n",
       "    </tr>\n",
       "    <tr>\n",
       "      <th>158</th>\n",
       "      <td>fbce4c4cb307679d89a3bf3d3bb353b9</td>\n",
       "      <td>Wednesday</td>\n",
       "    </tr>\n",
       "    <tr>\n",
       "      <th>159</th>\n",
       "      <td>fc1d8637c0268af3db482c14b7ef8e75</td>\n",
       "      <td>Tuesday</td>\n",
       "    </tr>\n",
       "  </tbody>\n",
       "</table>\n",
       "<p>160 rows × 2 columns</p>\n",
       "</div>"
      ],
      "text/plain": [
       "                           product_id most_freq_weekday\n",
       "0    0152f69b6cf919bcdaf117aa8c43e5a2         Wednesday\n",
       "1    054515fd15bc1a2029f10de97ffa9120         Wednesday\n",
       "2    06c6e01186af8b98ee1fc9e01f9471e9          Thursday\n",
       "3    06edb72f1e0c64b14c5b79353f7abea3           Tuesday\n",
       "4    08574b074924071f4e201e151b152b4e            Monday\n",
       "..                                ...               ...\n",
       "155  f7a17d2c51d9df89a4f1711c4ac17f33           Tuesday\n",
       "156  fb55982be901439613a95940feefd9ee            Monday\n",
       "157  fbc1488c1a1e72ba175f53ab29a248e8            Friday\n",
       "158  fbce4c4cb307679d89a3bf3d3bb353b9         Wednesday\n",
       "159  fc1d8637c0268af3db482c14b7ef8e75           Tuesday\n",
       "\n",
       "[160 rows x 2 columns]"
      ]
     },
     "execution_count": 88,
     "metadata": {},
     "output_type": "execute_result"
    }
   ],
   "source": [
    "weekday_freq_df = pd.DataFrame(weekday_freq_pivot.idxmax()).reset_index().rename(columns = {0:'most_freq_weekday'})\n",
    "weekday_freq_df"
   ]
  },
  {
   "cell_type": "markdown",
   "metadata": {},
   "source": [
    "---\n",
    "**4.Сколько у каждого из пользователей в среднем покупок в неделю (по месяцам)? Учесть, что внутри месяца может быть не целое количество недель (в ноябре 2021 года 4,28 недели).**\n",
    "\n",
    "К этой задаче лучше подойти с учетом того, сколько товаров покупал каждый пользователь в рамках заказа. Для этого создадим датасет `pmi_customers_df`.\n",
    "\n",
    "Таким образом, от нас требуется по каждому пользователю посчитать, сколько покупок он совершил в каждом месяце, когда он был активен, если бы он покупал каждую неделю этого месяца. С учетом того, что большинство пользователей совершили лишь 1 покупку, наша метрика будет для большинства пользователей дробным числом: например, за месяц Х покупатель совершил 0,25 покупки в неделю."
   ]
  },
  {
   "cell_type": "code",
   "execution_count": 89,
   "metadata": {
    "scrolled": false
   },
   "outputs": [
    {
     "data": {
      "text/plain": [
       "(109185, 24)"
      ]
     },
     "execution_count": 89,
     "metadata": {},
     "output_type": "execute_result"
    }
   ],
   "source": [
    "# purchases_marketing_items + customers_df = pmi_customers_df\n",
    "pmi_customers_df = purchases_marketing_items.merge(customers_df, on = 'customer_id', how = 'inner')\n",
    "pmi_customers_df.shape"
   ]
  },
  {
   "cell_type": "markdown",
   "metadata": {},
   "source": [
    "Для решения задачи посчитаем, сколько каждый пользователь купил товаров в каждом месяце, и поделим на количество недель в этом месяце. \n",
    "С учетом, что в месяце могут встречаться неполные недели (например, начинается месяц в воскресенье, заканчивается во вторник, таким образом в месяц попадают 2 неполные недели), при определении количества недель в месяце можно поступить двумя разными способами:\n",
    "1. Учитывать неполные недели как полные: даже если месяц начался в воскресенье, и закончился во вторник, в месяц войдут обе эти недели, и таким образом в месяце может оказаться 6 недель.\n",
    "2. Считать количество недель в месяце дробным числом, т.е. все дни из неполных недель учитываются в дробной части количества недель.\n",
    "\n",
    "Более логичным представляется второй способ: так число недель в году не задвоится, а число покупок в неделю не будет казаться искусственно заниженным.\n",
    "\n",
    "Создадим колонки с указанием месяца совершенной покупки и количества дней в этом месяце."
   ]
  },
  {
   "cell_type": "code",
   "execution_count": 90,
   "metadata": {},
   "outputs": [
    {
     "data": {
      "text/html": [
       "<div>\n",
       "<style scoped>\n",
       "    .dataframe tbody tr th:only-of-type {\n",
       "        vertical-align: middle;\n",
       "    }\n",
       "\n",
       "    .dataframe tbody tr th {\n",
       "        vertical-align: top;\n",
       "    }\n",
       "\n",
       "    .dataframe thead th {\n",
       "        text-align: right;\n",
       "    }\n",
       "</style>\n",
       "<table border=\"1\" class=\"dataframe\">\n",
       "  <thead>\n",
       "    <tr style=\"text-align: right;\">\n",
       "      <th></th>\n",
       "      <th>customer_unique_id</th>\n",
       "      <th>order_id</th>\n",
       "      <th>year_month</th>\n",
       "      <th>weeks_in_month</th>\n",
       "    </tr>\n",
       "  </thead>\n",
       "  <tbody>\n",
       "    <tr>\n",
       "      <th>0</th>\n",
       "      <td>7c396fd4830fd04220f754e42b4e5bff</td>\n",
       "      <td>e481f51cbdc54678b7cc49136f2d6af7</td>\n",
       "      <td>2017/10</td>\n",
       "      <td>4.428571</td>\n",
       "    </tr>\n",
       "    <tr>\n",
       "      <th>1</th>\n",
       "      <td>af07308b275d755c9edb36a90c618231</td>\n",
       "      <td>53cdb2fc8bc7dce0b6741e2150273451</td>\n",
       "      <td>2018/07</td>\n",
       "      <td>4.428571</td>\n",
       "    </tr>\n",
       "    <tr>\n",
       "      <th>2</th>\n",
       "      <td>3a653a41f6f9fc3d2a113cf8398680e8</td>\n",
       "      <td>47770eb9100c2d0c44946d9cf07ec65d</td>\n",
       "      <td>2018/08</td>\n",
       "      <td>4.428571</td>\n",
       "    </tr>\n",
       "    <tr>\n",
       "      <th>3</th>\n",
       "      <td>7c142cf63193a1473d2e66489a9ae977</td>\n",
       "      <td>949d5b44dbf5de918fe9c16f97b45f8a</td>\n",
       "      <td>2017/11</td>\n",
       "      <td>4.285714</td>\n",
       "    </tr>\n",
       "    <tr>\n",
       "      <th>4</th>\n",
       "      <td>72632f0f9dd73dfee390c9b22eb56dd6</td>\n",
       "      <td>ad21c59c0840e6cb83a9ceb5573f8159</td>\n",
       "      <td>2018/02</td>\n",
       "      <td>4.000000</td>\n",
       "    </tr>\n",
       "  </tbody>\n",
       "</table>\n",
       "</div>"
      ],
      "text/plain": [
       "                 customer_unique_id                          order_id  \\\n",
       "0  7c396fd4830fd04220f754e42b4e5bff  e481f51cbdc54678b7cc49136f2d6af7   \n",
       "1  af07308b275d755c9edb36a90c618231  53cdb2fc8bc7dce0b6741e2150273451   \n",
       "2  3a653a41f6f9fc3d2a113cf8398680e8  47770eb9100c2d0c44946d9cf07ec65d   \n",
       "3  7c142cf63193a1473d2e66489a9ae977  949d5b44dbf5de918fe9c16f97b45f8a   \n",
       "4  72632f0f9dd73dfee390c9b22eb56dd6  ad21c59c0840e6cb83a9ceb5573f8159   \n",
       "\n",
       "  year_month  weeks_in_month  \n",
       "0    2017/10        4.428571  \n",
       "1    2018/07        4.428571  \n",
       "2    2018/08        4.428571  \n",
       "3    2017/11        4.285714  \n",
       "4    2018/02        4.000000  "
      ]
     },
     "execution_count": 90,
     "metadata": {},
     "output_type": "execute_result"
    }
   ],
   "source": [
    "pmi_customers_df['year_month'] = pmi_customers_df.order_purchase_timestamp.dt.strftime('%Y/%m')\n",
    "pmi_customers_df['weeks_in_month'] = (pmi_customers_df['order_purchase_timestamp'].dt.daysinmonth) / 7\n",
    "pmi_customers_df[['customer_unique_id','order_id','year_month','weeks_in_month']].head()"
   ]
  },
  {
   "cell_type": "code",
   "execution_count": 91,
   "metadata": {
    "scrolled": true
   },
   "outputs": [
    {
     "data": {
      "text/html": [
       "<div>\n",
       "<style scoped>\n",
       "    .dataframe tbody tr th:only-of-type {\n",
       "        vertical-align: middle;\n",
       "    }\n",
       "\n",
       "    .dataframe tbody tr th {\n",
       "        vertical-align: top;\n",
       "    }\n",
       "\n",
       "    .dataframe thead th {\n",
       "        text-align: right;\n",
       "    }\n",
       "</style>\n",
       "<table border=\"1\" class=\"dataframe\">\n",
       "  <thead>\n",
       "    <tr style=\"text-align: right;\">\n",
       "      <th></th>\n",
       "      <th>customer_unique_id</th>\n",
       "      <th>year_month</th>\n",
       "      <th>weeks_in_month</th>\n",
       "      <th>purchases_count</th>\n",
       "    </tr>\n",
       "  </thead>\n",
       "  <tbody>\n",
       "    <tr>\n",
       "      <th>73879</th>\n",
       "      <td>c8460e4251689ba205045f3ea17884a1</td>\n",
       "      <td>2018/08</td>\n",
       "      <td>4.428571</td>\n",
       "      <td>24</td>\n",
       "    </tr>\n",
       "    <tr>\n",
       "      <th>25551</th>\n",
       "      <td>4546caea018ad8c692964e3382debd19</td>\n",
       "      <td>2017/07</td>\n",
       "      <td>4.428571</td>\n",
       "      <td>21</td>\n",
       "    </tr>\n",
       "    <tr>\n",
       "      <th>72308</th>\n",
       "      <td>c402f431464c72e27330a67f7b94d4fb</td>\n",
       "      <td>2018/02</td>\n",
       "      <td>4.000000</td>\n",
       "      <td>20</td>\n",
       "    </tr>\n",
       "    <tr>\n",
       "      <th>38954</th>\n",
       "      <td>698e1cf81d01a3d389d96145f7fa6df8</td>\n",
       "      <td>2017/08</td>\n",
       "      <td>4.428571</td>\n",
       "      <td>20</td>\n",
       "    </tr>\n",
       "    <tr>\n",
       "      <th>5677</th>\n",
       "      <td>0f5ac8d5c31de21d2f25e24be15bbffb</td>\n",
       "      <td>2017/11</td>\n",
       "      <td>4.285714</td>\n",
       "      <td>18</td>\n",
       "    </tr>\n",
       "  </tbody>\n",
       "</table>\n",
       "</div>"
      ],
      "text/plain": [
       "                     customer_unique_id year_month  weeks_in_month  \\\n",
       "73879  c8460e4251689ba205045f3ea17884a1    2018/08        4.428571   \n",
       "25551  4546caea018ad8c692964e3382debd19    2017/07        4.428571   \n",
       "72308  c402f431464c72e27330a67f7b94d4fb    2018/02        4.000000   \n",
       "38954  698e1cf81d01a3d389d96145f7fa6df8    2017/08        4.428571   \n",
       "5677   0f5ac8d5c31de21d2f25e24be15bbffb    2017/11        4.285714   \n",
       "\n",
       "       purchases_count  \n",
       "73879               24  \n",
       "25551               21  \n",
       "72308               20  \n",
       "38954               20  \n",
       "5677                18  "
      ]
     },
     "execution_count": 91,
     "metadata": {},
     "output_type": "execute_result"
    }
   ],
   "source": [
    "purchases_by_users_pmi = pmi_customers_df.groupby(['customer_unique_id','year_month', 'weeks_in_month'], as_index = False) \\\n",
    "    .agg({'order_id':'count'}) \\\n",
    "    .rename(columns = {'order_id':'purchases_count'})\n",
    "purchases_by_users_pmi = purchases_by_users_pmi.sort_values(by = 'purchases_count', ascending = False)\n",
    "purchases_by_users_pmi.head()"
   ]
  },
  {
   "cell_type": "code",
   "execution_count": 92,
   "metadata": {},
   "outputs": [],
   "source": [
    "purchases_by_users_pmi['purchases_by_week'] = purchases_by_users_pmi.purchases_count / purchases_by_users_pmi.weeks_in_month"
   ]
  },
  {
   "cell_type": "markdown",
   "metadata": {},
   "source": [
    "**💰 Ответ**.\n",
    "\n",
    "Можно сказать, что если бы пользователь с наибольшим средним числом покупок в неделю покупал равномерно в течение месяца, он бы совершал 5,4 покупки в неделю в этом месяце (авг 2018)."
   ]
  },
  {
   "cell_type": "code",
   "execution_count": 93,
   "metadata": {},
   "outputs": [
    {
     "data": {
      "text/html": [
       "<div>\n",
       "<style scoped>\n",
       "    .dataframe tbody tr th:only-of-type {\n",
       "        vertical-align: middle;\n",
       "    }\n",
       "\n",
       "    .dataframe tbody tr th {\n",
       "        vertical-align: top;\n",
       "    }\n",
       "\n",
       "    .dataframe thead th {\n",
       "        text-align: right;\n",
       "    }\n",
       "</style>\n",
       "<table border=\"1\" class=\"dataframe\">\n",
       "  <thead>\n",
       "    <tr style=\"text-align: right;\">\n",
       "      <th></th>\n",
       "      <th>customer_unique_id</th>\n",
       "      <th>year_month</th>\n",
       "      <th>purchases_by_week</th>\n",
       "    </tr>\n",
       "  </thead>\n",
       "  <tbody>\n",
       "    <tr>\n",
       "      <th>73879</th>\n",
       "      <td>c8460e4251689ba205045f3ea17884a1</td>\n",
       "      <td>2018/08</td>\n",
       "      <td>5.419355</td>\n",
       "    </tr>\n",
       "    <tr>\n",
       "      <th>25551</th>\n",
       "      <td>4546caea018ad8c692964e3382debd19</td>\n",
       "      <td>2017/07</td>\n",
       "      <td>4.741935</td>\n",
       "    </tr>\n",
       "    <tr>\n",
       "      <th>72308</th>\n",
       "      <td>c402f431464c72e27330a67f7b94d4fb</td>\n",
       "      <td>2018/02</td>\n",
       "      <td>5.000000</td>\n",
       "    </tr>\n",
       "    <tr>\n",
       "      <th>38954</th>\n",
       "      <td>698e1cf81d01a3d389d96145f7fa6df8</td>\n",
       "      <td>2017/08</td>\n",
       "      <td>4.516129</td>\n",
       "    </tr>\n",
       "    <tr>\n",
       "      <th>5677</th>\n",
       "      <td>0f5ac8d5c31de21d2f25e24be15bbffb</td>\n",
       "      <td>2017/11</td>\n",
       "      <td>4.200000</td>\n",
       "    </tr>\n",
       "    <tr>\n",
       "      <th>...</th>\n",
       "      <td>...</td>\n",
       "      <td>...</td>\n",
       "      <td>...</td>\n",
       "    </tr>\n",
       "    <tr>\n",
       "      <th>33224</th>\n",
       "      <td>59e6feff6b7bdc0b1b875e377e4acce0</td>\n",
       "      <td>2018/06</td>\n",
       "      <td>0.233333</td>\n",
       "    </tr>\n",
       "    <tr>\n",
       "      <th>33223</th>\n",
       "      <td>59e66c94d154429f52f83540f49d2e28</td>\n",
       "      <td>2017/11</td>\n",
       "      <td>0.233333</td>\n",
       "    </tr>\n",
       "    <tr>\n",
       "      <th>33221</th>\n",
       "      <td>59e48acde78e7f413acac918d1d07001</td>\n",
       "      <td>2017/09</td>\n",
       "      <td>0.233333</td>\n",
       "    </tr>\n",
       "    <tr>\n",
       "      <th>33220</th>\n",
       "      <td>59e1e2b60e539a256e9ae81b4d4ef2e8</td>\n",
       "      <td>2017/07</td>\n",
       "      <td>0.225806</td>\n",
       "    </tr>\n",
       "    <tr>\n",
       "      <th>94356</th>\n",
       "      <td>ffffd2657e2aad2907e67c3e9daecbeb</td>\n",
       "      <td>2017/05</td>\n",
       "      <td>0.225806</td>\n",
       "    </tr>\n",
       "  </tbody>\n",
       "</table>\n",
       "<p>94357 rows × 3 columns</p>\n",
       "</div>"
      ],
      "text/plain": [
       "                     customer_unique_id year_month  purchases_by_week\n",
       "73879  c8460e4251689ba205045f3ea17884a1    2018/08           5.419355\n",
       "25551  4546caea018ad8c692964e3382debd19    2017/07           4.741935\n",
       "72308  c402f431464c72e27330a67f7b94d4fb    2018/02           5.000000\n",
       "38954  698e1cf81d01a3d389d96145f7fa6df8    2017/08           4.516129\n",
       "5677   0f5ac8d5c31de21d2f25e24be15bbffb    2017/11           4.200000\n",
       "...                                 ...        ...                ...\n",
       "33224  59e6feff6b7bdc0b1b875e377e4acce0    2018/06           0.233333\n",
       "33223  59e66c94d154429f52f83540f49d2e28    2017/11           0.233333\n",
       "33221  59e48acde78e7f413acac918d1d07001    2017/09           0.233333\n",
       "33220  59e1e2b60e539a256e9ae81b4d4ef2e8    2017/07           0.225806\n",
       "94356  ffffd2657e2aad2907e67c3e9daecbeb    2017/05           0.225806\n",
       "\n",
       "[94357 rows x 3 columns]"
      ]
     },
     "execution_count": 93,
     "metadata": {},
     "output_type": "execute_result"
    }
   ],
   "source": [
    "purchases_by_users_pmi[['customer_unique_id','year_month','purchases_by_week']]"
   ]
  },
  {
   "cell_type": "markdown",
   "metadata": {},
   "source": [
    "---\n",
    "**5. Провести когортный анализ пользователей. Какая когорта в период с января по декабрь имела самый высокий retention на 3й месяц?** 👥\n",
    "\n",
    "**Когортный анализ** заключается в разделении пользователей на группы (когорты) в зависимости от даты какого-то значимого события, которое произошло с этими пользователями, и сравнительном анализе поведения когорт во времени на основе различных метрик. Нам нужно проанализировать метрику **Retention rate** — коэффициент удержания пользователей. \n",
    "\n",
    "* В качестве критерия объединения в когорты логично взять месяц создания первого заказа — момент превращения в клиента компании.\n",
    "* В этом кейсе будем рассматривать только целые заказы, а не отдельные товары, т.к. если клиент заказал хотя бы 1 товар после первой покупки, его можно считать активным (`retained`). \n",
    "* Для анализа повторных покупок нам понадобится уникальный id пользователя, поэтому нам нужен объединенный датасет `pmo_customers_df`.\n",
    "* В качества периода для когортного анализа нам нужно взять январь-декабрь, т.е. нас интересуют когорты, формировавшиеся с января по декабрь. Поскольку в датасетах мы имеем данные за сентябрь-октябрь 2016 — сентябрь-октябрь 2018, возьмем январь 2017 года в качестве начала наблюдений. С верхней границей когортного анализа разберемся, когда найдем месяц первой покупки каждого пользователя."
   ]
  },
  {
   "cell_type": "code",
   "execution_count": 94,
   "metadata": {
    "scrolled": false
   },
   "outputs": [],
   "source": [
    "cohort_data = pmo_customers_df.query('order_purchase_timestamp >= \"2017-01-01 00:00:00\"')"
   ]
  },
  {
   "cell_type": "markdown",
   "metadata": {},
   "source": [
    "Создаем в этом датасете колонки с датами в формате год-месяц:\n",
    "1. Дата данного заказа `order_month`\n",
    "2. Дата первого заказа этого уникального пользователя `first_month`"
   ]
  },
  {
   "cell_type": "code",
   "execution_count": 95,
   "metadata": {},
   "outputs": [],
   "source": [
    "cohort_data['order_month'] = cohort_data.order_purchase_timestamp.dt.strftime('%Y/%m')"
   ]
  },
  {
   "cell_type": "markdown",
   "metadata": {},
   "source": [
    "Колонку с первым заказом пользователя создадим способом \"self-join\" — примерджим колонку с нужными данными к самой себе по `customer_unique_id`. "
   ]
  },
  {
   "cell_type": "code",
   "execution_count": 96,
   "metadata": {},
   "outputs": [],
   "source": [
    "cohort_data = cohort_data.merge(cohort_data.groupby('customer_unique_id').order_purchase_timestamp.min(),\n",
    "                                on='customer_unique_id',\n",
    "                                suffixes=('', '_first_month')) \\\n",
    "    .rename(columns = {'order_purchase_timestamp_first_month':'first_month'})\n",
    "cohort_data.first_month = cohort_data.first_month.dt.strftime('%Y/%m')"
   ]
  },
  {
   "cell_type": "markdown",
   "metadata": {},
   "source": [
    "Так как нам нужны когорты, формировавшиеся с января по декабрь, мы можем оставить только `first_month` до декабря 2017 года включительно."
   ]
  },
  {
   "cell_type": "code",
   "execution_count": 97,
   "metadata": {},
   "outputs": [],
   "source": [
    "cohort_data = cohort_data.query('first_month <= \"2017/12\"')"
   ]
  },
  {
   "cell_type": "markdown",
   "metadata": {},
   "source": [
    "Составим сводную таблицу, показывающую, сколько уникальных пользователей той или иной когорты совершают покупки в последующие месяцы."
   ]
  },
  {
   "cell_type": "code",
   "execution_count": 98,
   "metadata": {},
   "outputs": [],
   "source": [
    "cohorts = cohort_data.pivot_table(\n",
    "    index = 'first_month', \n",
    "    columns = 'order_month', \n",
    "    values = 'customer_unique_id', \n",
    "    aggfunc='nunique')"
   ]
  },
  {
   "cell_type": "markdown",
   "metadata": {},
   "source": [
    "Для красоты и простоты восприятия сделаем из нее heatmap."
   ]
  },
  {
   "cell_type": "code",
   "execution_count": 99,
   "metadata": {
    "scrolled": false
   },
   "outputs": [
    {
     "data": {
      "image/png": "[encoded data removed]",
      "text/plain": [
       "<Figure size 1008x504 with 2 Axes>"
      ]
     },
     "metadata": {},
     "output_type": "display_data"
    }
   ],
   "source": [
    "plt.figure(figsize=(14, 7)) # рисуем табличку\n",
    "\n",
    "sns.heatmap(\n",
    "    cohorts,# какую табличку отображаем\n",
    "    annot=True,# показываем цифры \n",
    "    fmt='.0f',# не показываем дробные значения, показываем целые\n",
    "    linewidths=1, # толщина линий\n",
    "    linecolor='black', # цвет линий\n",
    "    cmap=\"YlGnBu\"# цвет\n",
    ");"
   ]
  },
  {
   "cell_type": "markdown",
   "metadata": {},
   "source": [
    "По абсолютным значениям видно, что в ноябре 2017 года присоединилось больше всего пользователей, а в январе 2017 — меньше всего.\n",
    "\n",
    "---\n",
    "\n",
    "Расчитаем **retention rate** по каждому месяцу как процент уникальных пользователей когорты, совершавших покупки в каждом месяце, от изначального числа пользователей в когорте."
   ]
  },
  {
   "cell_type": "code",
   "execution_count": 100,
   "metadata": {},
   "outputs": [],
   "source": [
    "cohorts_retention_rate = cohorts\n",
    "\n",
    "# .values переводит df в numpy\n",
    "# np.diagonal() - это метод numpy, который возвращает главную диагональ в виде 1d array (численность каждой когорты)\n",
    "cohorts_sizes = cohorts_retention_rate.values.diagonal() \n",
    "\n",
    "# одновременно перебираем значения массива s (численность каждой когорты) и строки cohorts_retention_rate\n",
    "for s, row in zip(cohorts_sizes, cohorts_retention_rate):\n",
    "    cohorts_retention_rate.loc[row] = (cohorts_retention_rate.loc[row]/s) "
   ]
  },
  {
   "cell_type": "code",
   "execution_count": 101,
   "metadata": {},
   "outputs": [
    {
     "data": {
      "image/png": "[encoded data removed]",
      "text/plain": [
       "<Figure size 1440x576 with 2 Axes>"
      ]
     },
     "metadata": {},
     "output_type": "display_data"
    }
   ],
   "source": [
    "# при построении тепловой карты, чтобы главная диагональ со значениями 100% не перетягивала на себя внимание, замаскируем ее\n",
    "# np.eye генерирует nd.array с 1 по главной диагонали и нулями в остальном массиве\n",
    "mask = np.eye(*cohorts_retention_rate.shape)\n",
    "\n",
    "plt.figure(figsize=(20, 8))\n",
    "sns.heatmap(\n",
    "    cohorts_retention_rate,\n",
    "    annot=True,\n",
    "    fmt='.2%',\n",
    "    linewidths=1, \n",
    "    linecolor='black', \n",
    "    cmap=\"YlGnBu\",\n",
    "    mask = mask\n",
    ");"
   ]
  },
  {
   "cell_type": "markdown",
   "metadata": {},
   "source": [
    "Выявим когорту с самым высоким retention rate на 3 месяц. При поиске 3-го по счёту месяца не будем считать месяц создания когорты. Иными словами, для когорты 2017/01 первым месяцем удержания пользователя будем считать февраль, вторым март, третьим апрель.\n",
    "\n",
    "Найдем retention rate с помощью метода diagonal(3), который берет значения в 2D-array по диагонали с указанным отступом."
   ]
  },
  {
   "cell_type": "code",
   "execution_count": 102,
   "metadata": {},
   "outputs": [],
   "source": [
    "third_month_rr = pd.DataFrame(\n",
    "    data = cohorts_retention_rate.values.diagonal(3)*100,\n",
    "    index = cohorts_retention_rate.index,\n",
    "    columns = ['third_month_retention,%'])"
   ]
  },
  {
   "cell_type": "code",
   "execution_count": 103,
   "metadata": {
    "scrolled": true
   },
   "outputs": [
    {
     "data": {
      "image/png": "[encoded data removed]",
      "text/plain": [
       "<Figure size 1440x360 with 1 Axes>"
      ]
     },
     "metadata": {},
     "output_type": "display_data"
    }
   ],
   "source": [
    "sns.barplot(data = third_month_rr, x = cohorts_retention_rate.index, y = 'third_month_retention,%');"
   ]
  },
  {
   "cell_type": "markdown",
   "metadata": {},
   "source": [
    "👥 **Ответ. По графику видно, что самый большой retention rate в третьем месяце наблюдается у когорты 2017/06.**"
   ]
  },
  {
   "cell_type": "markdown",
   "metadata": {},
   "source": [
    "---\n",
    "**6. Провести RFM-сегментацию пользователей. Описать подход к созданию сегментов. Для каждого RFM-сегмента обозначить границы метрик R,F,M.** 👨🏼👩🏻\n",
    "\n",
    "В RFM-анализе обычно берутся следующие метрики: \n",
    "* R — время от последней покупки пользователя до текущей даты, \n",
    "* F — суммарное количество покупок у пользователя за всё время, \n",
    "* M — сумма покупок за всё время. \n",
    "\n",
    "Здесь стоит задача сегментирования пользователей по их покупательской активности, поэтому нам важно учесть разницу между клиентами, заказывавшими лишь 1 товар, и клиентами, заказывавшими много товаров.\n",
    "Нам понадобится как информация об уникальных пользователях, так и товарах в заказе, поэтому нам нужны данные из всех датасетов. Воспользуемся ранее созданным `pmi_customers_df`"
   ]
  },
  {
   "cell_type": "markdown",
   "metadata": {},
   "source": [
    "Посчитаем число дней с каждого заказа до текущей даты (ранее найденной последней даты в датасете). Дальше это поможет нам найти **Recency**, т.е. время от последней покупки пользователя до текущей даты для каждого пользователя."
   ]
  },
  {
   "cell_type": "code",
   "execution_count": 104,
   "metadata": {},
   "outputs": [
    {
     "data": {
      "text/html": [
       "<div>\n",
       "<style scoped>\n",
       "    .dataframe tbody tr th:only-of-type {\n",
       "        vertical-align: middle;\n",
       "    }\n",
       "\n",
       "    .dataframe tbody tr th {\n",
       "        vertical-align: top;\n",
       "    }\n",
       "\n",
       "    .dataframe thead th {\n",
       "        text-align: right;\n",
       "    }\n",
       "</style>\n",
       "<table border=\"1\" class=\"dataframe\">\n",
       "  <thead>\n",
       "    <tr style=\"text-align: right;\">\n",
       "      <th></th>\n",
       "      <th>order_purchase_timestamp</th>\n",
       "      <th>days_since_order</th>\n",
       "    </tr>\n",
       "  </thead>\n",
       "  <tbody>\n",
       "    <tr>\n",
       "      <th>0</th>\n",
       "      <td>2017-10-02 10:56:33</td>\n",
       "      <td>380.273438</td>\n",
       "    </tr>\n",
       "    <tr>\n",
       "      <th>1</th>\n",
       "      <td>2018-07-24 20:41:37</td>\n",
       "      <td>84.867141</td>\n",
       "    </tr>\n",
       "    <tr>\n",
       "      <th>2</th>\n",
       "      <td>2018-08-08 08:38:49</td>\n",
       "      <td>70.369086</td>\n",
       "    </tr>\n",
       "    <tr>\n",
       "      <th>3</th>\n",
       "      <td>2017-11-18 19:28:06</td>\n",
       "      <td>332.918194</td>\n",
       "    </tr>\n",
       "    <tr>\n",
       "      <th>4</th>\n",
       "      <td>2018-02-13 21:18:39</td>\n",
       "      <td>245.841424</td>\n",
       "    </tr>\n",
       "    <tr>\n",
       "      <th>...</th>\n",
       "      <td>...</td>\n",
       "      <td>...</td>\n",
       "    </tr>\n",
       "    <tr>\n",
       "      <th>109180</th>\n",
       "      <td>2018-02-06 12:58:58</td>\n",
       "      <td>253.188426</td>\n",
       "    </tr>\n",
       "    <tr>\n",
       "      <th>109181</th>\n",
       "      <td>2017-08-27 14:46:43</td>\n",
       "      <td>416.113600</td>\n",
       "    </tr>\n",
       "    <tr>\n",
       "      <th>109182</th>\n",
       "      <td>2018-01-08 21:28:27</td>\n",
       "      <td>281.834618</td>\n",
       "    </tr>\n",
       "    <tr>\n",
       "      <th>109183</th>\n",
       "      <td>2018-01-08 21:28:27</td>\n",
       "      <td>281.834618</td>\n",
       "    </tr>\n",
       "    <tr>\n",
       "      <th>109184</th>\n",
       "      <td>2018-03-08 20:57:30</td>\n",
       "      <td>222.856111</td>\n",
       "    </tr>\n",
       "  </tbody>\n",
       "</table>\n",
       "<p>109185 rows × 2 columns</p>\n",
       "</div>"
      ],
      "text/plain": [
       "       order_purchase_timestamp  days_since_order\n",
       "0           2017-10-02 10:56:33        380.273438\n",
       "1           2018-07-24 20:41:37         84.867141\n",
       "2           2018-08-08 08:38:49         70.369086\n",
       "3           2017-11-18 19:28:06        332.918194\n",
       "4           2018-02-13 21:18:39        245.841424\n",
       "...                         ...               ...\n",
       "109180      2018-02-06 12:58:58        253.188426\n",
       "109181      2017-08-27 14:46:43        416.113600\n",
       "109182      2018-01-08 21:28:27        281.834618\n",
       "109183      2018-01-08 21:28:27        281.834618\n",
       "109184      2018-03-08 20:57:30        222.856111\n",
       "\n",
       "[109185 rows x 2 columns]"
      ]
     },
     "execution_count": 104,
     "metadata": {},
     "output_type": "execute_result"
    }
   ],
   "source": [
    "pmi_customers_df['days_since_order'] = (now_date - pmi_customers_df.order_purchase_timestamp) / pd.Timedelta(days=1)\n",
    "pmi_customers_df[['order_purchase_timestamp', 'days_since_order']]"
   ]
  },
  {
   "cell_type": "markdown",
   "metadata": {},
   "source": [
    "Обычно RFM-сегментацию проводят за определенный период (например, год) и считают **Frequency** как количество покупок за этот период. Но мы в качестве **Frequency** возьмем общее количество покупок пользователя за все время, поскольку число пользователей с несколькими заказами, как мы выяснили ранее, в датасете крайне мало и ограничение периода одним годом может еще сильнее его сократить."
   ]
  },
  {
   "cell_type": "code",
   "execution_count": 105,
   "metadata": {
    "scrolled": false
   },
   "outputs": [],
   "source": [
    "# для каждого пользователя находим последнюю покупку и считаем его общее количество покупок за все время\n",
    "rfm_data = pmi_customers_df.groupby('customer_unique_id', as_index=False) \\\n",
    "    .agg({'days_since_order':'min', 'order_id':'count'}) \\\n",
    "    .rename(columns = {'days_since_order':'recency', 'order_id':'frequency'}) \\\n",
    "    .sort_values(by = 'frequency', ascending = False)"
   ]
  },
  {
   "cell_type": "code",
   "execution_count": 106,
   "metadata": {},
   "outputs": [
    {
     "data": {
      "text/html": [
       "<div>\n",
       "<style scoped>\n",
       "    .dataframe tbody tr th:only-of-type {\n",
       "        vertical-align: middle;\n",
       "    }\n",
       "\n",
       "    .dataframe tbody tr th {\n",
       "        vertical-align: top;\n",
       "    }\n",
       "\n",
       "    .dataframe thead th {\n",
       "        text-align: right;\n",
       "    }\n",
       "</style>\n",
       "<table border=\"1\" class=\"dataframe\">\n",
       "  <thead>\n",
       "    <tr style=\"text-align: right;\">\n",
       "      <th></th>\n",
       "      <th>customer_unique_id</th>\n",
       "      <th>recency</th>\n",
       "      <th>frequency</th>\n",
       "    </tr>\n",
       "  </thead>\n",
       "  <tbody>\n",
       "    <tr>\n",
       "      <th>72470</th>\n",
       "      <td>c8460e4251689ba205045f3ea17884a1</td>\n",
       "      <td>70.127118</td>\n",
       "      <td>24</td>\n",
       "    </tr>\n",
       "    <tr>\n",
       "      <th>25070</th>\n",
       "      <td>4546caea018ad8c692964e3382debd19</td>\n",
       "      <td>457.965891</td>\n",
       "      <td>21</td>\n",
       "    </tr>\n",
       "    <tr>\n",
       "      <th>70921</th>\n",
       "      <td>c402f431464c72e27330a67f7b94d4fb</td>\n",
       "      <td>237.083067</td>\n",
       "      <td>20</td>\n",
       "    </tr>\n",
       "    <tr>\n",
       "      <th>38220</th>\n",
       "      <td>698e1cf81d01a3d389d96145f7fa6df8</td>\n",
       "      <td>420.338704</td>\n",
       "      <td>20</td>\n",
       "    </tr>\n",
       "    <tr>\n",
       "      <th>5565</th>\n",
       "      <td>0f5ac8d5c31de21d2f25e24be15bbffb</td>\n",
       "      <td>324.189387</td>\n",
       "      <td>18</td>\n",
       "    </tr>\n",
       "  </tbody>\n",
       "</table>\n",
       "</div>"
      ],
      "text/plain": [
       "                     customer_unique_id     recency  frequency\n",
       "72470  c8460e4251689ba205045f3ea17884a1   70.127118         24\n",
       "25070  4546caea018ad8c692964e3382debd19  457.965891         21\n",
       "70921  c402f431464c72e27330a67f7b94d4fb  237.083067         20\n",
       "38220  698e1cf81d01a3d389d96145f7fa6df8  420.338704         20\n",
       "5565   0f5ac8d5c31de21d2f25e24be15bbffb  324.189387         18"
      ]
     },
     "execution_count": 106,
     "metadata": {},
     "output_type": "execute_result"
    }
   ],
   "source": [
    "rfm_data.head()"
   ]
  },
  {
   "cell_type": "markdown",
   "metadata": {},
   "source": [
    "Примерджим по `customer_unique_id` сгруппированную по уникальным пользователям колонку с суммой всех заказов (**Monetary**) к `rfm_data`:"
   ]
  },
  {
   "cell_type": "code",
   "execution_count": 107,
   "metadata": {},
   "outputs": [],
   "source": [
    "rfm_data = rfm_data.merge(\n",
    "    pmi_customers_df.groupby('customer_unique_id', as_index=False) \\\n",
    "        .agg({'price':'sum'}) \\\n",
    "        .rename(columns = {'price':'monetary'}),\n",
    "    on = 'customer_unique_id',\n",
    "    how = 'inner')"
   ]
  },
  {
   "cell_type": "code",
   "execution_count": 108,
   "metadata": {},
   "outputs": [
    {
     "data": {
      "text/html": [
       "<div>\n",
       "<style scoped>\n",
       "    .dataframe tbody tr th:only-of-type {\n",
       "        vertical-align: middle;\n",
       "    }\n",
       "\n",
       "    .dataframe tbody tr th {\n",
       "        vertical-align: top;\n",
       "    }\n",
       "\n",
       "    .dataframe thead th {\n",
       "        text-align: right;\n",
       "    }\n",
       "</style>\n",
       "<table border=\"1\" class=\"dataframe\">\n",
       "  <thead>\n",
       "    <tr style=\"text-align: right;\">\n",
       "      <th></th>\n",
       "      <th>customer_unique_id</th>\n",
       "      <th>recency</th>\n",
       "      <th>frequency</th>\n",
       "      <th>monetary</th>\n",
       "    </tr>\n",
       "  </thead>\n",
       "  <tbody>\n",
       "    <tr>\n",
       "      <th>0</th>\n",
       "      <td>c8460e4251689ba205045f3ea17884a1</td>\n",
       "      <td>70.127118</td>\n",
       "      <td>24</td>\n",
       "      <td>4080.00</td>\n",
       "    </tr>\n",
       "    <tr>\n",
       "      <th>1</th>\n",
       "      <td>4546caea018ad8c692964e3382debd19</td>\n",
       "      <td>457.965891</td>\n",
       "      <td>21</td>\n",
       "      <td>31.80</td>\n",
       "    </tr>\n",
       "    <tr>\n",
       "      <th>2</th>\n",
       "      <td>c402f431464c72e27330a67f7b94d4fb</td>\n",
       "      <td>237.083067</td>\n",
       "      <td>20</td>\n",
       "      <td>2000.00</td>\n",
       "    </tr>\n",
       "    <tr>\n",
       "      <th>3</th>\n",
       "      <td>698e1cf81d01a3d389d96145f7fa6df8</td>\n",
       "      <td>420.338704</td>\n",
       "      <td>20</td>\n",
       "      <td>1974.00</td>\n",
       "    </tr>\n",
       "    <tr>\n",
       "      <th>4</th>\n",
       "      <td>0f5ac8d5c31de21d2f25e24be15bbffb</td>\n",
       "      <td>324.189387</td>\n",
       "      <td>18</td>\n",
       "      <td>1252.35</td>\n",
       "    </tr>\n",
       "  </tbody>\n",
       "</table>\n",
       "</div>"
      ],
      "text/plain": [
       "                 customer_unique_id     recency  frequency  monetary\n",
       "0  c8460e4251689ba205045f3ea17884a1   70.127118         24   4080.00\n",
       "1  4546caea018ad8c692964e3382debd19  457.965891         21     31.80\n",
       "2  c402f431464c72e27330a67f7b94d4fb  237.083067         20   2000.00\n",
       "3  698e1cf81d01a3d389d96145f7fa6df8  420.338704         20   1974.00\n",
       "4  0f5ac8d5c31de21d2f25e24be15bbffb  324.189387         18   1252.35"
      ]
     },
     "execution_count": 108,
     "metadata": {},
     "output_type": "execute_result"
    }
   ],
   "source": [
    "rfm_data.head()"
   ]
  },
  {
   "cell_type": "markdown",
   "metadata": {},
   "source": [
    "Далее сегментируем всех пользователей в зависимости от их активности по метрикам Recency, Frequency, Monetary. "
   ]
  },
  {
   "cell_type": "code",
   "execution_count": 109,
   "metadata": {
    "scrolled": true
   },
   "outputs": [
    {
     "data": {
      "text/html": [
       "<div>\n",
       "<style scoped>\n",
       "    .dataframe tbody tr th:only-of-type {\n",
       "        vertical-align: middle;\n",
       "    }\n",
       "\n",
       "    .dataframe tbody tr th {\n",
       "        vertical-align: top;\n",
       "    }\n",
       "\n",
       "    .dataframe thead th {\n",
       "        text-align: right;\n",
       "    }\n",
       "</style>\n",
       "<table border=\"1\" class=\"dataframe\">\n",
       "  <thead>\n",
       "    <tr style=\"text-align: right;\">\n",
       "      <th></th>\n",
       "      <th>recency</th>\n",
       "      <th>frequency</th>\n",
       "      <th>monetary</th>\n",
       "    </tr>\n",
       "  </thead>\n",
       "  <tbody>\n",
       "    <tr>\n",
       "      <th>count</th>\n",
       "      <td>92552.000000</td>\n",
       "      <td>92552.000000</td>\n",
       "      <td>92552.000000</td>\n",
       "    </tr>\n",
       "    <tr>\n",
       "      <th>mean</th>\n",
       "      <td>286.557156</td>\n",
       "      <td>1.179715</td>\n",
       "      <td>141.478110</td>\n",
       "    </tr>\n",
       "    <tr>\n",
       "      <th>std</th>\n",
       "      <td>152.223030</td>\n",
       "      <td>0.620150</td>\n",
       "      <td>215.543771</td>\n",
       "    </tr>\n",
       "    <tr>\n",
       "      <th>min</th>\n",
       "      <td>44.349549</td>\n",
       "      <td>1.000000</td>\n",
       "      <td>0.850000</td>\n",
       "    </tr>\n",
       "    <tr>\n",
       "      <th>25%</th>\n",
       "      <td>163.180382</td>\n",
       "      <td>1.000000</td>\n",
       "      <td>47.650000</td>\n",
       "    </tr>\n",
       "    <tr>\n",
       "      <th>50%</th>\n",
       "      <td>267.745046</td>\n",
       "      <td>1.000000</td>\n",
       "      <td>89.660000</td>\n",
       "    </tr>\n",
       "    <tr>\n",
       "      <th>75%</th>\n",
       "      <td>394.779899</td>\n",
       "      <td>1.000000</td>\n",
       "      <td>153.900000</td>\n",
       "    </tr>\n",
       "    <tr>\n",
       "      <th>max</th>\n",
       "      <td>744.023241</td>\n",
       "      <td>24.000000</td>\n",
       "      <td>13440.000000</td>\n",
       "    </tr>\n",
       "  </tbody>\n",
       "</table>\n",
       "</div>"
      ],
      "text/plain": [
       "            recency     frequency      monetary\n",
       "count  92552.000000  92552.000000  92552.000000\n",
       "mean     286.557156      1.179715    141.478110\n",
       "std      152.223030      0.620150    215.543771\n",
       "min       44.349549      1.000000      0.850000\n",
       "25%      163.180382      1.000000     47.650000\n",
       "50%      267.745046      1.000000     89.660000\n",
       "75%      394.779899      1.000000    153.900000\n",
       "max      744.023241     24.000000  13440.000000"
      ]
     },
     "execution_count": 109,
     "metadata": {},
     "output_type": "execute_result"
    }
   ],
   "source": [
    "rfm_data.describe()"
   ]
  },
  {
   "cell_type": "markdown",
   "metadata": {},
   "source": [
    "Можно заметить, что по метрике **Recency** клиенты распределены более-менее равномерно, в то время как по **Frequency** и **Monetary** большая часть клиентов сосредоточена в зонах низких значений и лишь крохотная часть покупателей имеет высокие значения данных метрик."
   ]
  },
  {
   "cell_type": "markdown",
   "metadata": {},
   "source": [
    "По каждой метрике необходимо выбрать диапазоны сегментирования.\n",
    "\n",
    "Существует 3 подхода, как это можно сделать. В таблице ниже приведены примеры диапазонов, которые можно выделить в рамках каждого из подходов.\n",
    "\n",
    "|**Одинаковые диапазоны значений**  | **Одинаковое число клиентов** | **Фикс. диапазоны значений**\n",
    "|---|---         | --- \n",
    "|**Recency** — диапазоны по 100 дней: `[1,101)`;`[101,201)`;`[201,301)`...|Например, по квантилям. **Recency** — диапазоны по 25% клиентов: `[44,164)`;`[164,268)`;`[268,395)`...|**Frequency** — диапазоны исходя из распределения:`[1,2)`;`[2,3)`;`[3,4)`;`[4,24]`...\n",
    "\n",
    "Источник: https://habr.com/ru/post/497356/"
   ]
  },
  {
   "cell_type": "markdown",
   "metadata": {},
   "source": [
    "Чтобы решить, какой подход использовать, изучим распределения более подробно. Построим гистограммы. Для каждой метрики методом подбора найден способ задания диапазонов, отражающий распределение значений наиболее наглядно."
   ]
  },
  {
   "cell_type": "code",
   "execution_count": 110,
   "metadata": {
    "scrolled": false
   },
   "outputs": [
    {
     "data": {
      "image/png": "[encoded data removed]",
      "text/plain": [
       "<Figure size 1440x360 with 3 Axes>"
      ]
     },
     "metadata": {},
     "output_type": "display_data"
    }
   ],
   "source": [
    "plt.rcParams[\"figure.figsize\"] = (20,5)\n",
    "fig, axes = plt.subplots(1, 3)\n",
    "\n",
    "# Recency\n",
    "sns.histplot(ax=axes[0], data = rfm_data.recency, bins = 5)\n",
    "axes[0].set_title('Recency')\n",
    "axes[0].set(xlabel=None)\n",
    "\n",
    "# Frequency\n",
    "sns.histplot(ax=axes[1], data = rfm_data.frequency, binwidth = 1)\n",
    "axes[1].set_title('Frequency')\n",
    "axes[1].set(xlabel=None)\n",
    "\n",
    "# Monetary\n",
    "sns.histplot(ax=axes[2], data = rfm_data.monetary, bins = 500)\n",
    "axes[2].set_title('Monetary')\n",
    "axes[2].set(xlabel=None);"
   ]
  },
  {
   "cell_type": "markdown",
   "metadata": {},
   "source": [
    "Для **Recency** данные хорошо вписываются в 5 одинаковых диапазонов значений. Запишем соответствующие метки клиентов в переменную `recency_classes` с помощью функции `np.histogram_bin_edges`, находящей границы диапазонов, и функции `np.digitize`, которая каждому значению из `rfm_data.recency` поставит в соответствие метку диапазона от 1 до 5. При этом все диапазоны, кроме последнего справа, будут полуоткрытыми. Например, для диапазонов [1, 2, 3, 4] первый диапазон будет `[1, 2)`, но последний будет закрытым: `[3, 4]`.\n",
    "\n",
    "(https://numpy.org/doc/stable/reference/generated/numpy.histogram.html#numpy.histogram)"
   ]
  },
  {
   "cell_type": "code",
   "execution_count": 111,
   "metadata": {
    "scrolled": false
   },
   "outputs": [
    {
     "name": "stdout",
     "output_type": "stream",
     "text": [
      "[[    1 28081]\n",
      " [    2 29566]\n",
      " [    3 20650]\n",
      " [    4 12194]\n",
      " [    5  2061]]\n"
     ]
    }
   ],
   "source": [
    "recency_edges = np.histogram_bin_edges(rfm_data.recency, bins = 5)\n",
    "recency_classes = np.fmin(np.digitize(rfm_data.recency, recency_edges), 5)\n",
    "\n",
    "# количество наблюдений каждого класса\n",
    "unique, counts = np.unique(recency_classes, return_counts=True)\n",
    "print(np.asarray((unique, counts)).T)"
   ]
  },
  {
   "cell_type": "markdown",
   "metadata": {},
   "source": [
    "С **Frequency** и **Monetary** сложнее. Построим для них отдельные графики распределений и найдем подходящие диапазоны для этих метрик.\n",
    "\n",
    "Начнем с **Frequency**. "
   ]
  },
  {
   "cell_type": "code",
   "execution_count": 112,
   "metadata": {
    "scrolled": true
   },
   "outputs": [
    {
     "data": {
      "image/png": "[encoded data removed]",
      "text/plain": [
       "<Figure size 504x288 with 1 Axes>"
      ]
     },
     "metadata": {},
     "output_type": "display_data"
    }
   ],
   "source": [
    "freq_counts = rfm_data.frequency.value_counts().reset_index().rename(columns = {'index':'frequency','frequency':'clients'})\n",
    "\n",
    "plt.rcParams[\"figure.figsize\"] = (7,4)\n",
    "fig, axes = plt.subplots()\n",
    "\n",
    "sns.lineplot(data = freq_counts, x = \"frequency\", y = \"clients\")\n",
    "axes.set_title('Frequency')\n",
    "\n",
    "plt.xticks(freq_counts.frequency);"
   ]
  },
  {
   "cell_type": "markdown",
   "metadata": {},
   "source": [
    "Для **Frequency** наибольшее число клиентов имеют 1 покупку, при переходе к 2 покупкам количество покупателей резко сокращается. Между числом покупок 3, 4 еще можно заметить разницу в числе клиентов, но при значениях метрики в диапазоне`[4;24]` количество клиентов уже практически неразличимо, т.к. крайне близко к нулю. Поскольку для этой метрики небольшое количество уникальных значений, границы диапазонов легко задать вручную. Пусть всего будет 4 диапазона."
   ]
  },
  {
   "cell_type": "code",
   "execution_count": 113,
   "metadata": {
    "scrolled": false
   },
   "outputs": [
    {
     "data": {
      "text/plain": [
       "(array([81085.,  8688.,  1626.,  1153.]),\n",
       " array([ 1.,  2.,  3.,  4., 24.]),\n",
       " <a list of 4 Patch objects>)"
      ]
     },
     "execution_count": 113,
     "metadata": {},
     "output_type": "execute_result"
    },
    {
     "data": {
      "image/png": "[encoded data removed]",
      "text/plain": [
       "<Figure size 504x288 with 1 Axes>"
      ]
     },
     "metadata": {},
     "output_type": "display_data"
    }
   ],
   "source": [
    "freq_edges = np.array([1.0, 2.0, 3.0, 4.0, 24.0])\n",
    "\n",
    "plt.rcParams[\"figure.figsize\"] = (7,4)\n",
    "plt.hist(np.array(rfm_data.frequency), bins=freq_edges)"
   ]
  },
  {
   "cell_type": "code",
   "execution_count": 114,
   "metadata": {},
   "outputs": [
    {
     "name": "stdout",
     "output_type": "stream",
     "text": [
      "[[    1 81085]\n",
      " [    2  8688]\n",
      " [    3  1626]\n",
      " [    4  1153]]\n"
     ]
    }
   ],
   "source": [
    "freqency_classes = np.fmin(np.digitize(rfm_data.frequency, freq_edges), 4)\n",
    "\n",
    "# количество наблюдений каждого класса\n",
    "unique, counts = np.unique(freqency_classes, return_counts=True)\n",
    "print(np.asarray((unique, counts)).T)"
   ]
  },
  {
   "cell_type": "markdown",
   "metadata": {},
   "source": [
    "Теперь с **Monetary**. Уникальных значений здесь гораздо больше, чем во **Frequency**, поэтому выбрать точные границы диапазонов тяжелее. "
   ]
  },
  {
   "cell_type": "code",
   "execution_count": 115,
   "metadata": {
    "scrolled": true
   },
   "outputs": [
    {
     "data": {
      "image/png": "[encoded data removed]",
      "text/plain": [
       "<Figure size 504x288 with 1 Axes>"
      ]
     },
     "metadata": {},
     "output_type": "display_data"
    }
   ],
   "source": [
    "sns.histplot(data = rfm_data.monetary, bins = 1000);"
   ]
  },
  {
   "cell_type": "markdown",
   "metadata": {},
   "source": [
    "Основная часть данных лежит, судя по детальной гистограмме, в пределах 2000 д.е., верхний диапазон обозначим как `[2000;max]`, а данные в пределах 2000 д.е. разобьем на 4 диапазона по квартилям."
   ]
  },
  {
   "cell_type": "code",
   "execution_count": 116,
   "metadata": {},
   "outputs": [],
   "source": [
    "monetary_below_2000 = rfm_data[rfm_data.monetary < 2000].monetary"
   ]
  },
  {
   "cell_type": "code",
   "execution_count": 117,
   "metadata": {},
   "outputs": [],
   "source": [
    "monetary_edges = monetary_below_2000.quantile([0, .25, .5, .75]).values\n",
    "monetary_edges = np.append(monetary_edges, [2000, 13440])"
   ]
  },
  {
   "cell_type": "code",
   "execution_count": 118,
   "metadata": {
    "scrolled": true
   },
   "outputs": [
    {
     "name": "stdout",
     "output_type": "stream",
     "text": [
      "[[    1 23103]\n",
      " [    2 23061]\n",
      " [    3 23144]\n",
      " [    4 23105]\n",
      " [    5   139]]\n"
     ]
    }
   ],
   "source": [
    "monetary_classes = np.fmin(np.digitize(rfm_data.monetary, monetary_edges), 5)\n",
    "\n",
    "# количество наблюдений каждого класса\n",
    "unique, counts = np.unique(monetary_classes, return_counts=True)\n",
    "print(np.asarray((unique, counts)).T)"
   ]
  },
  {
   "cell_type": "markdown",
   "metadata": {},
   "source": [
    "Добавим колонки с обозначением классов клиентов к датафрейму."
   ]
  },
  {
   "cell_type": "code",
   "execution_count": 119,
   "metadata": {},
   "outputs": [],
   "source": [
    "rfm_data['R_class']=pd.Series(recency_classes).astype(str)\n",
    "rfm_data['F_class']=pd.Series(freqency_classes).astype(str)\n",
    "rfm_data['M_class']=pd.Series(monetary_classes).astype(str)"
   ]
  },
  {
   "cell_type": "markdown",
   "metadata": {},
   "source": [
    "Сейчас для метрик F и M у нас нарушена стандартная для RFM-анализа логика выставления меток. У нас получилось так, что чем больше значения по этим метрикам, тем больше значение класса, хотя лучшие клиенты в классическом RFM-анализе имеют значения меток ближе к 1. Необходимо сделать замену значений в столбцах `F_class` и `M_class`."
   ]
  },
  {
   "cell_type": "code",
   "execution_count": 120,
   "metadata": {
    "scrolled": true
   },
   "outputs": [
    {
     "data": {
      "text/html": [
       "<div>\n",
       "<style scoped>\n",
       "    .dataframe tbody tr th:only-of-type {\n",
       "        vertical-align: middle;\n",
       "    }\n",
       "\n",
       "    .dataframe tbody tr th {\n",
       "        vertical-align: top;\n",
       "    }\n",
       "\n",
       "    .dataframe thead th {\n",
       "        text-align: right;\n",
       "    }\n",
       "</style>\n",
       "<table border=\"1\" class=\"dataframe\">\n",
       "  <thead>\n",
       "    <tr style=\"text-align: right;\">\n",
       "      <th></th>\n",
       "      <th>customer_unique_id</th>\n",
       "      <th>recency</th>\n",
       "      <th>frequency</th>\n",
       "      <th>monetary</th>\n",
       "      <th>R_class</th>\n",
       "      <th>F_class</th>\n",
       "      <th>M_class</th>\n",
       "    </tr>\n",
       "  </thead>\n",
       "  <tbody>\n",
       "    <tr>\n",
       "      <th>0</th>\n",
       "      <td>c8460e4251689ba205045f3ea17884a1</td>\n",
       "      <td>70.127118</td>\n",
       "      <td>24</td>\n",
       "      <td>4080.00</td>\n",
       "      <td>1</td>\n",
       "      <td>4</td>\n",
       "      <td>5</td>\n",
       "    </tr>\n",
       "    <tr>\n",
       "      <th>1</th>\n",
       "      <td>4546caea018ad8c692964e3382debd19</td>\n",
       "      <td>457.965891</td>\n",
       "      <td>21</td>\n",
       "      <td>31.80</td>\n",
       "      <td>3</td>\n",
       "      <td>4</td>\n",
       "      <td>1</td>\n",
       "    </tr>\n",
       "    <tr>\n",
       "      <th>2</th>\n",
       "      <td>c402f431464c72e27330a67f7b94d4fb</td>\n",
       "      <td>237.083067</td>\n",
       "      <td>20</td>\n",
       "      <td>2000.00</td>\n",
       "      <td>2</td>\n",
       "      <td>4</td>\n",
       "      <td>5</td>\n",
       "    </tr>\n",
       "    <tr>\n",
       "      <th>3</th>\n",
       "      <td>698e1cf81d01a3d389d96145f7fa6df8</td>\n",
       "      <td>420.338704</td>\n",
       "      <td>20</td>\n",
       "      <td>1974.00</td>\n",
       "      <td>3</td>\n",
       "      <td>4</td>\n",
       "      <td>4</td>\n",
       "    </tr>\n",
       "    <tr>\n",
       "      <th>4</th>\n",
       "      <td>0f5ac8d5c31de21d2f25e24be15bbffb</td>\n",
       "      <td>324.189387</td>\n",
       "      <td>18</td>\n",
       "      <td>1252.35</td>\n",
       "      <td>2</td>\n",
       "      <td>4</td>\n",
       "      <td>4</td>\n",
       "    </tr>\n",
       "    <tr>\n",
       "      <th>92547</th>\n",
       "      <td>5a86385578ed60106d47b031a96b5f62</td>\n",
       "      <td>254.896979</td>\n",
       "      <td>1</td>\n",
       "      <td>120.00</td>\n",
       "      <td>2</td>\n",
       "      <td>1</td>\n",
       "      <td>3</td>\n",
       "    </tr>\n",
       "    <tr>\n",
       "      <th>92548</th>\n",
       "      <td>5a853168709c620a1591b3392823bc24</td>\n",
       "      <td>278.815394</td>\n",
       "      <td>1</td>\n",
       "      <td>39.90</td>\n",
       "      <td>2</td>\n",
       "      <td>1</td>\n",
       "      <td>1</td>\n",
       "    </tr>\n",
       "    <tr>\n",
       "      <th>92549</th>\n",
       "      <td>5a83ed9c112da985d12f9d1a3762008c</td>\n",
       "      <td>96.148947</td>\n",
       "      <td>1</td>\n",
       "      <td>329.00</td>\n",
       "      <td>1</td>\n",
       "      <td>1</td>\n",
       "      <td>4</td>\n",
       "    </tr>\n",
       "    <tr>\n",
       "      <th>92550</th>\n",
       "      <td>5a83824981b849806e4d02b7c7a18950</td>\n",
       "      <td>514.955359</td>\n",
       "      <td>1</td>\n",
       "      <td>52.90</td>\n",
       "      <td>4</td>\n",
       "      <td>1</td>\n",
       "      <td>2</td>\n",
       "    </tr>\n",
       "    <tr>\n",
       "      <th>92551</th>\n",
       "      <td>ffffd2657e2aad2907e67c3e9daecbeb</td>\n",
       "      <td>532.883021</td>\n",
       "      <td>1</td>\n",
       "      <td>56.99</td>\n",
       "      <td>4</td>\n",
       "      <td>1</td>\n",
       "      <td>2</td>\n",
       "    </tr>\n",
       "  </tbody>\n",
       "</table>\n",
       "</div>"
      ],
      "text/plain": [
       "                     customer_unique_id     recency  frequency  monetary  \\\n",
       "0      c8460e4251689ba205045f3ea17884a1   70.127118         24   4080.00   \n",
       "1      4546caea018ad8c692964e3382debd19  457.965891         21     31.80   \n",
       "2      c402f431464c72e27330a67f7b94d4fb  237.083067         20   2000.00   \n",
       "3      698e1cf81d01a3d389d96145f7fa6df8  420.338704         20   1974.00   \n",
       "4      0f5ac8d5c31de21d2f25e24be15bbffb  324.189387         18   1252.35   \n",
       "92547  5a86385578ed60106d47b031a96b5f62  254.896979          1    120.00   \n",
       "92548  5a853168709c620a1591b3392823bc24  278.815394          1     39.90   \n",
       "92549  5a83ed9c112da985d12f9d1a3762008c   96.148947          1    329.00   \n",
       "92550  5a83824981b849806e4d02b7c7a18950  514.955359          1     52.90   \n",
       "92551  ffffd2657e2aad2907e67c3e9daecbeb  532.883021          1     56.99   \n",
       "\n",
       "      R_class F_class M_class  \n",
       "0           1       4       5  \n",
       "1           3       4       1  \n",
       "2           2       4       5  \n",
       "3           3       4       4  \n",
       "4           2       4       4  \n",
       "92547       2       1       3  \n",
       "92548       2       1       1  \n",
       "92549       1       1       4  \n",
       "92550       4       1       2  \n",
       "92551       4       1       2  "
      ]
     },
     "execution_count": 120,
     "metadata": {},
     "output_type": "execute_result"
    }
   ],
   "source": [
    "pd.concat([rfm_data.head(), rfm_data.tail()])"
   ]
  },
  {
   "cell_type": "code",
   "execution_count": 121,
   "metadata": {},
   "outputs": [],
   "source": [
    "rfm_data['F_class'] = rfm_data['F_class'].replace(\n",
    "    to_replace=['4','3','2','1'], \n",
    "    value=['1','2','3','4'])"
   ]
  },
  {
   "cell_type": "code",
   "execution_count": 122,
   "metadata": {},
   "outputs": [],
   "source": [
    "rfm_data['M_class'] = rfm_data['M_class'].replace(\n",
    "    to_replace=['5','4','3','2','1'], \n",
    "    value=['1','2','3','4','5'])"
   ]
  },
  {
   "cell_type": "code",
   "execution_count": 123,
   "metadata": {},
   "outputs": [
    {
     "data": {
      "text/html": [
       "<div>\n",
       "<style scoped>\n",
       "    .dataframe tbody tr th:only-of-type {\n",
       "        vertical-align: middle;\n",
       "    }\n",
       "\n",
       "    .dataframe tbody tr th {\n",
       "        vertical-align: top;\n",
       "    }\n",
       "\n",
       "    .dataframe thead th {\n",
       "        text-align: right;\n",
       "    }\n",
       "</style>\n",
       "<table border=\"1\" class=\"dataframe\">\n",
       "  <thead>\n",
       "    <tr style=\"text-align: right;\">\n",
       "      <th></th>\n",
       "      <th>customer_unique_id</th>\n",
       "      <th>recency</th>\n",
       "      <th>frequency</th>\n",
       "      <th>monetary</th>\n",
       "      <th>R_class</th>\n",
       "      <th>F_class</th>\n",
       "      <th>M_class</th>\n",
       "      <th>RFM</th>\n",
       "    </tr>\n",
       "  </thead>\n",
       "  <tbody>\n",
       "    <tr>\n",
       "      <th>0</th>\n",
       "      <td>c8460e4251689ba205045f3ea17884a1</td>\n",
       "      <td>70.127118</td>\n",
       "      <td>24</td>\n",
       "      <td>4080.00</td>\n",
       "      <td>1</td>\n",
       "      <td>1</td>\n",
       "      <td>1</td>\n",
       "      <td>111</td>\n",
       "    </tr>\n",
       "    <tr>\n",
       "      <th>1</th>\n",
       "      <td>4546caea018ad8c692964e3382debd19</td>\n",
       "      <td>457.965891</td>\n",
       "      <td>21</td>\n",
       "      <td>31.80</td>\n",
       "      <td>3</td>\n",
       "      <td>1</td>\n",
       "      <td>5</td>\n",
       "      <td>315</td>\n",
       "    </tr>\n",
       "    <tr>\n",
       "      <th>2</th>\n",
       "      <td>c402f431464c72e27330a67f7b94d4fb</td>\n",
       "      <td>237.083067</td>\n",
       "      <td>20</td>\n",
       "      <td>2000.00</td>\n",
       "      <td>2</td>\n",
       "      <td>1</td>\n",
       "      <td>1</td>\n",
       "      <td>211</td>\n",
       "    </tr>\n",
       "    <tr>\n",
       "      <th>3</th>\n",
       "      <td>698e1cf81d01a3d389d96145f7fa6df8</td>\n",
       "      <td>420.338704</td>\n",
       "      <td>20</td>\n",
       "      <td>1974.00</td>\n",
       "      <td>3</td>\n",
       "      <td>1</td>\n",
       "      <td>2</td>\n",
       "      <td>312</td>\n",
       "    </tr>\n",
       "    <tr>\n",
       "      <th>4</th>\n",
       "      <td>0f5ac8d5c31de21d2f25e24be15bbffb</td>\n",
       "      <td>324.189387</td>\n",
       "      <td>18</td>\n",
       "      <td>1252.35</td>\n",
       "      <td>2</td>\n",
       "      <td>1</td>\n",
       "      <td>2</td>\n",
       "      <td>212</td>\n",
       "    </tr>\n",
       "    <tr>\n",
       "      <th>92547</th>\n",
       "      <td>5a86385578ed60106d47b031a96b5f62</td>\n",
       "      <td>254.896979</td>\n",
       "      <td>1</td>\n",
       "      <td>120.00</td>\n",
       "      <td>2</td>\n",
       "      <td>4</td>\n",
       "      <td>3</td>\n",
       "      <td>243</td>\n",
       "    </tr>\n",
       "    <tr>\n",
       "      <th>92548</th>\n",
       "      <td>5a853168709c620a1591b3392823bc24</td>\n",
       "      <td>278.815394</td>\n",
       "      <td>1</td>\n",
       "      <td>39.90</td>\n",
       "      <td>2</td>\n",
       "      <td>4</td>\n",
       "      <td>5</td>\n",
       "      <td>245</td>\n",
       "    </tr>\n",
       "    <tr>\n",
       "      <th>92549</th>\n",
       "      <td>5a83ed9c112da985d12f9d1a3762008c</td>\n",
       "      <td>96.148947</td>\n",
       "      <td>1</td>\n",
       "      <td>329.00</td>\n",
       "      <td>1</td>\n",
       "      <td>4</td>\n",
       "      <td>2</td>\n",
       "      <td>142</td>\n",
       "    </tr>\n",
       "    <tr>\n",
       "      <th>92550</th>\n",
       "      <td>5a83824981b849806e4d02b7c7a18950</td>\n",
       "      <td>514.955359</td>\n",
       "      <td>1</td>\n",
       "      <td>52.90</td>\n",
       "      <td>4</td>\n",
       "      <td>4</td>\n",
       "      <td>4</td>\n",
       "      <td>444</td>\n",
       "    </tr>\n",
       "    <tr>\n",
       "      <th>92551</th>\n",
       "      <td>ffffd2657e2aad2907e67c3e9daecbeb</td>\n",
       "      <td>532.883021</td>\n",
       "      <td>1</td>\n",
       "      <td>56.99</td>\n",
       "      <td>4</td>\n",
       "      <td>4</td>\n",
       "      <td>4</td>\n",
       "      <td>444</td>\n",
       "    </tr>\n",
       "  </tbody>\n",
       "</table>\n",
       "</div>"
      ],
      "text/plain": [
       "                     customer_unique_id     recency  frequency  monetary  \\\n",
       "0      c8460e4251689ba205045f3ea17884a1   70.127118         24   4080.00   \n",
       "1      4546caea018ad8c692964e3382debd19  457.965891         21     31.80   \n",
       "2      c402f431464c72e27330a67f7b94d4fb  237.083067         20   2000.00   \n",
       "3      698e1cf81d01a3d389d96145f7fa6df8  420.338704         20   1974.00   \n",
       "4      0f5ac8d5c31de21d2f25e24be15bbffb  324.189387         18   1252.35   \n",
       "92547  5a86385578ed60106d47b031a96b5f62  254.896979          1    120.00   \n",
       "92548  5a853168709c620a1591b3392823bc24  278.815394          1     39.90   \n",
       "92549  5a83ed9c112da985d12f9d1a3762008c   96.148947          1    329.00   \n",
       "92550  5a83824981b849806e4d02b7c7a18950  514.955359          1     52.90   \n",
       "92551  ffffd2657e2aad2907e67c3e9daecbeb  532.883021          1     56.99   \n",
       "\n",
       "      R_class F_class M_class  RFM  \n",
       "0           1       1       1  111  \n",
       "1           3       1       5  315  \n",
       "2           2       1       1  211  \n",
       "3           3       1       2  312  \n",
       "4           2       1       2  212  \n",
       "92547       2       4       3  243  \n",
       "92548       2       4       5  245  \n",
       "92549       1       4       2  142  \n",
       "92550       4       4       4  444  \n",
       "92551       4       4       4  444  "
      ]
     },
     "execution_count": 123,
     "metadata": {},
     "output_type": "execute_result"
    }
   ],
   "source": [
    "rfm_data['RFM'] = rfm_data['R_class'] + rfm_data['F_class'] + rfm_data['M_class']\n",
    "pd.concat([rfm_data.head(), rfm_data.tail()])"
   ]
  },
  {
   "cell_type": "markdown",
   "metadata": {},
   "source": [
    "Визуализируем количество клиентов разных классов"
   ]
  },
  {
   "cell_type": "code",
   "execution_count": 124,
   "metadata": {
    "scrolled": false
   },
   "outputs": [
    {
     "data": {
      "text/plain": [
       "<matplotlib.axes._subplots.AxesSubplot at 0x7f37be653940>"
      ]
     },
     "execution_count": 124,
     "metadata": {},
     "output_type": "execute_result"
    },
    {
     "data": {
      "image/png": "[encoded data removed]",
      "text/plain": [
       "<Figure size 2520x720 with 1 Axes>"
      ]
     },
     "metadata": {},
     "output_type": "display_data"
    }
   ],
   "source": [
    "# по количеству клиентов\n",
    "plt.rcParams[\"figure.figsize\"] = (35,10)\n",
    "sns.countplot(data=rfm_data, x=\"RFM\", order = rfm_data['RFM'].value_counts().index)"
   ]
  },
  {
   "cell_type": "code",
   "execution_count": 125,
   "metadata": {
    "scrolled": false
   },
   "outputs": [
    {
     "data": {
      "text/plain": [
       "95"
      ]
     },
     "execution_count": 125,
     "metadata": {},
     "output_type": "execute_result"
    }
   ],
   "source": [
    "rfm_data.RFM.nunique()"
   ]
  },
  {
   "cell_type": "markdown",
   "metadata": {},
   "source": [
    "С 95 сегментами довольно тяжело работать, поэтому лучше оставить наиболее примечательные из них. Начнем с того, чтобы оставить только сегменты, где не менее 100 клиентов."
   ]
  },
  {
   "cell_type": "code",
   "execution_count": 126,
   "metadata": {},
   "outputs": [],
   "source": [
    "RFM_large_segments = rfm_data.groupby('RFM',as_index = False).agg({'customer_unique_id':'count'}).query('customer_unique_id > 100')"
   ]
  },
  {
   "cell_type": "code",
   "execution_count": 127,
   "metadata": {},
   "outputs": [],
   "source": [
    "rfm_data_priority = rfm_data[rfm_data.RFM.isin(RFM_large_segments.RFM)]"
   ]
  },
  {
   "cell_type": "markdown",
   "metadata": {},
   "source": [
    "Выделим следующие сегменты:\n",
    "* Сегменты с наименьшим количеством дней с прошлой покупки и единственной покупкой: **newcomer**\n",
    "* Сегменты с наибольшим количеством дней с прошлой покупки и единственной покупкой: **dead**\n",
    "* Недавние покупатели с большой суммой и количеством покупок: **best_customer**\n",
    "* Сегменты со средним количеством дней с прошлой покупки и большим количеством и суммой покупок: **priority_for_retention**"
   ]
  },
  {
   "cell_type": "code",
   "execution_count": 128,
   "metadata": {
    "scrolled": true
   },
   "outputs": [
    {
     "data": {
      "text/html": [
       "<div>\n",
       "<style scoped>\n",
       "    .dataframe tbody tr th:only-of-type {\n",
       "        vertical-align: middle;\n",
       "    }\n",
       "\n",
       "    .dataframe tbody tr th {\n",
       "        vertical-align: top;\n",
       "    }\n",
       "\n",
       "    .dataframe thead th {\n",
       "        text-align: right;\n",
       "    }\n",
       "</style>\n",
       "<table border=\"1\" class=\"dataframe\">\n",
       "  <thead>\n",
       "    <tr style=\"text-align: right;\">\n",
       "      <th></th>\n",
       "      <th>customer_unique_id</th>\n",
       "      <th>recency</th>\n",
       "      <th>frequency</th>\n",
       "      <th>monetary</th>\n",
       "      <th>R_class</th>\n",
       "      <th>F_class</th>\n",
       "      <th>M_class</th>\n",
       "      <th>RFM</th>\n",
       "      <th>Segment</th>\n",
       "    </tr>\n",
       "  </thead>\n",
       "  <tbody>\n",
       "    <tr>\n",
       "      <th>3</th>\n",
       "      <td>698e1cf81d01a3d389d96145f7fa6df8</td>\n",
       "      <td>420.338704</td>\n",
       "      <td>20</td>\n",
       "      <td>1974.00</td>\n",
       "      <td>3</td>\n",
       "      <td>1</td>\n",
       "      <td>2</td>\n",
       "      <td>312</td>\n",
       "      <td>priority_for_retention</td>\n",
       "    </tr>\n",
       "    <tr>\n",
       "      <th>4</th>\n",
       "      <td>0f5ac8d5c31de21d2f25e24be15bbffb</td>\n",
       "      <td>324.189387</td>\n",
       "      <td>18</td>\n",
       "      <td>1252.35</td>\n",
       "      <td>2</td>\n",
       "      <td>1</td>\n",
       "      <td>2</td>\n",
       "      <td>212</td>\n",
       "      <td>priority_for_retention</td>\n",
       "    </tr>\n",
       "    <tr>\n",
       "      <th>5</th>\n",
       "      <td>eae0a83d752b1dd32697e0e7b4221656</td>\n",
       "      <td>176.016250</td>\n",
       "      <td>15</td>\n",
       "      <td>1821.73</td>\n",
       "      <td>1</td>\n",
       "      <td>1</td>\n",
       "      <td>2</td>\n",
       "      <td>112</td>\n",
       "      <td>best_customers</td>\n",
       "    </tr>\n",
       "    <tr>\n",
       "      <th>7</th>\n",
       "      <td>8d50f5eadf50201ccdcedfb9e2ac8455</td>\n",
       "      <td>57.927685</td>\n",
       "      <td>15</td>\n",
       "      <td>714.63</td>\n",
       "      <td>1</td>\n",
       "      <td>1</td>\n",
       "      <td>2</td>\n",
       "      <td>112</td>\n",
       "      <td>best_customers</td>\n",
       "    </tr>\n",
       "    <tr>\n",
       "      <th>8</th>\n",
       "      <td>3e43e6105506432c953e165fb2acf44c</td>\n",
       "      <td>231.953924</td>\n",
       "      <td>14</td>\n",
       "      <td>1000.85</td>\n",
       "      <td>2</td>\n",
       "      <td>1</td>\n",
       "      <td>2</td>\n",
       "      <td>212</td>\n",
       "      <td>priority_for_retention</td>\n",
       "    </tr>\n",
       "  </tbody>\n",
       "</table>\n",
       "</div>"
      ],
      "text/plain": [
       "                 customer_unique_id     recency  frequency  monetary R_class  \\\n",
       "3  698e1cf81d01a3d389d96145f7fa6df8  420.338704         20   1974.00       3   \n",
       "4  0f5ac8d5c31de21d2f25e24be15bbffb  324.189387         18   1252.35       2   \n",
       "5  eae0a83d752b1dd32697e0e7b4221656  176.016250         15   1821.73       1   \n",
       "7  8d50f5eadf50201ccdcedfb9e2ac8455   57.927685         15    714.63       1   \n",
       "8  3e43e6105506432c953e165fb2acf44c  231.953924         14   1000.85       2   \n",
       "\n",
       "  F_class M_class  RFM                 Segment  \n",
       "3       1       2  312  priority_for_retention  \n",
       "4       1       2  212  priority_for_retention  \n",
       "5       1       2  112          best_customers  \n",
       "7       1       2  112          best_customers  \n",
       "8       1       2  212  priority_for_retention  "
      ]
     },
     "execution_count": 128,
     "metadata": {},
     "output_type": "execute_result"
    }
   ],
   "source": [
    "segt_map = {\n",
    "    r'15': 'newcomers',\n",
    "    r'55': 'dead',\n",
    "    r'1[1-2][1-2]': 'best_customers',\n",
    "    r'[2-3][1-2][1-2]': 'priority_for_retention',\n",
    "}\n",
    "\n",
    "rfm_data_priority['Segment'] = rfm_data_priority['RFM']\n",
    "rfm_data_priority['Segment'] = rfm_data_priority['Segment'].replace(segt_map, regex=True)\n",
    "rfm_data_priority.head()"
   ]
  },
  {
   "cell_type": "markdown",
   "metadata": {},
   "source": [
    "... И передадим сегментацию маркетологам для дальнейшего использования)"
   ]
  }
 ],
 "metadata": {
  "kernelspec": {
   "display_name": "Python 3",
   "language": "python",
   "name": "python3"
  },
  "language_info": {
   "codemirror_mode": {
    "name": "ipython",
    "version": 3
   },
   "file_extension": ".py",
   "mimetype": "text/x-python",
   "name": "python",
   "nbconvert_exporter": "python",
   "pygments_lexer": "ipython3",
   "version": "3.7.3"
  }
 },
 "nbformat": 4,
 "nbformat_minor": 4
}
